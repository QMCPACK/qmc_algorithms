{
 "cells": [
  {
   "cell_type": "code",
   "execution_count": 1,
   "metadata": {},
   "outputs": [],
   "source": [
    "from sympy import *\n",
    "from IPython.display import display\n",
    "import numpy as np\n",
    "import matplotlib.pyplot as plt\n",
    "%matplotlib inline\n",
    "init_printing()"
   ]
  },
  {
   "cell_type": "markdown",
   "metadata": {},
   "source": [
    "### Parameter derivatives of the VMC energy\n",
    "\n",
    "Take a derivative of the VMC energy with respect to parameters in the wavefunction.   Express it in terms of values to be collected during a VMC run."
   ]
  },
  {
   "cell_type": "code",
   "execution_count": 2,
   "metadata": {},
   "outputs": [],
   "source": [
    "# Wavefunction\n",
    "psi = Function('psi')\n",
    "\n",
    "# Variational parameter\n",
    "p = Symbol('p')\n",
    "\n",
    "# Local energy\n",
    "Eloc = Function('E_L')\n",
    "\n",
    "# Spatial coordinate\n",
    "x = Symbol('x')"
   ]
  },
  {
   "cell_type": "code",
   "execution_count": 3,
   "metadata": {},
   "outputs": [
    {
     "data": {
      "image/png": "[encoded data removed]",
      "text/latex": [
       "$\\displaystyle \\int \\psi^{2}{\\left(p,x \\right)}\\, dx$"
      ],
      "text/plain": [
       "⌠            \n",
       "⎮  2         \n",
       "⎮ ψ (p, x) dx\n",
       "⌡            "
      ]
     },
     "execution_count": 3,
     "metadata": {},
     "output_type": "execute_result"
    }
   ],
   "source": [
    "# Wavefunction normalization integral\n",
    "\n",
    "norm = Integral(psi(p,x)*psi(p,x),x)\n",
    "norm"
   ]
  },
  {
   "cell_type": "code",
   "execution_count": 4,
   "metadata": {},
   "outputs": [
    {
     "data": {
      "image/png": "[encoded data removed]",
      "text/latex": [
       "$\\displaystyle \\int \\operatorname{E_{L}}{\\left(p,x \\right)} \\psi^{2}{\\left(p,x \\right)}\\, dx$"
      ],
      "text/plain": [
       "⌠                      \n",
       "⎮            2         \n",
       "⎮ E_L(p, x)⋅ψ (p, x) dx\n",
       "⌡                      "
      ]
     },
     "execution_count": 4,
     "metadata": {},
     "output_type": "execute_result"
    }
   ],
   "source": [
    "# Energy integral (numerator)\n",
    "num = Integral(psi(p,x)*psi(p,x)*Eloc(p,x),x)\n",
    "num"
   ]
  },
  {
   "cell_type": "code",
   "execution_count": 5,
   "metadata": {},
   "outputs": [
    {
     "data": {
      "image/png": "[encoded data removed]",
      "text/latex": [
       "$\\displaystyle - \\frac{\\left(\\int \\operatorname{E_{L}}{\\left(p,x \\right)} \\psi^{2}{\\left(p,x \\right)}\\, dx\\right) \\int 2 \\psi{\\left(p,x \\right)} \\frac{\\partial}{\\partial p} \\psi{\\left(p,x \\right)}\\, dx}{\\left(\\int \\psi^{2}{\\left(p,x \\right)}\\, dx\\right)^{2}} + \\frac{\\int \\left(2 \\operatorname{E_{L}}{\\left(p,x \\right)} \\psi{\\left(p,x \\right)} \\frac{\\partial}{\\partial p} \\psi{\\left(p,x \\right)} + \\psi^{2}{\\left(p,x \\right)} \\frac{\\partial}{\\partial p} \\operatorname{E_{L}}{\\left(p,x \\right)}\\right)\\, dx}{\\int \\psi^{2}{\\left(p,x \\right)}\\, dx}$"
      ],
      "text/plain": [
       "  ⎛⌠                      ⎞ ⌠                            ⌠                    \n",
       "  ⎜⎮            2         ⎟ ⎮           ∂                ⎮ ⎛                  \n",
       "  ⎜⎮ E_L(p, x)⋅ψ (p, x) dx⎟⋅⎮ 2⋅ψ(p, x)⋅──(ψ(p, x)) dx   ⎮ ⎜2⋅E_L(p, x)⋅ψ(p, x\n",
       "  ⎝⌡                      ⎠ ⎮           ∂p               ⎮ ⎝                  \n",
       "                            ⌡                            ⌡                    \n",
       "- ──────────────────────────────────────────────────── + ─────────────────────\n",
       "                                   2                                          \n",
       "                    ⎛⌠            ⎞                                           \n",
       "                    ⎜⎮  2         ⎟                                           \n",
       "                    ⎜⎮ ψ (p, x) dx⎟                                           \n",
       "                    ⎝⌡            ⎠                                           \n",
       "\n",
       "                                          \n",
       "  ∂              2       ∂            ⎞   \n",
       ")⋅──(ψ(p, x)) + ψ (p, x)⋅──(E_L(p, x))⎟ dx\n",
       "  ∂p                     ∂p           ⎠   \n",
       "                                          \n",
       "──────────────────────────────────────────\n",
       "    ⌠                                     \n",
       "    ⎮  2                                  \n",
       "    ⎮ ψ (p, x) dx                         \n",
       "    ⌡                                     \n",
       "                                          "
      ]
     },
     "execution_count": 5,
     "metadata": {},
     "output_type": "execute_result"
    }
   ],
   "source": [
    "# Derivative with respect to parameter p\n",
    "pd = diff(num/norm,p)\n",
    "pd"
   ]
  },
  {
   "cell_type": "code",
   "execution_count": 6,
   "metadata": {},
   "outputs": [
    {
     "data": {
      "image/png": "[encoded data removed]",
      "text/latex": [
       "$\\displaystyle - \\frac{\\left(\\int \\operatorname{E_{L}}{\\left(p,x \\right)} \\psi^{2}{\\left(p,x \\right)}\\, dx\\right) \\int 2 \\psi{\\left(p,x \\right)} \\frac{\\partial}{\\partial p} \\psi{\\left(p,x \\right)}\\, dx}{\\left(\\int \\psi^{2}{\\left(p,x \\right)}\\, dx\\right)^{2}} + \\frac{\\int \\psi^{2}{\\left(p,x \\right)} \\frac{\\partial}{\\partial p} \\operatorname{E_{L}}{\\left(p,x \\right)}\\, dx}{\\int \\psi^{2}{\\left(p,x \\right)}\\, dx} + \\frac{\\int 2 \\operatorname{E_{L}}{\\left(p,x \\right)} \\psi{\\left(p,x \\right)} \\frac{\\partial}{\\partial p} \\psi{\\left(p,x \\right)}\\, dx}{\\int \\psi^{2}{\\left(p,x \\right)}\\, dx}$"
      ],
      "text/plain": [
       "  ⎛⌠                      ⎞ ⌠                            ⌠                    \n",
       "  ⎜⎮            2         ⎟ ⎮           ∂                ⎮  2       ∂         \n",
       "  ⎜⎮ E_L(p, x)⋅ψ (p, x) dx⎟⋅⎮ 2⋅ψ(p, x)⋅──(ψ(p, x)) dx   ⎮ ψ (p, x)⋅──(E_L(p, \n",
       "  ⎝⌡                      ⎠ ⎮           ∂p               ⎮          ∂p        \n",
       "                            ⌡                            ⌡                    \n",
       "- ──────────────────────────────────────────────────── + ─────────────────────\n",
       "                                   2                            ⌠             \n",
       "                    ⎛⌠            ⎞                             ⎮  2          \n",
       "                    ⎜⎮  2         ⎟                             ⎮ ψ (p, x) dx \n",
       "                    ⎜⎮ ψ (p, x) dx⎟                             ⌡             \n",
       "                    ⎝⌡            ⎠                                           \n",
       "\n",
       "         ⌠                                   \n",
       "         ⎮                     ∂             \n",
       "x)) dx   ⎮ 2⋅E_L(p, x)⋅ψ(p, x)⋅──(ψ(p, x)) dx\n",
       "         ⎮                     ∂p            \n",
       "         ⌡                                   \n",
       "────── + ────────────────────────────────────\n",
       "                    ⌠                        \n",
       "                    ⎮  2                     \n",
       "                    ⎮ ψ (p, x) dx            \n",
       "                    ⌡                        \n",
       "                                             "
      ]
     },
     "execution_count": 6,
     "metadata": {},
     "output_type": "execute_result"
    }
   ],
   "source": [
    "expand(pd)"
   ]
  },
  {
   "cell_type": "code",
   "execution_count": 7,
   "metadata": {},
   "outputs": [
    {
     "data": {
      "text/plain": [
       "E'"
      ]
     },
     "execution_count": 7,
     "metadata": {},
     "output_type": "execute_result"
    }
   ],
   "source": [
    "# Define a function that is the derivative the local energy (wrt parameter p)\n",
    "Eloc_p = Function(\"E'\")\n",
    "Eloc_p"
   ]
  },
  {
   "cell_type": "code",
   "execution_count": 8,
   "metadata": {},
   "outputs": [
    {
     "data": {
      "image/png": "[encoded data removed]",
      "text/latex": [
       "$\\displaystyle \\frac{\\int \\left(2 \\operatorname{E_{L}}{\\left(p,x \\right)} \\psi{\\left(p,x \\right)} \\frac{\\partial}{\\partial p} \\psi{\\left(p,x \\right)} + \\psi^{2}{\\left(p,x \\right)} \\frac{\\partial}{\\partial p} \\operatorname{E_{L}}{\\left(p,x \\right)}\\right)\\, dx}{N} - \\frac{\\left(\\int \\operatorname{E_{L}}{\\left(p,x \\right)} \\psi^{2}{\\left(p,x \\right)}\\, dx\\right) \\int 2 \\psi{\\left(p,x \\right)} \\frac{\\partial}{\\partial p} \\psi{\\left(p,x \\right)}\\, dx}{N^{2}}$"
      ],
      "text/plain": [
       "⌠                                                                 ⎛⌠          \n",
       "⎮ ⎛                    ∂              2       ∂            ⎞      ⎜⎮          \n",
       "⎮ ⎜2⋅E_L(p, x)⋅ψ(p, x)⋅──(ψ(p, x)) + ψ (p, x)⋅──(E_L(p, x))⎟ dx   ⎜⎮ E_L(p, x)\n",
       "⎮ ⎝                    ∂p                     ∂p           ⎠      ⎝⌡          \n",
       "⌡                                                                             \n",
       "─────────────────────────────────────────────────────────────── - ────────────\n",
       "                               N                                              \n",
       "                                                                              \n",
       "\n",
       "            ⎞ ⌠                         \n",
       "  2         ⎟ ⎮           ∂             \n",
       "⋅ψ (p, x) dx⎟⋅⎮ 2⋅ψ(p, x)⋅──(ψ(p, x)) dx\n",
       "            ⎠ ⎮           ∂p            \n",
       "              ⌡                         \n",
       "────────────────────────────────────────\n",
       "              2                         \n",
       "             N                          "
      ]
     },
     "execution_count": 8,
     "metadata": {},
     "output_type": "execute_result"
    }
   ],
   "source": [
    "# Replace normalization integral with N\n",
    "N = Symbol('N')\n",
    "pd2 = pd.subs(norm, N)\n",
    "pd2"
   ]
  },
  {
   "cell_type": "code",
   "execution_count": null,
   "metadata": {},
   "outputs": [],
   "source": []
  },
  {
   "cell_type": "code",
   "execution_count": 9,
   "metadata": {},
   "outputs": [
    {
     "data": {
      "text/plain": [
       "(Derivative(E_L(p, x), p), sympy.core.function.Derivative)"
      ]
     },
     "execution_count": 9,
     "metadata": {},
     "output_type": "execute_result"
    }
   ],
   "source": [
    "d = diff(Eloc(p,x),p)\n",
    "d, type(d)"
   ]
  },
  {
   "cell_type": "code",
   "execution_count": 10,
   "metadata": {},
   "outputs": [
    {
     "data": {
      "image/png": "[encoded data removed]",
      "text/latex": [
       "$\\displaystyle \\frac{\\int \\operatorname{E'}{\\left(p,x \\right)} \\psi^{2}{\\left(p,x \\right)}\\, dx}{N} + \\frac{\\int 2 \\operatorname{E_{L}}{\\left(p,x \\right)} \\psi{\\left(p,x \\right)} \\frac{\\partial}{\\partial p} \\psi{\\left(p,x \\right)}\\, dx}{N} - \\frac{\\left(\\int \\operatorname{E_{L}}{\\left(p,x \\right)} \\psi^{2}{\\left(p,x \\right)}\\, dx\\right) \\int 2 \\psi{\\left(p,x \\right)} \\frac{\\partial}{\\partial p} \\psi{\\left(p,x \\right)}\\, dx}{N^{2}}$"
      ],
      "text/plain": [
       "                         ⌠                                      ⎛⌠            \n",
       "⌠                        ⎮                     ∂                ⎜⎮            \n",
       "⎮           2            ⎮ 2⋅E_L(p, x)⋅ψ(p, x)⋅──(ψ(p, x)) dx   ⎜⎮ E_L(p, x)⋅ψ\n",
       "⎮ E'(p, x)⋅ψ (p, x) dx   ⎮                     ∂p               ⎝⌡            \n",
       "⌡                        ⌡                                                    \n",
       "────────────────────── + ──────────────────────────────────── - ──────────────\n",
       "          N                               N                                   \n",
       "                                                                              \n",
       "\n",
       "          ⎞ ⌠                         \n",
       "2         ⎟ ⎮           ∂             \n",
       " (p, x) dx⎟⋅⎮ 2⋅ψ(p, x)⋅──(ψ(p, x)) dx\n",
       "          ⎠ ⎮           ∂p            \n",
       "            ⌡                         \n",
       "──────────────────────────────────────\n",
       "            2                         \n",
       "           N                          "
      ]
     },
     "execution_count": 10,
     "metadata": {},
     "output_type": "execute_result"
    }
   ],
   "source": [
    "# Replace derivative of local energy with function\n",
    "pd3 = expand(pd2.replace(diff(Eloc(p,x),p), Eloc_p(p,x)))\n",
    "pd3"
   ]
  },
  {
   "cell_type": "code",
   "execution_count": 11,
   "metadata": {},
   "outputs": [
    {
     "data": {
      "text/plain": [
       "\\psi'"
      ]
     },
     "execution_count": 11,
     "metadata": {},
     "output_type": "execute_result"
    }
   ],
   "source": [
    "# Define function that is the derivative of the wavefunction (wrt parameter p)\n",
    "psi_p = Function(\"\\psi'\")\n",
    "psi_p"
   ]
  },
  {
   "cell_type": "code",
   "execution_count": 12,
   "metadata": {},
   "outputs": [
    {
     "data": {
      "image/png": "[encoded data removed]",
      "text/latex": [
       "$\\displaystyle \\frac{\\int \\operatorname{E'}{\\left(p,x \\right)} \\psi^{2}{\\left(p,x \\right)}\\, dx}{N} + \\frac{\\int 2 \\operatorname{E_{L}}{\\left(p,x \\right)} \\psi'{\\left(p,x \\right)} \\psi{\\left(p,x \\right)}\\, dx}{N} - \\frac{\\left(\\int \\operatorname{E_{L}}{\\left(p,x \\right)} \\psi^{2}{\\left(p,x \\right)}\\, dx\\right) \\int 2 \\psi'{\\left(p,x \\right)} \\psi{\\left(p,x \\right)}\\, dx}{N^{2}}$"
      ],
      "text/plain": [
       "⌠                                                               ⎛⌠            \n",
       "⎮           2            ⌠                                      ⎜⎮            \n",
       "⎮ E'(p, x)⋅ψ (p, x) dx   ⎮ 2⋅E_L(p, x)⋅\\psi'(p, x)⋅ψ(p, x) dx   ⎜⎮ E_L(p, x)⋅ψ\n",
       "⌡                        ⌡                                      ⎝⌡            \n",
       "────────────────────── + ──────────────────────────────────── - ──────────────\n",
       "          N                               N                                   \n",
       "                                                                              \n",
       "\n",
       "          ⎞                           \n",
       "2         ⎟ ⌠                         \n",
       " (p, x) dx⎟⋅⎮ 2⋅\\psi'(p, x)⋅ψ(p, x) dx\n",
       "          ⎠ ⌡                         \n",
       "──────────────────────────────────────\n",
       "            2                         \n",
       "           N                          "
      ]
     },
     "execution_count": 12,
     "metadata": {},
     "output_type": "execute_result"
    }
   ],
   "source": [
    "pd4 = pd3.replace(diff(psi(p,x),p),psi_p(p,x))\n",
    "pd4"
   ]
  },
  {
   "cell_type": "code",
   "execution_count": 13,
   "metadata": {},
   "outputs": [],
   "source": [
    "# Need to collect\n",
    "# E_L (the usual VMC energy), E',  E_L*psi', and psi'/psi\n",
    "\n",
    "E_ave = Symbol(\"<E>\")\n",
    "Ep_ave = Symbol(\"<E'>\")\n",
    "psip_ave = Symbol(\"<\\psi'/\\psi>\")\n",
    "E_psip_ave = Symbol(\"<E \\psi'/\\psi>\")"
   ]
  },
  {
   "cell_type": "code",
   "execution_count": 14,
   "metadata": {},
   "outputs": [
    {
     "data": {
      "image/png": "[encoded data removed]",
      "text/latex": [
       "$\\displaystyle \\frac{\\int 2 \\operatorname{E_{L}}{\\left(p,x \\right)} \\psi'{\\left(p,x \\right)} \\psi{\\left(p,x \\right)}\\, dx}{N}$"
      ],
      "text/plain": [
       "⌠                                   \n",
       "⎮ 2⋅E_L(p, x)⋅\\psi'(p, x)⋅ψ(p, x) dx\n",
       "⌡                                   \n",
       "────────────────────────────────────\n",
       "                 N                  "
      ]
     },
     "execution_count": 14,
     "metadata": {},
     "output_type": "execute_result"
    }
   ],
   "source": [
    "E_psip_integral = Integral(2*Eloc(p,x) * psi_p(p,x) * psi(p,x), x)/N\n",
    "E_psip_integral"
   ]
  },
  {
   "cell_type": "code",
   "execution_count": 15,
   "metadata": {},
   "outputs": [
    {
     "data": {
      "image/png": "[encoded data removed]",
      "text/latex": [
       "$\\displaystyle \\frac{\\int \\operatorname{E_{L}}{\\left(p,x \\right)} \\psi^{2}{\\left(p,x \\right)}\\, dx}{N}$"
      ],
      "text/plain": [
       "⌠                      \n",
       "⎮            2         \n",
       "⎮ E_L(p, x)⋅ψ (p, x) dx\n",
       "⌡                      \n",
       "───────────────────────\n",
       "           N           "
      ]
     },
     "execution_count": 15,
     "metadata": {},
     "output_type": "execute_result"
    }
   ],
   "source": [
    "E_integral = Integral(Eloc(p,x) * psi(p,x)**2, x)/N\n",
    "E_integral"
   ]
  },
  {
   "cell_type": "code",
   "execution_count": 16,
   "metadata": {},
   "outputs": [
    {
     "data": {
      "image/png": "[encoded data removed]",
      "text/latex": [
       "$\\displaystyle \\frac{\\int \\operatorname{E'}{\\left(p,x \\right)} \\psi^{2}{\\left(p,x \\right)}\\, dx}{N}$"
      ],
      "text/plain": [
       "⌠                     \n",
       "⎮           2         \n",
       "⎮ E'(p, x)⋅ψ (p, x) dx\n",
       "⌡                     \n",
       "──────────────────────\n",
       "          N           "
      ]
     },
     "execution_count": 16,
     "metadata": {},
     "output_type": "execute_result"
    }
   ],
   "source": [
    "Ep_integral = Integral(Eloc_p(p,x) * psi(p,x)**2, x)/N\n",
    "Ep_integral"
   ]
  },
  {
   "cell_type": "code",
   "execution_count": 17,
   "metadata": {},
   "outputs": [
    {
     "data": {
      "image/png": "[encoded data removed]",
      "text/latex": [
       "$\\displaystyle \\frac{\\int 2 \\psi'{\\left(p,x \\right)} \\psi{\\left(p,x \\right)}\\, dx}{N}$"
      ],
      "text/plain": [
       "⌠                         \n",
       "⎮ 2⋅\\psi'(p, x)⋅ψ(p, x) dx\n",
       "⌡                         \n",
       "──────────────────────────\n",
       "            N             "
      ]
     },
     "execution_count": 17,
     "metadata": {},
     "output_type": "execute_result"
    }
   ],
   "source": [
    "psip_integral = Integral(2*psi_p(p,x) * psi(p,x),x)/N\n",
    "psip_integral"
   ]
  },
  {
   "cell_type": "code",
   "execution_count": 18,
   "metadata": {},
   "outputs": [
    {
     "data": {
      "image/png": "[encoded data removed]",
      "text/latex": [
       "$\\displaystyle 2 <E \\psi'/\\psi> + <E'> - 2 <E> <\\psi'/\\psi>$"
      ],
      "text/plain": [
       "2⋅<E \\psi'/\\psi> + <E'> - 2⋅<E>⋅<\\psi'/\\psi>"
      ]
     },
     "execution_count": 18,
     "metadata": {},
     "output_type": "execute_result"
    }
   ],
   "source": [
    "pd5 = pd4.subs(E_integral, E_ave).subs(Ep_integral, Ep_ave).\\\n",
    "subs(psip_integral, 2*psip_ave).subs(E_psip_integral, 2*E_psip_ave)\n",
    "pd5"
   ]
  },
  {
   "cell_type": "code",
   "execution_count": null,
   "metadata": {},
   "outputs": [],
   "source": []
  },
  {
   "cell_type": "code",
   "execution_count": null,
   "metadata": {},
   "outputs": [],
   "source": []
  }
 ],
 "metadata": {
  "kernelspec": {
   "display_name": "Python 3",
   "language": "python",
   "name": "python3"
  },
  "language_info": {
   "codemirror_mode": {
    "name": "ipython",
    "version": 3
   },
   "file_extension": ".py",
   "mimetype": "text/x-python",
   "name": "python",
   "nbconvert_exporter": "python",
   "pygments_lexer": "ipython3",
   "version": "3.7.3"
  }
 },
 "nbformat": 4,
 "nbformat_minor": 2
}
