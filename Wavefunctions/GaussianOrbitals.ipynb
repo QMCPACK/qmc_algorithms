{
 "cells": [
  {
   "cell_type": "code",
   "execution_count": 1,
   "metadata": {},
   "outputs": [],
   "source": [
    "from __future__ import print_function\n",
    "import numpy as np\n",
    "import math\n",
    "from IPython.display import display\n",
    "from sympy import *\n",
    "init_printing()\n",
    "import matplotlib.pyplot as plt\n",
    "%matplotlib inline\n",
    "\n",
    "def display_eq(a,e):\n",
    "    if isinstance(a, str):\n",
    "            a = Symbol(a)\n",
    "    display(Eq(a,e))"
   ]
  },
  {
   "cell_type": "markdown",
   "metadata": {},
   "source": [
    "## Gaussian Type Orbitals\n",
    "\n",
    "Gaussian-type orbitals are frequently used for single particle orbitals in QMC."
   ]
  },
  {
   "cell_type": "code",
   "execution_count": 2,
   "metadata": {},
   "outputs": [],
   "source": [
    "x,y,z = symbols('x y z')\n",
    "alpha = Symbol('alpha', positive=True, real=True)\n",
    "r = Symbol('r',real=True,nonnegative=True)\n",
    "i,j,k = symbols('i j k',integer=True)\n",
    "N = Symbol('N')"
   ]
  },
  {
   "cell_type": "markdown",
   "metadata": {},
   "source": [
    "The form for the primitive orbital is"
   ]
  },
  {
   "cell_type": "code",
   "execution_count": 3,
   "metadata": {},
   "outputs": [
    {
     "data": {
      "image/png": "[encoded data removed]",
      "text/latex": [
       "$$N x^{i} y^{j} z^{k} e^{- \\alpha r^{2}}$$"
      ],
      "text/plain": [
       "                2\n",
       "   i  j  k  -α⋅r \n",
       "N⋅x ⋅y ⋅z ⋅ℯ     "
      ]
     },
     "metadata": {},
     "output_type": "display_data"
    }
   ],
   "source": [
    "gto_sym = N * x**i * y**j * z**k * exp(-alpha *r**2)\n",
    "display(gto_sym)"
   ]
  },
  {
   "cell_type": "markdown",
   "metadata": {},
   "source": [
    "The normalization ($N$) is given by"
   ]
  },
  {
   "cell_type": "code",
   "execution_count": 4,
   "metadata": {},
   "outputs": [
    {
     "data": {
      "image/png": "[encoded data removed]",
      "text/latex": [
       "$$\\frac{2^{\\frac{3}{4}} \\alpha^{\\frac{3}{4}}}{\\pi^{\\frac{3}{4}}} \\sqrt{\\frac{\\left(8 \\alpha\\right)^{i + j + k} i! j! k!}{\\left(2 i\\right)! \\left(2 j\\right)! \\left(2 k\\right)!}}$$"
      ],
      "text/plain": [
       "               _________________________\n",
       "              ╱      i + j + k          \n",
       " 3/4  3/4    ╱  (8⋅α)         ⋅i!⋅j!⋅k! \n",
       "2   ⋅α   ⋅  ╱   ─────────────────────── \n",
       "          ╲╱      (2⋅i)!⋅(2⋅j)!⋅(2⋅k)!  \n",
       "────────────────────────────────────────\n",
       "                   3/4                  \n",
       "                  π                     "
      ]
     },
     "execution_count": 4,
     "metadata": {},
     "output_type": "execute_result"
    }
   ],
   "source": [
    "n1 = factorial(i)*factorial(j)*factorial(k)\n",
    "n2 = factorial(2*i)*factorial(2*j)*factorial(2*k)\n",
    "norm_sym = (2*alpha/pi)**(3/S(4)) * sqrt((8*alpha)**(i+j+k)*n1/n2)\n",
    "norm_sym"
   ]
  },
  {
   "cell_type": "markdown",
   "metadata": {},
   "source": [
    "Sometimes the normalization is written in terms of a double factorial.  The expression can be converted between notations using identities like $\\frac{(2i)!}{!i!2^i} = (2i-1)!!$.\n",
    "\n",
    "For more information, see the [Double Factorial entry at MathWorld](http://mathworld.wolfram.com/DoubleFactorial.html)"
   ]
  },
  {
   "cell_type": "markdown",
   "metadata": {},
   "source": [
    "QMCPACK splits the normalization between the radial and angular parts.  The normalization can be derived."
   ]
  },
  {
   "cell_type": "markdown",
   "metadata": {},
   "source": [
    "### Check normalization\n",
    "\n",
    "Derive the normalization for the simplest case."
   ]
  },
  {
   "cell_type": "code",
   "execution_count": 5,
   "metadata": {},
   "outputs": [
    {
     "data": {
      "image/png": "[encoded data removed]",
      "text/latex": [
       "$$\\phi_{000} = e^{- \\alpha r^{2}}$$"
      ],
      "text/plain": [
       "            2\n",
       "        -α⋅r \n",
       "φ₀₀₀ = ℯ     "
      ]
     },
     "metadata": {},
     "output_type": "display_data"
    }
   ],
   "source": [
    "# Derive the normalization for the simplest case (i=j=k=0)\n",
    "gto000 = gto_sym.subs({N:1,i:0,j:0,k:0})\n",
    "display_eq('phi_000',gto000)"
   ]
  },
  {
   "cell_type": "code",
   "execution_count": 6,
   "metadata": {},
   "outputs": [
    {
     "data": {
      "image/png": "[encoded data removed]",
      "text/latex": [
       "$$\\frac{\\sqrt{2} \\sqrt{\\pi}}{16 \\alpha^{\\frac{3}{2}}}$$"
      ],
      "text/plain": [
       " √2⋅√π \n",
       "───────\n",
       "    3/2\n",
       "16⋅α   "
      ]
     },
     "metadata": {},
     "output_type": "display_data"
    }
   ],
   "source": [
    "# Integrate the radial part\n",
    "val_int = integrate(r*r*gto000*gto000, (r,0,oo))\n",
    "display(val_int)"
   ]
  },
  {
   "cell_type": "code",
   "execution_count": 7,
   "metadata": {},
   "outputs": [
    {
     "data": {
      "image/png": "[encoded data removed]",
      "text/latex": [
       "$$N_{radial} = \\frac{2 \\alpha^{\\frac{3}{4}}}{\\sqrt[4]{\\pi}} 2^{\\frac{3}{4}}$$"
      ],
      "text/plain": [
       "              3/4  3/4\n",
       "           2⋅2   ⋅α   \n",
       "N_radial = ───────────\n",
       "              4 ___   \n",
       "              ╲╱ π    "
      ]
     },
     "metadata": {},
     "output_type": "display_data"
    }
   ],
   "source": [
    "# Normalization for just the radial part\n",
    "radial_norm = 1/sqrt(val_int)\n",
    "display_eq('N_radial',radial_norm)"
   ]
  },
  {
   "cell_type": "code",
   "execution_count": 8,
   "metadata": {},
   "outputs": [
    {
     "data": {
      "image/png": "[encoded data removed]",
      "text/latex": [
       "$$N_{000} = \\frac{2^{\\frac{3}{4}} \\alpha^{\\frac{3}{4}}}{\\pi^{\\frac{3}{4}}}$$"
      ],
      "text/plain": [
       "        3/4  3/4\n",
       "       2   ⋅α   \n",
       "N₀₀₀ = ─────────\n",
       "           3/4  \n",
       "          π     "
      ]
     },
     "metadata": {},
     "output_type": "display_data"
    }
   ],
   "source": [
    "# The full norm includes the factor of 4*pi from the angular integration\n",
    "full_norm = 1/sqrt(4*pi*val_int)\n",
    "display_eq('N_000',full_norm)"
   ]
  },
  {
   "cell_type": "code",
   "execution_count": 9,
   "metadata": {},
   "outputs": [
    {
     "data": {
      "image/png": "[encoded data removed]",
      "text/latex": [
       "$$\\frac{2^{\\frac{3}{4}} \\alpha^{\\frac{3}{4}}}{\\pi^{\\frac{3}{4}}}$$"
      ],
      "text/plain": [
       " 3/4  3/4\n",
       "2   ⋅α   \n",
       "─────────\n",
       "    3/4  \n",
       "   π     "
      ]
     },
     "execution_count": 9,
     "metadata": {},
     "output_type": "execute_result"
    }
   ],
   "source": [
    "# Compare with the previous expression for N\n",
    "norm_sym.subs({i:0,j:0,k:0})"
   ]
  },
  {
   "cell_type": "markdown",
   "metadata": {},
   "source": [
    "### Higher angular momentum\n",
    "Now check the normalization for higher values of $L=i+j+k$."
   ]
  },
  {
   "cell_type": "code",
   "execution_count": 10,
   "metadata": {},
   "outputs": [
    {
     "data": {
      "image/png": "[encoded data removed]",
      "text/latex": [
       "$$\\phi_{L00} = x^{L} e^{- \\alpha r^{2}}$$"
      ],
      "text/plain": [
       "                2\n",
       "         L  -α⋅r \n",
       "φ_L00 = x ⋅ℯ     "
      ]
     },
     "metadata": {},
     "output_type": "display_data"
    }
   ],
   "source": [
    "# L = i+j+k acts like angular momentum state\n",
    "L = Symbol('L', integer=True, positive=True)\n",
    "# Use just powers of x, general enough for now\n",
    "gtoL00 = gto_sym.subs({N:1,i:L,j:0,k:0})\n",
    "display_eq('phi_L00',gtoL00)"
   ]
  },
  {
   "cell_type": "code",
   "execution_count": 11,
   "metadata": {},
   "outputs": [
    {
     "data": {
      "image/png": "[encoded data removed]",
      "text/latex": [
       "$$x = r \\sin{\\left (\\theta \\right )} \\cos{\\left (\\phi \\right )}$$"
      ],
      "text/plain": [
       "x = r⋅sin(θ)⋅cos(φ)"
      ]
     },
     "metadata": {},
     "output_type": "display_data"
    },
    {
     "data": {
      "image/png": "[encoded data removed]",
      "text/latex": [
       "$$r^{2} \\sin{\\left (\\theta \\right )}$$"
      ],
      "text/plain": [
       " 2       \n",
       "r ⋅sin(θ)"
      ]
     },
     "execution_count": 11,
     "metadata": {},
     "output_type": "execute_result"
    }
   ],
   "source": [
    "# Will need some values for the spherical integral\n",
    "theta = Symbol('theta')\n",
    "phi = Symbol('phi')\n",
    "x_in_spherical_coords = r*sin(theta)*cos(phi)\n",
    "surface_element = r*r*sin(theta)\n",
    "display_eq('x',x_in_spherical_coords)\n",
    "surface_element"
   ]
  },
  {
   "cell_type": "code",
   "execution_count": 12,
   "metadata": {},
   "outputs": [
    {
     "data": {
      "image/png": "[encoded data removed]",
      "text/latex": [
       "$$r^{2} \\left(r \\sin{\\left (\\theta \\right )} \\cos{\\left (\\phi \\right )}\\right)^{2 L} e^{- 2 \\alpha r^{2}} \\sin{\\left (\\theta \\right )}$$"
      ],
      "text/plain": [
       "                               2       \n",
       " 2                  2⋅L  -2⋅α⋅r        \n",
       "r ⋅(r⋅sin(θ)⋅cos(φ))   ⋅ℯ       ⋅sin(θ)"
      ]
     },
     "execution_count": 12,
     "metadata": {},
     "output_type": "execute_result"
    }
   ],
   "source": [
    "# substitute x to get the integrand in spherical coordinates\n",
    "e_sph = gtoL00.subs(Symbol('x'), x_in_spherical_coords)\n",
    "#display(e_sph)\n",
    "e_int = e_sph*e_sph*surface_element\n",
    "e_int"
   ]
  },
  {
   "cell_type": "code",
   "execution_count": 13,
   "metadata": {},
   "outputs": [
    {
     "data": {
      "image/png": "[encoded data removed]",
      "text/latex": [
       "$$\\frac{\\Gamma{\\left(L + \\frac{3}{2} \\right)}}{4 \\alpha} \\left(2 \\alpha\\right)^{- L - \\frac{1}{2}} \\sin{\\left (\\theta \\right )} \\sin^{2 L}{\\left (\\theta \\right )} \\cos^{2 L}{\\left (\\phi \\right )}$$"
      ],
      "text/plain": [
       "     -L - 1/2           2⋅L       2⋅L              \n",
       "(2⋅α)        ⋅sin(θ)⋅sin   (θ)⋅cos   (φ)⋅Γ(L + 3/2)\n",
       "───────────────────────────────────────────────────\n",
       "                        4⋅α                        "
      ]
     },
     "execution_count": 13,
     "metadata": {},
     "output_type": "execute_result"
    }
   ],
   "source": [
    "# Perform radial integral\n",
    "val_L00 = integrate(e_int,(r,0,oo))\n",
    "val_L00"
   ]
  },
  {
   "cell_type": "code",
   "execution_count": 14,
   "metadata": {},
   "outputs": [
    {
     "data": {
      "image/png": "[encoded data removed]",
      "text/latex": [
       "$$\\Gamma{\\left(L + \\frac{1}{2} \\right)} = \\frac{\\sqrt{\\pi}}{L!} 2^{- 2 L} \\left(2 L\\right)!$$"
      ],
      "text/plain": [
       "              -2⋅L          \n",
       "             2    ⋅√π⋅(2⋅L)!\n",
       "Γ(L + 1/2) = ───────────────\n",
       "                    L!      "
      ]
     },
     "metadata": {},
     "output_type": "display_data"
    }
   ],
   "source": [
    "# Replace the Gamma function, from https://en.wikipedia.org/wiki/Gamma_function\n",
    "gamma_half = 2**(-2*L) *sqrt(pi) * factorial(2*L)/factorial(L)\n",
    "display_eq(gamma(L+S.Half),gamma_half)"
   ]
  },
  {
   "cell_type": "code",
   "execution_count": 15,
   "metadata": {},
   "outputs": [
    {
     "data": {
      "image/png": "[encoded data removed]",
      "text/latex": [
       "$$\\frac{2^{- 2 L} \\sqrt{\\pi} \\left(2 L\\right)!}{4 \\alpha L!} \\left(2 \\alpha\\right)^{- L - \\frac{1}{2}} \\left(L + \\frac{1}{2}\\right) \\sin{\\left (\\theta \\right )} \\sin^{2 L}{\\left (\\theta \\right )} \\cos^{2 L}{\\left (\\phi \\right )}$$"
      ],
      "text/plain": [
       " -2⋅L         -L - 1/2                     2⋅L       2⋅L          \n",
       "2    ⋅√π⋅(2⋅α)        ⋅(L + 1/2)⋅sin(θ)⋅sin   (θ)⋅cos   (φ)⋅(2⋅L)!\n",
       "──────────────────────────────────────────────────────────────────\n",
       "                              4⋅α⋅L!                              "
      ]
     },
     "metadata": {},
     "output_type": "display_data"
    },
    {
     "data": {
      "image/png": "[encoded data removed]",
      "text/latex": [
       "$$\\frac{2 \\cdot 2^{L} \\sqrt{\\alpha} \\sqrt{L!}}{\\sqrt[4]{\\pi} \\sqrt{\\left(2 \\alpha\\right)^{- L - \\frac{1}{2}} \\sin{\\left (\\theta \\right )} \\sin^{2 L}{\\left (\\theta \\right )} \\cos^{2 L}{\\left (\\phi \\right )}} \\sqrt{L + \\frac{1}{2}} \\sqrt{\\left(2 L\\right)!}}$$"
      ],
      "text/plain": [
       "                                 L      ____                              \n",
       "                              2⋅2 ⋅√α⋅╲╱ L!                               \n",
       "──────────────────────────────────────────────────────────────────────────\n",
       "         __________________________________________                       \n",
       "4 ___   ╱      -L - 1/2           2⋅L       2⋅L       _________   ________\n",
       "╲╱ π ⋅╲╱  (2⋅α)        ⋅sin(θ)⋅sin   (θ)⋅cos   (φ) ⋅╲╱ L + 1/2 ⋅╲╱ (2⋅L)! "
      ]
     },
     "metadata": {},
     "output_type": "display_data"
    },
    {
     "data": {
      "image/png": "[encoded data removed]",
      "text/latex": [
       "$$\\frac{2^{\\frac{3 L}{2} + \\frac{7}{4}} \\alpha^{\\frac{L}{2} + \\frac{3}{4}} \\sqrt{L!}}{\\sqrt[4]{\\pi} \\sqrt{2 L + 1} \\sqrt{\\left(2 L\\right)!}}$$"
      ],
      "text/plain": [
       "    3⋅L   7  L   3          \n",
       "    ─── + ─  ─ + ─          \n",
       "     2    4  2   4   ____   \n",
       "   2       ⋅α     ⋅╲╱ L!    \n",
       "────────────────────────────\n",
       "4 ___   _________   ________\n",
       "╲╱ π ⋅╲╱ 2⋅L + 1 ⋅╲╱ (2⋅L)! "
      ]
     },
     "execution_count": 15,
     "metadata": {},
     "output_type": "execute_result"
    }
   ],
   "source": [
    "# use gamma(x+1) = x * gamma(x)  and the previous formula\n",
    "tmp00 = val_L00.subs(gamma(L+3*S.Half), (L+S.Half)*gamma_half)\n",
    "display(tmp00)\n",
    "norm_radial_L00 = 1/sqrt(tmp00.rewrite(factorial))\n",
    "display(norm_radial_L00)\n",
    "\n",
    "# Remove sin and cos terms\n",
    "tmp = simplify(norm_radial_L00.subs({sin(theta):1,cos(phi):1}))\n",
    "tmp"
   ]
  },
  {
   "cell_type": "code",
   "execution_count": 16,
   "metadata": {},
   "outputs": [
    {
     "data": {
      "image/png": "[encoded data removed]",
      "text/latex": [
       "$$\\frac{\\sqrt{2} \\pi^{\\frac{3}{2}}}{16 \\alpha^{\\frac{5}{2}}}$$"
      ],
      "text/plain": [
       "    3/2\n",
       "√2⋅π   \n",
       "───────\n",
       "    5/2\n",
       "16⋅α   "
      ]
     },
     "execution_count": 16,
     "metadata": {},
     "output_type": "execute_result"
    }
   ],
   "source": [
    "# Integral for general L doesn't seem to work in Sympy, but any particular value of L works\n",
    "integrate(val_L00.subs(L,1), (theta, 0, pi),(phi,0,2*pi))"
   ]
  },
  {
   "cell_type": "markdown",
   "metadata": {},
   "source": [
    "### Sum of primitive basis functions"
   ]
  },
  {
   "cell_type": "code",
   "execution_count": 17,
   "metadata": {},
   "outputs": [
    {
     "data": {
      "image/png": "[encoded data removed]",
      "text/latex": [
       "$$\\sum_{i=1}^{3} e^{- r^{2} \\alpha_{i}} N_{i} c_{i}$$"
      ],
      "text/plain": [
       "  3                          \n",
       " ____                        \n",
       " ╲                           \n",
       "  ╲      2                   \n",
       "   ╲   -r ⋅alpha[i]          \n",
       "   ╱  ℯ            ⋅N[i]⋅c[i]\n",
       "  ╱                          \n",
       " ╱                           \n",
       " ‾‾‾‾                        \n",
       "i = 1                        "
      ]
     },
     "execution_count": 17,
     "metadata": {},
     "output_type": "execute_result"
    }
   ],
   "source": [
    "c = IndexedBase('c')\n",
    "alpha2 = IndexedBase('alpha')\n",
    "norm2 = IndexedBase('N')\n",
    "i = Symbol('i',integer=True)\n",
    "# Fix to size 3, could be general\n",
    "cg_sym = Sum(norm2[i]*c[i]*gto000.subs(alpha,alpha2[i]),(i,1,3))\n",
    "cg_sym"
   ]
  },
  {
   "cell_type": "code",
   "execution_count": 18,
   "metadata": {},
   "outputs": [
    {
     "name": "stdout",
     "output_type": "stream",
     "text": [
      "0.15432897 3.42525091 6.36113067148303\n",
      "0.53532814 0.62391373 1.77361123608569\n",
      "0.44463454 0.1688554 0.665504872778405\n"
     ]
    },
    {
     "data": {
      "image/png": "[encoded data removed]",
      "text/latex": [
       "$$0.981706744565384 e^{- 3.42525091 r^{2}} + 0.949464004096853 e^{- 0.62391373 r^{2}} + 0.295906452975584 e^{- 0.1688554 r^{2}}$$"
      ],
      "text/plain": [
       "                                2                                   2         \n",
       "                   -3.42525091⋅r                       -0.62391373⋅r          \n",
       "0.981706744565384⋅ℯ               + 0.949464004096853⋅ℯ               + 0.2959\n",
       "\n",
       "                         2\n",
       "             -0.1688554⋅r \n",
       "06452975584⋅ℯ             "
      ]
     },
     "execution_count": 18,
     "metadata": {},
     "output_type": "execute_result"
    }
   ],
   "source": [
    "# STO-3G for Hydrogen\n",
    "h_alpha = [3.42525091, 0.62391373, 0.16885540]\n",
    "h_coeff = [0.15432897, 0.53532814, 0.44463454]\n",
    "nbasis = len(h_coeff)\n",
    "\n",
    "cg_unroll = cg_sym.doit()\n",
    "for idx in range(nbasis):\n",
    "    cg_unroll = cg_unroll.subs(c[idx+1], h_coeff[idx])\n",
    "    cg_unroll = cg_unroll.subs(alpha2[idx+1],h_alpha[idx])\n",
    "    #cg_unroll = cg_unroll.subs(norm2[idx+1],norm_sym.subs({i:0,j:0,k:0,alpha:h_alpha[idx]}))\n",
    "    print(h_coeff[idx],h_alpha[idx],radial_norm.subs(alpha,h_alpha[idx]).evalf())\n",
    "    cg_unroll = cg_unroll.subs(norm2[idx+1],radial_norm.subs({alpha:h_alpha[idx]}))\n",
    "\n",
    "cg_unroll.evalf()"
   ]
  },
  {
   "cell_type": "code",
   "execution_count": 19,
   "metadata": {},
   "outputs": [
    {
     "data": {
      "image/png": "[encoded data removed]",
      "text/latex": [
       "$$0.55624044414948$$"
      ],
      "text/plain": [
       "0.556240444149480"
      ]
     },
     "execution_count": 19,
     "metadata": {},
     "output_type": "execute_result"
    }
   ],
   "source": [
    "# Evaluate at a concrete value for r\n",
    "cg_unroll.subs(r,1.3).evalf()"
   ]
  },
  {
   "cell_type": "code",
   "execution_count": 20,
   "metadata": {},
   "outputs": [
    {
     "data": {
      "image/png": "[encoded data removed]",
      "text/latex": [
       "$$-0.661028435778766$$"
      ],
      "text/plain": [
       "-0.661028435778766"
      ]
     },
     "execution_count": 20,
     "metadata": {},
     "output_type": "execute_result"
    }
   ],
   "source": [
    "# Can check derivatives as well\n",
    "d_cg = diff(cg_unroll, r)\n",
    "d_cg.subs(r, 1.3).evalf()"
   ]
  },
  {
   "cell_type": "code",
   "execution_count": 23,
   "metadata": {},
   "outputs": [
    {
     "data": {
      "text/plain": [
       "<matplotlib.legend.Legend at 0x7f3f249c8410>"
      ]
     },
     "execution_count": 23,
     "metadata": {},
     "output_type": "execute_result"
    },
    {
     "data": {
      "image/png": "[encoded data removed]",
      "text/plain": [
       "<matplotlib.figure.Figure at 0x7f3f24a88d50>"
      ]
     },
     "metadata": {},
     "output_type": "display_data"
    }
   ],
   "source": [
    "# Plot the primitive gaussians, the overall GTO, and the STO it mimics\n",
    "\n",
    "nplot = 161\n",
    "delta_plot = .05\n",
    "rvals = np.zeros(nplot)\n",
    "yvals = np.zeros(nplot)\n",
    "indvals = np.zeros((3,nplot))\n",
    "stovals = np.zeros(nplot)\n",
    "for i in range(nplot):\n",
    "    rval = i*delta_plot - 4.0\n",
    "    y = cg_unroll.subs(r,rval).evalf()\n",
    "    rvals[i] = rval\n",
    "    yvals[i] = y\n",
    "    stovals[i] = 2.0*math.exp(-abs(rval))\n",
    "    for j in range(3):\n",
    "        val = h_coeff[j]*gto000.subs({alpha:h_alpha[j], r:rval})*radial_norm.subs({alpha:h_alpha[j]}).evalf()\n",
    "        #print(val)\n",
    "        indvals[j,i] = val\n",
    "    \n",
    "plt.plot(rvals, yvals, label='H GTO')\n",
    "plt.plot(rvals, stovals, label='H STO')\n",
    "plt.plot(rvals, indvals[0,:], label= r'$\\alpha=%.2f$'%h_alpha[0])\n",
    "plt.plot(rvals, indvals[1,:], label= r'$\\alpha=%.2f$'%h_alpha[1])\n",
    "plt.plot(rvals, indvals[2,:], label= r'$\\alpha=%.2f$'%h_alpha[2])\n",
    "plt.legend()"
   ]
  },
  {
   "cell_type": "code",
   "execution_count": 22,
   "metadata": {},
   "outputs": [
    {
     "data": {
      "image/png": "[encoded data removed]",
      "text/latex": [
       "$$2.0$$"
      ],
      "text/plain": [
       "2.0"
      ]
     },
     "execution_count": 22,
     "metadata": {},
     "output_type": "execute_result"
    }
   ],
   "source": [
    "# Compute normalization for STO for previous plot\n",
    "sto00 = exp(-r)\n",
    "val = integrate(sto00*sto00*r*r,(r,0,oo))\n",
    "1/math.sqrt(val)"
   ]
  },
  {
   "cell_type": "code",
   "execution_count": null,
   "metadata": {},
   "outputs": [],
   "source": []
  }
 ],
 "metadata": {
  "kernelspec": {
   "display_name": "Python 2",
   "language": "python",
   "name": "python2"
  },
  "language_info": {
   "codemirror_mode": {
    "name": "ipython",
    "version": 2
   },
   "file_extension": ".py",
   "mimetype": "text/x-python",
   "name": "python",
   "nbconvert_exporter": "python",
   "pygments_lexer": "ipython2",
   "version": "2.7.12"
  }
 },
 "nbformat": 4,
 "nbformat_minor": 1
}
