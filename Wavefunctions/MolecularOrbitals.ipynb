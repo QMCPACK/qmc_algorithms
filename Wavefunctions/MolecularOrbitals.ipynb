{
 "cells": [
  {
   "cell_type": "code",
   "execution_count": 3,
   "metadata": {},
   "outputs": [],
   "source": [
    "import numpy as np\n",
    "import math\n",
    "from math import exp\n",
    "from IPython.display import display\n",
    "from sympy import *\n",
    "init_printing()\n",
    "import matplotlib.pyplot as plt\n",
    "%matplotlib notebook"
   ]
  },
  {
   "cell_type": "code",
   "execution_count": 4,
   "metadata": {},
   "outputs": [
    {
     "data": {
      "image/png": "[encoded data removed]",
      "text/latex": [
       "$$\\psi_{j} = \\sum_{i=1}^{N} c_{i,j} \\chi_{i}$$"
      ],
      "text/plain": [
       "           N                 \n",
       "          ___                \n",
       "          ╲                  \n",
       "           ╲   c[i, j]⋅chi[i]\n",
       "psi[j] =   ╱                 \n",
       "          ╱                  \n",
       "          ‾‾‾                \n",
       "         i = 1               "
      ]
     },
     "execution_count": 4,
     "metadata": {},
     "output_type": "execute_result"
    }
   ],
   "source": [
    "chi = IndexedBase('chi')  # Atomic orbital\n",
    "c = IndexedBase('c')    # MO coefficients\n",
    "psi = IndexedBase('psi')  # Molecular orbital\n",
    "i = Symbol('i', integer=True)   # index of atomic orbitals\n",
    "j = Symbol('j', integer=True)   # index of molecular orbital\n",
    "N = Symbol('N', integer=True)   # Number of atomic orbitals\n",
    "\n",
    "mo_expr = Sum(c[i,j] * chi[i], (i,1,N))\n",
    "Eq(psi[j], mo_expr)"
   ]
  },
  {
   "cell_type": "markdown",
   "metadata": {},
   "source": [
    "## Molecular Orbitals\n",
    "The GaussianOrbitals notebook went into detail about the individual basis functions on each atomic site.  These orbitals get combined to for molecular orbitals - a linear combination of orbitals from both the same atom and different atoms.\n",
    "\n",
    "The code to evaluate basis functions has been placed in 'gaussian_orbitals.py', and the code to read the basis and MO information from the QMCPACK XML input file is in 'read_qmcpack.py'"
   ]
  },
  {
   "cell_type": "code",
   "execution_count": 5,
   "metadata": {},
   "outputs": [],
   "source": [
    "# Contains \n",
    "# - CG_basis (named tuple) for storing basis contraction coefficients\n",
    "# - GTO class - symbolic form for basis functions (and derivatives) and methods for evaluating them\n",
    "# - GTO_centers - multiple atoms of different kinds at different locations\n",
    "\n",
    "import gaussian_orbitals\n",
    "reload(gaussian_orbitals)\n",
    "from gaussian_orbitals import GTO, CG_basis, GTO_centers\n",
    "\n",
    "from read_qmcpack import parse_qmc_wf, read_structure_file"
   ]
  },
  {
   "cell_type": "code",
   "execution_count": 7,
   "metadata": {},
   "outputs": [
    {
     "name": "stdout",
     "output_type": "stream",
     "text": [
      "MO coeff size =  14\n",
      "Ne\n"
     ]
    },
    {
     "data": {
      "text/plain": [
       "array([[ 0.990133, -0.031233,  0.009072,  0.      ,  0.      ,  0.      ,\n",
       "         0.      ,  0.      ,  0.      ,  0.      ,  0.      ,  0.      ,\n",
       "         0.      ,  0.      ,  0.      ],\n",
       "       [ 0.322026,  0.643777,  0.460567, -0.      , -0.      , -0.      ,\n",
       "        -0.      , -0.      , -0.      , -0.      , -0.      , -0.      ,\n",
       "        -0.      , -0.      , -0.      ],\n",
       "       [-0.      , -0.      , -0.      ,  0.697249, -0.      , -0.      ,\n",
       "        -0.454527, -0.      , -0.      , -0.      , -0.      , -0.      ,\n",
       "        -0.      , -0.      , -0.      ],\n",
       "       [ 0.      ,  0.      ,  0.      ,  0.      ,  0.      ,  0.697249,\n",
       "         0.      ,  0.      , -0.454527,  0.      ,  0.      ,  0.      ,\n",
       "         0.      ,  0.      ,  0.      ],\n",
       "       [-0.      , -0.      , -0.      , -0.      ,  0.697249, -0.      ,\n",
       "        -0.      , -0.454527, -0.      , -0.      , -0.      , -0.      ,\n",
       "        -0.      , -0.      , -0.      ],\n",
       "       [ 0.327583,  1.608118, -1.575531,  0.      ,  0.      ,  0.      ,\n",
       "         0.      ,  0.      ,  0.      ,  0.      ,  0.      ,  0.      ,\n",
       "         0.      ,  0.      ,  0.      ],\n",
       "       [ 0.      ,  0.      ,  0.      ,  0.      ,  0.      ,  0.906086,\n",
       "         0.      ,  0.      ,  1.049073,  0.      ,  0.      ,  0.      ,\n",
       "         0.      ,  0.      ,  0.      ],\n",
       "       [ 0.      ,  0.      ,  0.      ,  0.      ,  0.906086,  0.      ,\n",
       "         0.      ,  1.049073,  0.      ,  0.      ,  0.      ,  0.      ,\n",
       "         0.      ,  0.      ,  0.      ],\n",
       "       [ 0.      ,  0.      ,  0.      ,  0.906086,  0.      ,  0.      ,\n",
       "         1.049073,  0.      ,  0.      ,  0.      ,  0.      ,  0.      ,\n",
       "         0.      ,  0.      ,  0.      ],\n",
       "       [ 0.      ,  0.      ,  0.      ,  0.      ,  0.      ,  0.      ,\n",
       "         0.      ,  0.      ,  0.      ,  0.      ,  0.      ,  0.      ,\n",
       "         0.      ,  0.      ,  1.      ],\n",
       "       [ 0.      ,  0.      ,  0.      ,  0.      ,  0.      ,  0.      ,\n",
       "         0.      ,  0.      ,  0.      ,  0.      ,  0.      ,  0.      ,\n",
       "         1.      ,  0.      ,  0.      ],\n",
       "       [ 0.      ,  0.      ,  0.      ,  0.      ,  0.      ,  0.      ,\n",
       "         0.      ,  0.      ,  0.      ,  0.      ,  0.      ,  0.      ,\n",
       "         0.      ,  1.      ,  0.      ],\n",
       "       [-0.      , -0.      , -0.      , -0.      , -0.      , -0.      ,\n",
       "        -0.      , -0.      , -0.      , -0.480634, -0.519119,  0.999753,\n",
       "        -0.      , -0.      , -0.      ],\n",
       "       [-0.      , -0.      , -0.      , -0.      , -0.      , -0.      ,\n",
       "        -0.      , -0.      , -0.      ,  0.876921, -0.854702, -0.02222 ,\n",
       "        -0.      , -0.      , -0.      ]])"
      ]
     },
     "execution_count": 7,
     "metadata": {},
     "output_type": "execute_result"
    }
   ],
   "source": [
    "# For Neon with DEF2-SVP\n",
    "ne_basis_set, ne_MO_matrix = parse_qmc_wf('ne_def2_svp.wfnoj.xml',['Ne'])\n",
    "for cg in ne_basis_set:\n",
    "    print cg\n",
    "    \n",
    "ne_MO_matrix"
   ]
  },
  {
   "cell_type": "code",
   "execution_count": 8,
   "metadata": {
    "scrolled": true
   },
   "outputs": [
    {
     "name": "stdout",
     "output_type": "stream",
     "text": [
      "[-0.46242075697109086, 0.7402974041672985, 0.35013343898398275, -0.746944254700568, -1.120416382050852, -0.373472127350284, 0.09424566278803664, 0.14136849418205494, 0.04712283139401832, 0.15370224555863643, 0.3458300525069319, 0.03842556138965911, 0.39933014781747894, 0.13311004927249298, 0.19966507390873944]\n"
     ]
    }
   ],
   "source": [
    "ne_gto = GTO(ne_basis_set['Ne'])\n",
    "ne_one_eval = ne_gto.eval_v(0.2, 0.3, 0.1)\n",
    "print ne_one_eval"
   ]
  },
  {
   "cell_type": "code",
   "execution_count": 9,
   "metadata": {},
   "outputs": [
    {
     "name": "stdout",
     "output_type": "stream",
     "text": [
      "(15, 80)\n",
      "CPU times: user 50.2 ms, sys: 4.53 ms, total: 54.7 ms\n",
      "Wall time: 37.8 ms\n"
     ]
    }
   ],
   "source": [
    "%%time\n",
    "rvals = np.arange(-4.0, 4.0, .1)\n",
    "ne_atomic_orbs = np.zeros( (len(ne_one_eval), rvals.shape[0]))\n",
    "print ne_atomic_orbs.shape\n",
    "for i,x in enumerate(rvals):\n",
    "    ne_atomic_orbs[:,i] = ne_gto.eval_v(x, 0.0, 0.0)"
   ]
  },
  {
   "cell_type": "code",
   "execution_count": 10,
   "metadata": {},
   "outputs": [
    {
     "data": {
      "text/plain": [
       "<matplotlib.legend.Legend at 0x7f3fc726c410>"
      ]
     },
     "execution_count": 10,
     "metadata": {},
     "output_type": "execute_result"
    },
    {
     "data": {
      "image/png": "[encoded data removed]",
      "text/plain": [
       "<Figure size 432x288 with 1 Axes>"
      ]
     },
     "metadata": {},
     "output_type": "display_data"
    }
   ],
   "source": [
    "plt.plot(rvals, ne_atomic_orbs[0,:], label=\"AO 1\")\n",
    "plt.plot(rvals, ne_atomic_orbs[1,:], label=\"AO 2\")\n",
    "plt.legend()"
   ]
  },
  {
   "cell_type": "code",
   "execution_count": 11,
   "metadata": {},
   "outputs": [
    {
     "name": "stdout",
     "output_type": "stream",
     "text": [
      "CPU times: user 39.5 s, sys: 185 ms, total: 39.6 s\n",
      "Wall time: 39.2 s\n"
     ]
    }
   ],
   "source": [
    "%%time\n",
    "n = 50\n",
    "xsp = np.linspace(-1, 1, n)\n",
    "xyzvals = np.meshgrid(xsp, xsp, xsp)\n",
    "xyzvals = np.zeros( (n,n,n))\n",
    "for i,x in enumerate(xsp):\n",
    "    for j,y in enumerate(xsp):\n",
    "        for k,z in enumerate(xsp):\n",
    "            xyzvals[i,j,k] = ne_gto.eval_v(x,y,z)[1]"
   ]
  },
  {
   "cell_type": "code",
   "execution_count": 12,
   "metadata": {},
   "outputs": [
    {
     "name": "stdout",
     "output_type": "stream",
     "text": [
      "[[[0.01537756 0.01713686 0.01901144 ... 0.01901144 0.01713686 0.01537756]\n",
      "  [0.01713686 0.01909744 0.02118648 ... 0.02118648 0.01909744 0.01713686]\n",
      "  [0.01901144 0.02118648 0.02350404 ... 0.02350404 0.02118648 0.01901144]\n",
      "  ...\n",
      "  [0.01901144 0.02118648 0.02350404 ... 0.02350404 0.02118648 0.01901144]\n",
      "  [0.01713686 0.01909744 0.02118648 ... 0.02118648 0.01909744 0.01713686]\n",
      "  [0.01537756 0.01713686 0.01901144 ... 0.01901144 0.01713686 0.01537756]]\n",
      "\n",
      " [[0.01713686 0.01909744 0.02118648 ... 0.02118648 0.01909744 0.01713686]\n",
      "  [0.01909744 0.02128232 0.02361036 ... 0.02361036 0.02128232 0.01909744]\n",
      "  [0.02118648 0.02361036 0.02619307 ... 0.02619307 0.02361036 0.02118648]\n",
      "  ...\n",
      "  [0.02118648 0.02361036 0.02619307 ... 0.02619307 0.02361036 0.02118648]\n",
      "  [0.01909744 0.02128232 0.02361036 ... 0.02361036 0.02128232 0.01909744]\n",
      "  [0.01713686 0.01909744 0.02118648 ... 0.02118648 0.01909744 0.01713686]]\n",
      "\n",
      " [[0.01901144 0.02118648 0.02350404 ... 0.02350404 0.02118648 0.01901144]\n",
      "  [0.02118648 0.02361036 0.02619307 ... 0.02619307 0.02361036 0.02118648]\n",
      "  [0.02350404 0.02619307 0.02905829 ... 0.02905829 0.02619307 0.02350404]\n",
      "  ...\n",
      "  [0.02350404 0.02619307 0.02905829 ... 0.02905829 0.02619307 0.02350404]\n",
      "  [0.02118648 0.02361036 0.02619307 ... 0.02619307 0.02361036 0.02118648]\n",
      "  [0.01901144 0.02118648 0.02350404 ... 0.02350404 0.02118648 0.01901144]]\n",
      "\n",
      " ...\n",
      "\n",
      " [[0.01901144 0.02118648 0.02350404 ... 0.02350404 0.02118648 0.01901144]\n",
      "  [0.02118648 0.02361036 0.02619307 ... 0.02619307 0.02361036 0.02118648]\n",
      "  [0.02350404 0.02619307 0.02905829 ... 0.02905829 0.02619307 0.02350404]\n",
      "  ...\n",
      "  [0.02350404 0.02619307 0.02905829 ... 0.02905829 0.02619307 0.02350404]\n",
      "  [0.02118648 0.02361036 0.02619307 ... 0.02619307 0.02361036 0.02118648]\n",
      "  [0.01901144 0.02118648 0.02350404 ... 0.02350404 0.02118648 0.01901144]]\n",
      "\n",
      " [[0.01713686 0.01909744 0.02118648 ... 0.02118648 0.01909744 0.01713686]\n",
      "  [0.01909744 0.02128232 0.02361036 ... 0.02361036 0.02128232 0.01909744]\n",
      "  [0.02118648 0.02361036 0.02619307 ... 0.02619307 0.02361036 0.02118648]\n",
      "  ...\n",
      "  [0.02118648 0.02361036 0.02619307 ... 0.02619307 0.02361036 0.02118648]\n",
      "  [0.01909744 0.02128232 0.02361036 ... 0.02361036 0.02128232 0.01909744]\n",
      "  [0.01713686 0.01909744 0.02118648 ... 0.02118648 0.01909744 0.01713686]]\n",
      "\n",
      " [[0.01537756 0.01713686 0.01901144 ... 0.01901144 0.01713686 0.01537756]\n",
      "  [0.01713686 0.01909744 0.02118648 ... 0.02118648 0.01909744 0.01713686]\n",
      "  [0.01901144 0.02118648 0.02350404 ... 0.02350404 0.02118648 0.01901144]\n",
      "  ...\n",
      "  [0.01901144 0.02118648 0.02350404 ... 0.02350404 0.02118648 0.01901144]\n",
      "  [0.01713686 0.01909744 0.02118648 ... 0.02118648 0.01909744 0.01713686]\n",
      "  [0.01537756 0.01713686 0.01901144 ... 0.01901144 0.01713686 0.01537756]]]\n"
     ]
    }
   ],
   "source": [
    "print xyzvals"
   ]
  },
  {
   "cell_type": "code",
   "execution_count": 23,
   "metadata": {},
   "outputs": [],
   "source": [
    "# Use ipyvolume to render in 3D\n",
    "import ipyvolume as ipy"
   ]
  },
  {
   "cell_type": "code",
   "execution_count": 24,
   "metadata": {
    "scrolled": false
   },
   "outputs": [
    {
     "data": {
      "application/vnd.jupyter.widget-view+json": {
       "model_id": "4992fd3f1ade4a9791f1d656c02d868c",
       "version_major": 2,
       "version_minor": 0
      },
      "text/plain": [
       "VkJveChjaGlsZHJlbj0oVkJveChjaGlsZHJlbj0oSEJveChjaGlsZHJlbj0oTGFiZWwodmFsdWU9dSdsZXZlbHM6JyksIEZsb2F0U2xpZGVyKHZhbHVlPTAuMSwgbWF4PTEuMCwgc3RlcD0wLjDigKY=\n"
      ]
     },
     "metadata": {},
     "output_type": "display_data"
    }
   ],
   "source": [
    "ipy.quickvolshow(xyzvals,level=[0.1,0.2,0.9])"
   ]
  },
  {
   "cell_type": "code",
   "execution_count": 15,
   "metadata": {},
   "outputs": [],
   "source": [
    "ne_mo = np.dot(ne_MO_matrix, ne_atomic_orbs)"
   ]
  },
  {
   "cell_type": "code",
   "execution_count": 16,
   "metadata": {},
   "outputs": [
    {
     "data": {
      "image/png": "[encoded data removed]",
      "text/latex": [
       "$$\\left ( 14, \\quad 80\\right )$$"
      ],
      "text/plain": [
       "(14, 80)"
      ]
     },
     "execution_count": 16,
     "metadata": {},
     "output_type": "execute_result"
    }
   ],
   "source": [
    "ne_mo.shape"
   ]
  },
  {
   "cell_type": "code",
   "execution_count": 17,
   "metadata": {},
   "outputs": [
    {
     "data": {
      "text/plain": [
       "<matplotlib.legend.Legend at 0x7f3fc4f10c90>"
      ]
     },
     "execution_count": 17,
     "metadata": {},
     "output_type": "execute_result"
    },
    {
     "data": {
      "image/png": "[encoded data removed]",
      "text/plain": [
       "<Figure size 432x288 with 1 Axes>"
      ]
     },
     "metadata": {},
     "output_type": "display_data"
    }
   ],
   "source": [
    "plt.plot(rvals, ne_mo[0,:], label=\"MO 1\")\n",
    "plt.plot(rvals, ne_mo[1,:], label=\"MO 2\")\n",
    "plt.legend()"
   ]
  },
  {
   "cell_type": "code",
   "execution_count": 18,
   "metadata": {},
   "outputs": [
    {
     "name": "stdout",
     "output_type": "stream",
     "text": [
      "MO coeff size =  33\n",
      "[[-1.09604107  0.          0.        ]\n",
      " [ 1.09604107  0.          0.        ]\n",
      " [ 3.10859925  0.          0.        ]]\n"
     ]
    }
   ],
   "source": [
    "# For HCN\n",
    "hcn_pos_list, hcn_elements = read_structure_file(\"hcn.structure.xml\")\n",
    "hcn_basis_sets, hcn_MO_matrix = parse_qmc_wf(\"hcn.wfnoj.xml\", hcn_elements)\n",
    "\n",
    "hcn_gtos = GTO_centers(hcn_pos_list, hcn_elements, hcn_basis_sets)\n",
    "print hcn_pos_list"
   ]
  },
  {
   "cell_type": "code",
   "execution_count": 19,
   "metadata": {},
   "outputs": [
    {
     "name": "stdout",
     "output_type": "stream",
     "text": [
      "(35, 50)\n"
     ]
    }
   ],
   "source": [
    "\n",
    "rvals = np.arange(-5.0, 5.0, .2)\n",
    "\n",
    "hcn_one_eval = hcn_gtos.eval_v(0.2, 0.3, 0.1)\n",
    "\n",
    "hcn_atomic_orbs = np.zeros( (len(hcn_one_eval), rvals.shape[0]))\n",
    "print hcn_atomic_orbs.shape\n",
    "for i,x in enumerate(rvals):\n",
    "    hcn_atomic_orbs[:,i] = hcn_gtos.eval_v(x, 0.0, 0.0)"
   ]
  },
  {
   "cell_type": "code",
   "execution_count": 20,
   "metadata": {},
   "outputs": [],
   "source": [
    "hcn_mo = np.dot(hcn_MO_matrix, hcn_atomic_orbs)"
   ]
  },
  {
   "cell_type": "code",
   "execution_count": 21,
   "metadata": {},
   "outputs": [
    {
     "data": {
      "text/plain": [
       "<matplotlib.legend.Legend at 0x7f3fcb15c090>"
      ]
     },
     "execution_count": 21,
     "metadata": {},
     "output_type": "execute_result"
    },
    {
     "data": {
      "image/png": "[encoded data removed]",
      "text/plain": [
       "<Figure size 432x288 with 1 Axes>"
      ]
     },
     "metadata": {},
     "output_type": "display_data"
    }
   ],
   "source": [
    "fig1,ax1 = plt.subplots()\n",
    "#ax1.plot(rvals, hcn_atomic_orbs[0,:], label=\"AO 1\")\n",
    "#ax1.plot(rvals, hcn_atomic_orbs[1,:], label=\"AO 2\")\n",
    "ax1.plot(rvals, hcn_mo[0,:], label=\"MO 1\")\n",
    "plt.legend()\n"
   ]
  },
  {
   "cell_type": "code",
   "execution_count": null,
   "metadata": {},
   "outputs": [],
   "source": []
  }
 ],
 "metadata": {
  "kernelspec": {
   "display_name": "Python 2",
   "language": "python",
   "name": "python2"
  },
  "language_info": {
   "codemirror_mode": {
    "name": "ipython",
    "version": 2
   },
   "file_extension": ".py",
   "mimetype": "text/x-python",
   "name": "python",
   "nbconvert_exporter": "python",
   "pygments_lexer": "ipython2",
   "version": "2.7.15"
  }
 },
 "nbformat": 4,
 "nbformat_minor": 2
}
