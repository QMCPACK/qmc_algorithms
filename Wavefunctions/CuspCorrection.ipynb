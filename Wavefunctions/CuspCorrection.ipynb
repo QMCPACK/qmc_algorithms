{
 "cells": [
  {
   "cell_type": "code",
   "execution_count": 55,
   "metadata": {},
   "outputs": [],
   "source": [
    "from sympy import *\n",
    "init_printing()\n",
    "from IPython.display import display\n",
    "import matplotlib.pyplot as plt\n",
    "import mpl_toolkits.mplot3d as a3\n",
    "import matplotlib.animation as animation\n",
    "%matplotlib notebook\n",
    "# specify a second time as a workaround to get interactive plots working\n",
    "%matplotlib notebook\n",
    "#reload(gaussian_orbitals)\n",
    "import gaussian_orbitals\n",
    "import read_qmcpack\n",
    "#reload(read_qmcpack)\n",
    "import numpy as np\n",
    "import scipy.optimize\n",
    "from ipywidgets import interact\n",
    "import ipywidgets"
   ]
  },
  {
   "cell_type": "markdown",
   "metadata": {},
   "source": [
    "### Cusp Correction for Gaussian Orbitals\n",
    "\n",
    "From \"Scheme for adding electron-nucleus cusps to Gaussian orbitals\" A. Ma, D. Towler, N. D. Drummond, R. J. Needs, Journal of Chemical Physics 122, 224322(2005) https://doi.org/10.1063/1.1940588\n"
   ]
  },
  {
   "cell_type": "code",
   "execution_count": 2,
   "metadata": {},
   "outputs": [
    {
     "data": {
      "image/png": "[encoded data removed]",
      "text/latex": [
       "$$\\left ( \\phi, \\quad \\tilde{\\phi}, \\quad \\eta, \\quad \\psi, \\quad \\tilde{\\psi}\\right )$$"
      ],
      "text/plain": [
       "(φ, φ̃, η, ψ, ψ̃)"
      ]
     },
     "execution_count": 2,
     "metadata": {},
     "output_type": "execute_result"
    }
   ],
   "source": [
    "phi = Symbol('phi')\n",
    "phi_t = Symbol('phitilde')\n",
    "eta = Symbol('eta')\n",
    "psi = Symbol('psi')\n",
    "psi_t = Symbol('psitilde')\n",
    "phi, phi_t, eta, psi, psi_t"
   ]
  },
  {
   "cell_type": "markdown",
   "metadata": {},
   "source": [
    "Each orbital can be divided into two parts - the s-type functions on the current center, and everything else.\n",
    "* $\\phi$ The s-type functions on the current center (original functions, no cusp correction)\n",
    "* $\\eta$ All non-s-type functions on the current center, and all functions from other centers (no need for cusp correction)\n",
    "* $\\psi$ Total uncorrected orbital ($ = \\phi  + \\eta$)\n",
    "* $\\tilde{\\phi}$  Cusp-corrected s-type functions on the current center\n",
    "* $\\tilde{\\psi}$ Total cusp-corrected orbital ($ = \\tilde{\\phi} + \\eta$)\n",
    "\n",
    "Inside some cutoff radius ($r_c$) the s-type part of the orbital is replaced with (Eqn 7 in the paper):"
   ]
  },
  {
   "cell_type": "code",
   "execution_count": 3,
   "metadata": {},
   "outputs": [
    {
     "data": {
      "image/png": "[encoded data removed]",
      "text/latex": [
       "$$\\tilde{\\phi} = C + e^{p{\\left (r \\right )}} \\operatorname{sign}{\\left (\\tilde{\\phi}{\\left (0 \\right )} \\right )}$$"
      ],
      "text/plain": [
       "          p(r)            \n",
       "φ̃ = C + ℯ    ⋅sign(φ̃(0))"
      ]
     },
     "metadata": {},
     "output_type": "display_data"
    },
    {
     "data": {
      "image/png": "[encoded data removed]",
      "text/latex": [
       "$$R{\\left (r \\right )} = e^{p{\\left (r \\right )}} \\operatorname{sign}{\\left (\\tilde{\\phi}{\\left (0 \\right )} \\right )}$$"
      ],
      "text/plain": [
       "        p(r)            \n",
       "R(r) = ℯ    ⋅sign(φ̃(0))"
      ]
     },
     "metadata": {},
     "output_type": "display_data"
    },
    {
     "data": {
      "image/png": "[encoded data removed]",
      "text/latex": [
       "$$\\tilde{\\phi} = C + R{\\left (r \\right )}$$"
      ],
      "text/plain": [
       "φ̃ = C + R(r)"
      ]
     },
     "metadata": {},
     "output_type": "display_data"
    }
   ],
   "source": [
    "C = Symbol('C')\n",
    "p = Symbol('p')\n",
    "p_sym = p\n",
    "r = Symbol('r',real=True,nonnegative=True)\n",
    "R = Symbol('R')\n",
    "eq_phi1 = Eq(phi_t, C + sign(phi_t(0))*exp(p(r)))\n",
    "eq_R = Eq(R(r), sign(phi_t(0))*exp(p(r)))\n",
    "eq_phi2 = Eq(phi_t, C + R(r))\n",
    "display(eq_phi1)\n",
    "display(eq_R)\n",
    "display(eq_phi2)\n"
   ]
  },
  {
   "cell_type": "code",
   "execution_count": 4,
   "metadata": {},
   "outputs": [],
   "source": [
    "alpha = IndexedBase('alpha',shape=(5,))"
   ]
  },
  {
   "cell_type": "markdown",
   "metadata": {},
   "source": [
    "Where $p$ is a polynomial with the $\\alpha$'s as coefficients"
   ]
  },
  {
   "cell_type": "code",
   "execution_count": 5,
   "metadata": {},
   "outputs": [
    {
     "data": {
      "image/png": "[encoded data removed]",
      "text/latex": [
       "$$p = r^{4} \\alpha_{4} + r^{3} \\alpha_{3} + r^{2} \\alpha_{2} + r \\alpha_{1} + \\alpha_{0}$$"
      ],
      "text/plain": [
       "     4             3             2                                 \n",
       "p = r ⋅alpha[4] + r ⋅alpha[3] + r ⋅alpha[2] + r⋅alpha[1] + alpha[0]"
      ]
     },
     "execution_count": 5,
     "metadata": {},
     "output_type": "execute_result"
    }
   ],
   "source": [
    "p = alpha[0] + alpha[1]*r + alpha[2]*r**2 + alpha[3]*r**3 + alpha[4]*r**4\n",
    "Eq(p_sym, p)"
   ]
  },
  {
   "cell_type": "code",
   "execution_count": 6,
   "metadata": {},
   "outputs": [],
   "source": [
    "rc = Symbol('r_c')"
   ]
  },
  {
   "cell_type": "code",
   "execution_count": 7,
   "metadata": {},
   "outputs": [
    {
     "data": {
      "image/png": "[encoded data removed]",
      "text/latex": [
       "$$e^{r^{4} \\alpha_{4} + r^{3} \\alpha_{3} + r^{2} \\alpha_{2} + r \\alpha_{1} + \\alpha_{0}}$$"
      ],
      "text/plain": [
       "  4             3             2                                 \n",
       " r ⋅alpha[4] + r ⋅alpha[3] + r ⋅alpha[2] + r⋅alpha[1] + alpha[0]\n",
       "ℯ                                                               "
      ]
     },
     "execution_count": 7,
     "metadata": {},
     "output_type": "execute_result"
    }
   ],
   "source": [
    "R_def = exp(p)\n",
    "R_def"
   ]
  },
  {
   "cell_type": "markdown",
   "metadata": {},
   "source": [
    "### Solve for polynomial coefficients\n",
    "Now to express the $\\alpha$'s in terms of various contraints on the wavefunction (The value of the wavefunction and derivatives at the constraint points are the $X$'s)"
   ]
  },
  {
   "cell_type": "code",
   "execution_count": 8,
   "metadata": {},
   "outputs": [
    {
     "data": {
      "image/png": "[encoded data removed]",
      "text/latex": [
       "$$r_{c}^{4} \\alpha_{4} + r_{c}^{3} \\alpha_{3} + r_{c}^{2} \\alpha_{2} + r_{c} \\alpha_{1} + \\alpha_{0} = X_{1}$$"
      ],
      "text/plain": [
       "   4               3               2                                        \n",
       "r_c ⋅alpha[4] + r_c ⋅alpha[3] + r_c ⋅alpha[2] + r_c⋅alpha[1] + alpha[0] = X₁"
      ]
     },
     "execution_count": 8,
     "metadata": {},
     "output_type": "execute_result"
    }
   ],
   "source": [
    "X1,X2,X3,X4,X5 = symbols('X_1 X_2 X_3 X_4 X_5')\n",
    "# Constraints\n",
    "# Value of phi tilde matches orbital at r_c\n",
    "eq1 = Eq(p.subs(r,rc), X1)\n",
    "eq1"
   ]
  },
  {
   "cell_type": "code",
   "execution_count": 9,
   "metadata": {},
   "outputs": [
    {
     "data": {
      "image/png": "[encoded data removed]",
      "text/latex": [
       "$$4 r_{c}^{3} \\alpha_{4} + 3 r_{c}^{2} \\alpha_{3} + 2 r_{c} \\alpha_{2} + \\alpha_{1} = X_{2}$$"
      ],
      "text/plain": [
       "     3                 2                                          \n",
       "4⋅r_c ⋅alpha[4] + 3⋅r_c ⋅alpha[3] + 2⋅r_c⋅alpha[2] + alpha[1] = X₂"
      ]
     },
     "execution_count": 9,
     "metadata": {},
     "output_type": "execute_result"
    }
   ],
   "source": [
    "# derivative of phi tilde matches orbital at r_c\n",
    "eq2 = Eq(diff(p,r).subs(r,rc), X2)\n",
    "eq2"
   ]
  },
  {
   "cell_type": "code",
   "execution_count": 10,
   "metadata": {},
   "outputs": [
    {
     "data": {
      "image/png": "[encoded data removed]",
      "text/latex": [
       "$$12 r_{c}^{2} \\alpha_{4} + 6 r_{c} \\alpha_{3} + \\left(4 r_{c}^{3} \\alpha_{4} + 3 r_{c}^{2} \\alpha_{3} + 2 r_{c} \\alpha_{2} + \\alpha_{1}\\right)^{2} + 2 \\alpha_{2} = X_{3}$$"
      ],
      "text/plain": [
       "                                                                              \n",
       "      2                             ⎛     3                 2                 \n",
       "12⋅r_c ⋅alpha[4] + 6⋅r_c⋅alpha[3] + ⎝4⋅r_c ⋅alpha[4] + 3⋅r_c ⋅alpha[3] + 2⋅r_c\n",
       "\n",
       "                     2                  \n",
       "                    ⎞                   \n",
       "⋅alpha[2] + alpha[1]⎠  + 2⋅alpha[2] = X₃"
      ]
     },
     "execution_count": 10,
     "metadata": {},
     "output_type": "execute_result"
    }
   ],
   "source": [
    "# 2nd derivative of phi tilde matches orbital at r_c\n",
    "eq3 = Eq((diff(p,r,2)+diff(p,r)**2).subs(r,rc),X3)\n",
    "eq3"
   ]
  },
  {
   "cell_type": "code",
   "execution_count": 11,
   "metadata": {},
   "outputs": [
    {
     "data": {
      "image/png": "[encoded data removed]",
      "text/latex": [
       "$$\\alpha_{1} = X_{4}$$"
      ],
      "text/plain": [
       "alpha[1] = X₄"
      ]
     },
     "execution_count": 11,
     "metadata": {},
     "output_type": "execute_result"
    }
   ],
   "source": [
    "# Cusp condition - derivative at zero\n",
    "eq4 = Eq(diff(p,r).subs(r,0),X4)\n",
    "eq4"
   ]
  },
  {
   "cell_type": "code",
   "execution_count": 12,
   "metadata": {},
   "outputs": [
    {
     "data": {
      "image/png": "[encoded data removed]",
      "text/latex": [
       "$$\\alpha_{0} = X_{5}$$"
      ],
      "text/plain": [
       "alpha[0] = X₅"
      ]
     },
     "execution_count": 12,
     "metadata": {},
     "output_type": "execute_result"
    }
   ],
   "source": [
    "# Value of phi tilde at 0\n",
    "eq5 = Eq(p.subs(r,0),X5)\n",
    "eq5"
   ]
  },
  {
   "cell_type": "markdown",
   "metadata": {},
   "source": [
    "Solve for the polynomial coefficients ($\\alpha$'s) in terms of the wavefunction and derivative values ($X$'s).   These should match Eqn 14  in the paper."
   ]
  },
  {
   "cell_type": "code",
   "execution_count": 13,
   "metadata": {},
   "outputs": [
    {
     "data": {
      "image/png": "[encoded data removed]",
      "text/latex": [
       "$$\\left ( X_{5}, \\quad X_{4}, \\quad \\frac{1}{2 r_{c}^{2}} \\left(12 X_{1} - X_{2}^{2} r_{c}^{2} - 6 X_{2} r_{c} + X_{3} r_{c}^{2} - 6 X_{4} r_{c} - 12 X_{5}\\right), \\quad - \\frac{1}{r_{c}^{3}} \\left(8 X_{1} - X_{2}^{2} r_{c}^{2} - 5 X_{2} r_{c} + X_{3} r_{c}^{2} - 3 X_{4} r_{c} - 8 X_{5}\\right), \\quad \\frac{1}{2 r_{c}^{4}} \\left(6 X_{1} - X_{2}^{2} r_{c}^{2} - 4 X_{2} r_{c} + X_{3} r_{c}^{2} - 2 X_{4} r_{c} - 6 X_{5}\\right)\\right )$$"
      ],
      "text/plain": [
       "⎛                  2    2                    2                      ⎛         \n",
       "⎜        12⋅X₁ - X₂ ⋅r_c  - 6⋅X₂⋅r_c + X₃⋅r_c  - 6⋅X₄⋅r_c - 12⋅X₅  -⎝8⋅X₁ - X₂\n",
       "⎜X₅, X₄, ────────────────────────────────────────────────────────, ───────────\n",
       "⎜                                      2                                      \n",
       "⎝                                 2⋅r_c                                       \n",
       "\n",
       "2    2                    2                  ⎞            2    2              \n",
       " ⋅r_c  - 5⋅X₂⋅r_c + X₃⋅r_c  - 3⋅X₄⋅r_c - 8⋅X₅⎠   6⋅X₁ - X₂ ⋅r_c  - 4⋅X₂⋅r_c + \n",
       "───────────────────────────────────────────────, ─────────────────────────────\n",
       "                   3                                                          \n",
       "                r_c                                                      2⋅r_c\n",
       "\n",
       "      2                  ⎞\n",
       "X₃⋅r_c  - 2⋅X₄⋅r_c - 6⋅X₅⎟\n",
       "─────────────────────────⎟\n",
       "4                        ⎟\n",
       "                         ⎠"
      ]
     },
     "execution_count": 13,
     "metadata": {},
     "output_type": "execute_result"
    }
   ],
   "source": [
    "sln = solve([eq1, eq2, eq3, eq4, eq5],[alpha[0], alpha[1], alpha[2], alpha[3], alpha[4]])[0]\n",
    "sln"
   ]
  },
  {
   "cell_type": "code",
   "execution_count": 14,
   "metadata": {},
   "outputs": [
    {
     "data": {
      "image/png": "[encoded data removed]",
      "text/latex": [
       "$$\\alpha_{2} = \\frac{6 X_{1}}{r_{c}^{2}} - \\frac{X_{2}^{2}}{2} - \\frac{3 X_{2}}{r_{c}} + \\frac{X_{3}}{2} - \\frac{3 X_{4}}{r_{c}} - \\frac{6 X_{5}}{r_{c}^{2}}$$"
      ],
      "text/plain": [
       "                    2                          \n",
       "           6⋅X₁   X₂    3⋅X₂   X₃   3⋅X₄   6⋅X₅\n",
       "alpha[2] = ──── - ─── - ──── + ── - ──── - ────\n",
       "              2    2    r_c    2    r_c       2\n",
       "           r_c                             r_c "
      ]
     },
     "execution_count": 14,
     "metadata": {},
     "output_type": "execute_result"
    }
   ],
   "source": [
    "Eq(alpha[2],simplify(sln[2]))"
   ]
  },
  {
   "cell_type": "code",
   "execution_count": 15,
   "metadata": {},
   "outputs": [
    {
     "data": {
      "image/png": "[encoded data removed]",
      "text/latex": [
       "$$\\alpha_{3} = - \\frac{8 X_{1}}{r_{c}^{3}} + \\frac{X_{2}^{2}}{r_{c}} + \\frac{5 X_{2}}{r_{c}^{2}} - \\frac{X_{3}}{r_{c}} + \\frac{3 X_{4}}{r_{c}^{2}} + \\frac{8 X_{5}}{r_{c}^{3}}$$"
      ],
      "text/plain": [
       "                      2                           \n",
       "             8⋅X₁   X₂    5⋅X₂    X₃   3⋅X₄   8⋅X₅\n",
       "alpha[3] = - ──── + ─── + ──── - ─── + ──── + ────\n",
       "                3   r_c      2   r_c      2      3\n",
       "             r_c          r_c          r_c    r_c "
      ]
     },
     "execution_count": 15,
     "metadata": {},
     "output_type": "execute_result"
    }
   ],
   "source": [
    "Eq(alpha[3],expand(sln[3]))"
   ]
  },
  {
   "cell_type": "code",
   "execution_count": 16,
   "metadata": {},
   "outputs": [
    {
     "data": {
      "image/png": "[encoded data removed]",
      "text/latex": [
       "$$\\alpha_{4} = \\frac{3 X_{1}}{r_{c}^{4}} - \\frac{X_{2}^{2}}{2 r_{c}^{2}} - \\frac{2 X_{2}}{r_{c}^{3}} + \\frac{X_{3}}{2 r_{c}^{2}} - \\frac{X_{4}}{r_{c}^{3}} - \\frac{3 X_{5}}{r_{c}^{4}}$$"
      ],
      "text/plain": [
       "                     2                                \n",
       "           3⋅X₁    X₂      2⋅X₂     X₃      X₄    3⋅X₅\n",
       "alpha[4] = ──── - ────── - ──── + ────── - ──── - ────\n",
       "              4        2      3        2      3      4\n",
       "           r_c    2⋅r_c    r_c    2⋅r_c    r_c    r_c "
      ]
     },
     "execution_count": 16,
     "metadata": {},
     "output_type": "execute_result"
    }
   ],
   "source": [
    "Eq(alpha[4],expand(sln[4]))"
   ]
  },
  {
   "cell_type": "code",
   "execution_count": 17,
   "metadata": {},
   "outputs": [
    {
     "data": {
      "image/png": "[encoded data removed]",
      "text/latex": [
       "$$X_{4} r + X_{5} + \\frac{r^{4}}{2 r_{c}^{4}} \\left(6 X_{1} - X_{2}^{2} r_{c}^{2} - 4 X_{2} r_{c} + X_{3} r_{c}^{2} - 2 X_{4} r_{c} - 6 X_{5}\\right) - \\frac{r^{3}}{r_{c}^{3}} \\left(8 X_{1} - X_{2}^{2} r_{c}^{2} - 5 X_{2} r_{c} + X_{3} r_{c}^{2} - 3 X_{4} r_{c} - 8 X_{5}\\right) + \\frac{r^{2}}{2 r_{c}^{2}} \\left(12 X_{1} - X_{2}^{2} r_{c}^{2} - 6 X_{2} r_{c} + X_{3} r_{c}^{2} - 6 X_{4} r_{c} - 12 X_{5}\\right)$$"
      ],
      "text/plain": [
       "             4 ⎛         2    2                    2                  ⎞    3 ⎛\n",
       "            r ⋅⎝6⋅X₁ - X₂ ⋅r_c  - 4⋅X₂⋅r_c + X₃⋅r_c  - 2⋅X₄⋅r_c - 6⋅X₅⎠   r ⋅⎝\n",
       "X₄⋅r + X₅ + ─────────────────────────────────────────────────────────── - ────\n",
       "                                            4                                 \n",
       "                                       2⋅r_c                                  \n",
       "\n",
       "         2    2                    2                  ⎞    2 ⎛          2    2\n",
       "8⋅X₁ - X₂ ⋅r_c  - 5⋅X₂⋅r_c + X₃⋅r_c  - 3⋅X₄⋅r_c - 8⋅X₅⎠   r ⋅⎝12⋅X₁ - X₂ ⋅r_c \n",
       "─────────────────────────────────────────────────────── + ────────────────────\n",
       "                           3                                                  \n",
       "                        r_c                                                   \n",
       "\n",
       "                    2                   ⎞\n",
       " - 6⋅X₂⋅r_c + X₃⋅r_c  - 6⋅X₄⋅r_c - 12⋅X₅⎠\n",
       "─────────────────────────────────────────\n",
       "             2                           \n",
       "        2⋅r_c                            "
      ]
     },
     "metadata": {},
     "output_type": "display_data"
    },
    {
     "data": {
      "image/png": "[encoded data removed]",
      "text/latex": [
       "$$X_{1} \\left(\\frac{3 r^{4}}{r_{c}^{4}} - \\frac{8 r^{3}}{r_{c}^{3}} + \\frac{6 r^{2}}{r_{c}^{2}}\\right) + X_{2}^{2} \\left(- \\frac{r^{4}}{2 r_{c}^{2}} + \\frac{r^{3}}{r_{c}} - \\frac{r^{2}}{2}\\right) + X_{2} \\left(- \\frac{2 r^{4}}{r_{c}^{3}} + \\frac{5 r^{3}}{r_{c}^{2}} - \\frac{3 r^{2}}{r_{c}}\\right) + X_{3} \\left(\\frac{r^{4}}{2 r_{c}^{2}} - \\frac{r^{3}}{r_{c}} + \\frac{r^{2}}{2}\\right) + X_{4} \\left(- \\frac{r^{4}}{r_{c}^{3}} + \\frac{3 r^{3}}{r_{c}^{2}} - \\frac{3 r^{2}}{r_{c}} + r\\right) + X_{5} \\left(- \\frac{3 r^{4}}{r_{c}^{4}} + \\frac{8 r^{3}}{r_{c}^{3}} - \\frac{6 r^{2}}{r_{c}^{2}} + 1\\right)$$"
      ],
      "text/plain": [
       "   ⎛   4      3      2⎞       ⎛     4       3    2⎞      ⎛     4      3      2\n",
       "   ⎜3⋅r    8⋅r    6⋅r ⎟     2 ⎜    r       r    r ⎟      ⎜  2⋅r    5⋅r    3⋅r \n",
       "X₁⋅⎜──── - ──── + ────⎟ + X₂ ⋅⎜- ────── + ─── - ──⎟ + X₂⋅⎜- ──── + ──── - ────\n",
       "   ⎜   4      3      2⎟       ⎜       2   r_c   2 ⎟      ⎜     3      2   r_c \n",
       "   ⎝r_c    r_c    r_c ⎠       ⎝  2⋅r_c            ⎠      ⎝  r_c    r_c        \n",
       "\n",
       "⎞      ⎛   4       3    2⎞      ⎛    4       3      2    ⎞      ⎛     4      3\n",
       "⎟      ⎜  r       r    r ⎟      ⎜   r     3⋅r    3⋅r     ⎟      ⎜  3⋅r    8⋅r \n",
       "⎟ + X₃⋅⎜────── - ─── + ──⎟ + X₄⋅⎜- ──── + ──── - ──── + r⎟ + X₅⋅⎜- ──── + ────\n",
       "⎟      ⎜     2   r_c   2 ⎟      ⎜     3      2   r_c     ⎟      ⎜     4      3\n",
       "⎠      ⎝2⋅r_c            ⎠      ⎝  r_c    r_c            ⎠      ⎝  r_c    r_c \n",
       "\n",
       "      2    ⎞\n",
       "   6⋅r     ⎟\n",
       " - ──── + 1⎟\n",
       "      2    ⎟\n",
       "   r_c     ⎠"
      ]
     },
     "metadata": {},
     "output_type": "display_data"
    }
   ],
   "source": [
    "# Expand in terms of X's\n",
    "p_X = p.subs({alpha[i]:sln[i] for i in range(5)})\n",
    "display(p_X)\n",
    "c_p_X = expand(p_X)\n",
    "for sym in [X5, X4, X3, X2, X1]:\n",
    "    c_p_X = collect(c_p_X, sym)\n",
    "display(c_p_X)"
   ]
  },
  {
   "cell_type": "markdown",
   "metadata": {},
   "source": [
    " ### Effective local energy\n",
    " \n",
    " Fit this to an 'ideal local energy' to get the final parameter"
   ]
  },
  {
   "cell_type": "code",
   "execution_count": 18,
   "metadata": {},
   "outputs": [],
   "source": [
    "def del_spherical(e, r):\n",
    "    \"\"\"Compute Laplacian for expression e with respect to symbol r.\n",
    "        Currently works only with radial dependence\"\"\"\n",
    "    t1 = r*r*diff(e, r)\n",
    "    t2 = diff(t1, r)/(r*r)\n",
    "    return simplify(t2)"
   ]
  },
  {
   "cell_type": "code",
   "execution_count": 19,
   "metadata": {},
   "outputs": [
    {
     "data": {
      "image/png": "[encoded data removed]",
      "text/latex": [
       "$$- \\frac{Z_{eff}}{r} - \\frac{1}{2 r} \\left(r \\left(\\frac{d}{d r} p{\\left (r \\right )}\\right)^{2} + r \\frac{d^{2}}{d r^{2}}  p{\\left (r \\right )} + 2 \\frac{d}{d r} p{\\left (r \\right )}\\right)$$"
      ],
      "text/plain": [
       "                      2       2                   \n",
       "            ⎛d       ⎞       d            d       \n",
       "          r⋅⎜──(p(r))⎟  + r⋅───(p(r)) + 2⋅──(p(r))\n",
       "            ⎝dr      ⎠        2           dr      \n",
       "  Z_eff                     dr                    \n",
       "- ───── - ────────────────────────────────────────\n",
       "    r                       2⋅r                   "
      ]
     },
     "metadata": {},
     "output_type": "display_data"
    },
    {
     "data": {
      "image/png": "[encoded data removed]",
      "text/latex": [
       "$$- \\frac{Z_{eff}}{r} - \\frac{1}{2 r} \\left(8 r^{3} \\alpha_{4} + 6 r^{2} \\alpha_{3} + 2 r \\left(6 r^{2} \\alpha_{4} + 3 r \\alpha_{3} + \\alpha_{2}\\right) + r \\left(4 r^{3} \\alpha_{4} + 3 r^{2} \\alpha_{3} + 2 r \\alpha_{2} + \\alpha_{1}\\right)^{2} + 4 r \\alpha_{2} + 2 \\alpha_{1}\\right)$$"
      ],
      "text/plain": [
       "                                                                              \n",
       "             3               2                ⎛   2                           \n",
       "  Z_eff   8⋅r ⋅alpha[4] + 6⋅r ⋅alpha[3] + 2⋅r⋅⎝6⋅r ⋅alpha[4] + 3⋅r⋅alpha[3] + \n",
       "- ───── - ────────────────────────────────────────────────────────────────────\n",
       "    r                                                                         \n",
       "\n",
       "                                                                       2      \n",
       "        ⎞     ⎛   3               2                                   ⎞       \n",
       "alpha[2]⎠ + r⋅⎝4⋅r ⋅alpha[4] + 3⋅r ⋅alpha[3] + 2⋅r⋅alpha[2] + alpha[1]⎠  + 4⋅r\n",
       "──────────────────────────────────────────────────────────────────────────────\n",
       "              2⋅r                                                             \n",
       "\n",
       "                      \n",
       "                      \n",
       "⋅alpha[2] + 2⋅alpha[1]\n",
       "──────────────────────\n",
       "                      "
      ]
     },
     "execution_count": 19,
     "metadata": {},
     "output_type": "execute_result"
    }
   ],
   "source": [
    "# Effective one-electron local energy\n",
    "p_sym = Symbol('p')\n",
    "phi_tilde = exp(p_sym(r))\n",
    "Zeff = Symbol('Z_eff')\n",
    "El = -S.Half * del_spherical(phi_tilde, r)/phi_tilde - Zeff/r\n",
    "#print R_def\n",
    "#print del_spherical(R_def, r)\n",
    "display(El)\n",
    "El_sym = El.subs(p_sym(r), p).doit()\n",
    "El_sym"
   ]
  },
  {
   "cell_type": "code",
   "execution_count": 20,
   "metadata": {},
   "outputs": [],
   "source": [
    "def eval_local_energy(gto, alpha_vals, r_val, Zeff_val):\n",
    "    slist = {alpha[0]:alpha_vals[0], alpha[1]:alpha_vals[1], alpha[2]: alpha_vals[2], alpha[3]:alpha_vals[3],\n",
    "           alpha[4]:alpha_vals[4], Zeff:Zeff_val, r:r_val}\n",
    "    return El_sym.subs(slist).evalf()"
   ]
  },
  {
   "cell_type": "code",
   "execution_count": 21,
   "metadata": {},
   "outputs": [],
   "source": [
    "def get_current_local_energy(gto, xs, rc_val, alpha_vals, Zeff_val):\n",
    "    EL_curr = []\n",
    "    EL_at_rc = eval_local_energy(gto, alpha_vals, rc_val, Zeff_val)\n",
    "    dE = -EL_at_rc\n",
    "    #print 'dE = ',dE\n",
    "    for x in xs:\n",
    "        if x < rc_val:\n",
    "            el = eval_local_energy(gto, alpha_vals, x, Zeff_val)\n",
    "            EL_curr.append(el + dE)\n",
    "        else:\n",
    "            val, grad, lap = [g[0] for g in gto.eval_vgl(x, 0.0, 0.0)]\n",
    "            real_el = -.5*lap / val - Zeff_val/x\n",
    "            EL_curr.append(real_el + dE)\n",
    "    return EL_curr\n",
    "            \n",
    "        "
   ]
  },
  {
   "cell_type": "markdown",
   "metadata": {},
   "source": [
    "### Evaluate for He orbital"
   ]
  },
  {
   "cell_type": "code",
   "execution_count": 22,
   "metadata": {},
   "outputs": [
    {
     "name": "stdout",
     "output_type": "stream",
     "text": [
      "MO coeff size =  1\n"
     ]
    }
   ],
   "source": [
    "basis_set, he_MO = read_qmcpack.parse_qmc_wf('he_sto3g.wfj.xml',['He'])\n",
    "he_gto = gaussian_orbitals.GTO(basis_set['He'])\n",
    "rc_val = 0.1\n",
    "he_Z_val = 2.0\n"
   ]
  },
  {
   "cell_type": "code",
   "execution_count": 23,
   "metadata": {},
   "outputs": [
    {
     "data": {
      "image/png": "[encoded data removed]",
      "text/latex": [
       "$$\\left [ 0.19591909220204312\\right ]$$"
      ],
      "text/plain": [
       "[0.19591909220204312]"
      ]
     },
     "execution_count": 23,
     "metadata": {},
     "output_type": "execute_result"
    }
   ],
   "source": [
    "xvals = np.linspace(start=-2.0, stop=2.0, num=40)\n",
    "yvals = np.array([he_gto.eval_v(x, 0.0, 0.0)[0] for x in xvals])\n",
    "he_gto.eval_v(1.1, 0.0, 0.0)"
   ]
  },
  {
   "cell_type": "code",
   "execution_count": 24,
   "metadata": {},
   "outputs": [
    {
     "data": {
      "text/plain": [
       "[<matplotlib.lines.Line2D at 0x7f550ed58dd0>]"
      ]
     },
     "execution_count": 24,
     "metadata": {},
     "output_type": "execute_result"
    },
    {
     "data": {
      "image/png": "[encoded data removed]",
      "text/plain": [
       "<Figure size 432x288 with 1 Axes>"
      ]
     },
     "metadata": {},
     "output_type": "display_data"
    }
   ],
   "source": [
    "plt.plot(xvals, yvals)"
   ]
  },
  {
   "cell_type": "code",
   "execution_count": 25,
   "metadata": {},
   "outputs": [],
   "source": [
    "def compute_EL(X5_val):\n",
    "    xslist = {X1:X1_val, X2:X2_val, X3:X3_val, X4:X4_val, X5:X5_val, rc:rc_val}\n",
    "    alpha_vals = [s.subs(xslist) for s in sln]\n",
    "    aslist = {alpha0:alpha_vals[0], alpha1:alpha_vals[1], alpha2:alpha_vals[2], alpha3:alpha_vals[3],\n",
    "          alpha4:alpha_vals[4], Zeff:Zeff_val}\n",
    "    Elof_r = El.subs(aslist)\n",
    "    return Elof_r"
   ]
  },
  {
   "cell_type": "code",
   "execution_count": 26,
   "metadata": {},
   "outputs": [
    {
     "data": {
      "text/plain": [
       "array([0.012, 0.024, 0.036, 0.048, 0.06 , 0.072, 0.084, 0.096, 0.108,\n",
       "       0.12 ])"
      ]
     },
     "execution_count": 26,
     "metadata": {},
     "output_type": "execute_result"
    }
   ],
   "source": [
    "xs = np.linspace(start=0.012, stop=1.2*rc_val, num=10)\n",
    "xs"
   ]
  },
  {
   "cell_type": "markdown",
   "metadata": {},
   "source": [
    "Coefficients from the paper to fit an 'ideal' effective one-electron local energy"
   ]
  },
  {
   "cell_type": "code",
   "execution_count": 27,
   "metadata": {},
   "outputs": [],
   "source": [
    "beta0 = Symbol('beta_0')\n",
    "beta_vals = [beta0, 3.25819, -15.0126, 33.7308, -42.8705, 31.2276, -12.1316, 1.94692]"
   ]
  },
  {
   "cell_type": "code",
   "execution_count": 28,
   "metadata": {},
   "outputs": [
    {
     "data": {
      "image/png": "[encoded data removed]",
      "text/latex": [
       "$$\\beta_{0} + 1.94692 r^{8} - 12.1316 r^{7} + 31.2276 r^{6} - 42.8705 r^{5} + 33.7308 r^{4} - 15.0126 r^{3} + 3.25819 r^{2}$$"
      ],
      "text/plain": [
       "              8            7            6            5            4           \n",
       "β₀ + 1.94692⋅r  - 12.1316⋅r  + 31.2276⋅r  - 42.8705⋅r  + 33.7308⋅r  - 15.0126⋅\n",
       "\n",
       " 3            2\n",
       "r  + 3.25819⋅r "
      ]
     },
     "execution_count": 28,
     "metadata": {},
     "output_type": "execute_result"
    }
   ],
   "source": [
    "El_terms = [beta_vals[n]*r**(n+1) for n in range(1,8)]\n",
    "EL_ideal_sym = beta0 + sum(El_terms)\n",
    "EL_ideal_sym\n"
   ]
  },
  {
   "cell_type": "code",
   "execution_count": 29,
   "metadata": {},
   "outputs": [],
   "source": [
    "# Compute ideal local energy at a point\n",
    "def compute_ideal_EL(r_val, Z_val, beta0_val=0.0):\n",
    "    Z = Symbol('Z')\n",
    "    slist = {beta0: beta0_val, Z:Z_val, r:r_val}\n",
    "    return (Z*Z*EL_ideal_sym).subs(slist).evalf()"
   ]
  },
  {
   "cell_type": "code",
   "execution_count": 30,
   "metadata": {},
   "outputs": [
    {
     "name": "stdout",
     "output_type": "stream",
     "text": [
      "EL orig at r_c 0.0821748356368000\n"
     ]
    },
    {
     "data": {
      "image/png": "[encoded data removed]",
      "text/latex": [
       "$$-0.0205437089092$$"
      ],
      "text/plain": [
       "-0.0205437089092000"
      ]
     },
     "execution_count": 30,
     "metadata": {},
     "output_type": "execute_result"
    }
   ],
   "source": [
    "# Choose beta_0\n",
    "El_orig_at_rc = compute_ideal_EL(rc_val, he_Z_val)\n",
    "Z_val = he_Z_val\n",
    "print 'EL orig at r_c',El_orig_at_rc\n",
    "beta0_val = -(El_orig_at_rc)/Z_val/Z_val\n",
    "beta0_val"
   ]
  },
  {
   "cell_type": "code",
   "execution_count": 31,
   "metadata": {},
   "outputs": [
    {
     "data": {
      "image/png": "[encoded data removed]",
      "text/latex": [
       "$$\\left [ -0.0803991298194888, \\quad -0.0754546801244441, \\quad -0.0678695717125102, \\quad -0.0581144167949043, \\quad -0.0466068324832095, \\quad -0.0337156757426082, \\quad -0.019765043739301, \\quad -0.0050380477380434, \\quad 0.0102196314292798, \\quad 0.0257963984381417\\right ]$$"
      ],
      "text/plain": [
       "[-0.0803991298194888, -0.0754546801244441, -0.0678695717125102, -0.05811441679\n",
       "49043, -0.0466068324832095, -0.0337156757426082, -0.019765043739301, -0.005038\n",
       "0477380434, 0.0102196314292798, 0.0257963984381417]"
      ]
     },
     "execution_count": 31,
     "metadata": {},
     "output_type": "execute_result"
    }
   ],
   "source": [
    "EL_ideal = [compute_ideal_EL(rval,he_Z_val, beta0_val) for rval in xs]\n",
    "EL_ideal"
   ]
  },
  {
   "cell_type": "code",
   "execution_count": 32,
   "metadata": {},
   "outputs": [],
   "source": [
    "# Evaluate values of X's\n",
    "def evalX(phi_func, rc_val, C_val, Z_val, phi_at_zero, eta_at_zero=0.0):\n",
    "    X = [0.0]*5\n",
    "    phi_at_rc, grad_at_rc, lapl_at_rc = phi_func(rc_val)\n",
    "    X[0] = log(abs(phi_at_rc - C_val))\n",
    "    X[1] = grad_at_rc[0] / (phi_at_rc - C_val)\n",
    "    X[2] = (lapl_at_rc - 2.0*grad_at_rc[0]/rc_val)/(phi_at_rc - C_val)\n",
    "    X[3] = -Z_val * (phi_at_zero + eta_at_zero) / (phi_at_zero - C_val)\n",
    "    X[4] = log(abs(phi_at_zero - C_val))\n",
    "    return X"
   ]
  },
  {
   "cell_type": "code",
   "execution_count": 33,
   "metadata": {},
   "outputs": [],
   "source": [
    "def create_phi_func(gto):\n",
    "    def phi_func(r_val):\n",
    "        val,grad,lap = gto.eval_vgl(r_val, 0.0, 0.0)\n",
    "        return val[0], grad[0], lap[0]\n",
    "    \n",
    "    return phi_func"
   ]
  },
  {
   "cell_type": "code",
   "execution_count": 34,
   "metadata": {},
   "outputs": [
    {
     "data": {
      "image/png": "[encoded data removed]",
      "text/latex": [
       "$$\\left [ -0.0334368911103358, \\quad -0.653568722769692, \\quad -5.81948816400263, \\quad -2.0, \\quad -0.000396345019839402\\right ]$$"
      ],
      "text/plain": [
       "[-0.0334368911103358, -0.653568722769692, -5.81948816400263, -2.0, -0.00039634\n",
       "5019839402]"
      ]
     },
     "execution_count": 34,
     "metadata": {},
     "output_type": "execute_result"
    }
   ],
   "source": [
    "Xvals = [0.0]*5\n",
    "C_val = 0.0\n",
    "he_Z_val = 2.0\n",
    "he_phi = create_phi_func(he_gto)\n",
    "evalX(he_phi, rc_val, C_val, he_Z_val, he_phi(0.0)[0])"
   ]
  },
  {
   "cell_type": "code",
   "execution_count": 35,
   "metadata": {},
   "outputs": [],
   "source": [
    "def solve_for_alpha(Xvals):\n",
    "    xslist = {X1:Xvals[0], X2:Xvals[1], X3:Xvals[2], X4:Xvals[3], X5:Xvals[4], rc:rc_val}\n",
    "    alpha_vals = [s.subs(xslist) for s in sln]\n",
    "    return alpha_vals"
   ]
  },
  {
   "cell_type": "code",
   "execution_count": 36,
   "metadata": {},
   "outputs": [],
   "source": [
    "he_alpha_vals = solve_for_alpha(Xvals)"
   ]
  },
  {
   "cell_type": "code",
   "execution_count": 37,
   "metadata": {},
   "outputs": [
    {
     "name": "stdout",
     "output_type": "stream",
     "text": [
      "0.1\n"
     ]
    }
   ],
   "source": [
    "print rc_val"
   ]
  },
  {
   "cell_type": "code",
   "execution_count": 38,
   "metadata": {},
   "outputs": [
    {
     "data": {
      "image/png": "[encoded data removed]",
      "text/latex": [
       "$$\\left [ -146.666666666667, \\quad -63.3333333333333, \\quad -35.5555555555555, \\quad -21.6666666666667, \\quad -13.3333333333333, \\quad -7.77777777777777, \\quad -3.80952380952381, \\quad -0.833333333333336, \\quad 10.8333014114113, \\quad 12.5325803946451\\right ]$$"
      ],
      "text/plain": [
       "[-146.666666666667, -63.3333333333333, -35.5555555555555, -21.6666666666667, -\n",
       "13.3333333333333, -7.77777777777777, -3.80952380952381, -0.833333333333336, 10\n",
       ".8333014114113, 12.5325803946451]"
      ]
     },
     "execution_count": 38,
     "metadata": {},
     "output_type": "execute_result"
    }
   ],
   "source": [
    "EL_curr = get_current_local_energy(he_gto, xs, rc_val, he_alpha_vals, he_Z_val)\n",
    "EL_curr"
   ]
  },
  {
   "cell_type": "code",
   "execution_count": 39,
   "metadata": {},
   "outputs": [
    {
     "data": {
      "text/plain": [
       "[<matplotlib.lines.Line2D at 0x7f5512c36d10>,\n",
       " <matplotlib.lines.Line2D at 0x7f550ec4df50>]"
      ]
     },
     "execution_count": 39,
     "metadata": {},
     "output_type": "execute_result"
    },
    {
     "data": {
      "image/png": "[encoded data removed]",
      "text/plain": [
       "<Figure size 432x288 with 1 Axes>"
      ]
     },
     "metadata": {},
     "output_type": "display_data"
    }
   ],
   "source": [
    "plt.plot(xs, EL_ideal, xs, EL_curr)"
   ]
  },
  {
   "cell_type": "code",
   "execution_count": 40,
   "metadata": {},
   "outputs": [],
   "source": [
    "def compute_chi2(EL_ideal, EL_curr):\n",
    "    return sum([(e1-e2)**2 for e1,e2 in zip(EL_ideal, EL_curr)])"
   ]
  },
  {
   "cell_type": "code",
   "execution_count": 41,
   "metadata": {},
   "outputs": [
    {
     "data": {
      "image/png": "[encoded data removed]",
      "text/latex": [
       "$$27740.513117587$$"
      ],
      "text/plain": [
       "27740.5131175870"
      ]
     },
     "execution_count": 41,
     "metadata": {},
     "output_type": "execute_result"
    }
   ],
   "source": [
    "compute_chi2(EL_ideal, EL_curr)"
   ]
  },
  {
   "cell_type": "code",
   "execution_count": 42,
   "metadata": {},
   "outputs": [],
   "source": [
    "def compute_one_cycle(phi_func, gto, rc_val, Z_val, phi_at_zero, eta_at_zero=0.0):\n",
    "    C_val = 0.0\n",
    "    X = evalX(phi_func, rc_val, C_val, Z_val, phi_at_zero, eta_at_zero)\n",
    "    alpha_vals = solve_for_alpha(X)\n",
    "    EL_curr = get_current_local_energy(he_gto, xs, rc_val, alpha_vals, Z_val)\n",
    "    chi2 = compute_chi2(EL_ideal, EL_curr)\n",
    "    return chi2, alpha_vals, EL_curr\n",
    "    \n",
    "    "
   ]
  },
  {
   "cell_type": "code",
   "execution_count": 43,
   "metadata": {},
   "outputs": [
    {
     "name": "stdout",
     "output_type": "stream",
     "text": [
      "25854.2846426019\n",
      "21111.8921728781\n",
      "16918.8592218111\n",
      "13256.3864130293\n",
      "10106.4199357371\n",
      "7451.61627411234\n",
      "5275.30889319427\n",
      "3561.47675650037\n",
      "2294.71455959869\n",
      "1460.20457213250\n"
     ]
    }
   ],
   "source": [
    "phi_at_zero = he_phi(0.0)[0]\n",
    "EL_curr = []\n",
    "for ioffset in range(10):\n",
    "    chi2, alpha_vals, EL_curr = compute_one_cycle(he_phi, he_gto, rc_val, he_Z_val, phi_at_zero+.01*ioffset)\n",
    "    print chi2"
   ]
  },
  {
   "cell_type": "code",
   "execution_count": 56,
   "metadata": {},
   "outputs": [
    {
     "data": {
      "application/javascript": [
       "/* Put everything inside the global mpl namespace */\n",
       "window.mpl = {};\n",
       "\n",
       "\n",
       "mpl.get_websocket_type = function() {\n",
       "    if (typeof(WebSocket) !== 'undefined') {\n",
       "        return WebSocket;\n",
       "    } else if (typeof(MozWebSocket) !== 'undefined') {\n",
       "        return MozWebSocket;\n",
       "    } else {\n",
       "        alert('Your browser does not have WebSocket support.' +\n",
       "              'Please try Chrome, Safari or Firefox ≥ 6. ' +\n",
       "              'Firefox 4 and 5 are also supported but you ' +\n",
       "              'have to enable WebSockets in about:config.');\n",
       "    };\n",
       "}\n",
       "\n",
       "mpl.figure = function(figure_id, websocket, ondownload, parent_element) {\n",
       "    this.id = figure_id;\n",
       "\n",
       "    this.ws = websocket;\n",
       "\n",
       "    this.supports_binary = (this.ws.binaryType != undefined);\n",
       "\n",
       "    if (!this.supports_binary) {\n",
       "        var warnings = document.getElementById(\"mpl-warnings\");\n",
       "        if (warnings) {\n",
       "            warnings.style.display = 'block';\n",
       "            warnings.textContent = (\n",
       "                \"This browser does not support binary websocket messages. \" +\n",
       "                    \"Performance may be slow.\");\n",
       "        }\n",
       "    }\n",
       "\n",
       "    this.imageObj = new Image();\n",
       "\n",
       "    this.context = undefined;\n",
       "    this.message = undefined;\n",
       "    this.canvas = undefined;\n",
       "    this.rubberband_canvas = undefined;\n",
       "    this.rubberband_context = undefined;\n",
       "    this.format_dropdown = undefined;\n",
       "\n",
       "    this.image_mode = 'full';\n",
       "\n",
       "    this.root = $('<div/>');\n",
       "    this._root_extra_style(this.root)\n",
       "    this.root.attr('style', 'display: inline-block');\n",
       "\n",
       "    $(parent_element).append(this.root);\n",
       "\n",
       "    this._init_header(this);\n",
       "    this._init_canvas(this);\n",
       "    this._init_toolbar(this);\n",
       "\n",
       "    var fig = this;\n",
       "\n",
       "    this.waiting = false;\n",
       "\n",
       "    this.ws.onopen =  function () {\n",
       "            fig.send_message(\"supports_binary\", {value: fig.supports_binary});\n",
       "            fig.send_message(\"send_image_mode\", {});\n",
       "            if (mpl.ratio != 1) {\n",
       "                fig.send_message(\"set_dpi_ratio\", {'dpi_ratio': mpl.ratio});\n",
       "            }\n",
       "            fig.send_message(\"refresh\", {});\n",
       "        }\n",
       "\n",
       "    this.imageObj.onload = function() {\n",
       "            if (fig.image_mode == 'full') {\n",
       "                // Full images could contain transparency (where diff images\n",
       "                // almost always do), so we need to clear the canvas so that\n",
       "                // there is no ghosting.\n",
       "                fig.context.clearRect(0, 0, fig.canvas.width, fig.canvas.height);\n",
       "            }\n",
       "            fig.context.drawImage(fig.imageObj, 0, 0);\n",
       "        };\n",
       "\n",
       "    this.imageObj.onunload = function() {\n",
       "        fig.ws.close();\n",
       "    }\n",
       "\n",
       "    this.ws.onmessage = this._make_on_message_function(this);\n",
       "\n",
       "    this.ondownload = ondownload;\n",
       "}\n",
       "\n",
       "mpl.figure.prototype._init_header = function() {\n",
       "    var titlebar = $(\n",
       "        '<div class=\"ui-dialog-titlebar ui-widget-header ui-corner-all ' +\n",
       "        'ui-helper-clearfix\"/>');\n",
       "    var titletext = $(\n",
       "        '<div class=\"ui-dialog-title\" style=\"width: 100%; ' +\n",
       "        'text-align: center; padding: 3px;\"/>');\n",
       "    titlebar.append(titletext)\n",
       "    this.root.append(titlebar);\n",
       "    this.header = titletext[0];\n",
       "}\n",
       "\n",
       "\n",
       "\n",
       "mpl.figure.prototype._canvas_extra_style = function(canvas_div) {\n",
       "\n",
       "}\n",
       "\n",
       "\n",
       "mpl.figure.prototype._root_extra_style = function(canvas_div) {\n",
       "\n",
       "}\n",
       "\n",
       "mpl.figure.prototype._init_canvas = function() {\n",
       "    var fig = this;\n",
       "\n",
       "    var canvas_div = $('<div/>');\n",
       "\n",
       "    canvas_div.attr('style', 'position: relative; clear: both; outline: 0');\n",
       "\n",
       "    function canvas_keyboard_event(event) {\n",
       "        return fig.key_event(event, event['data']);\n",
       "    }\n",
       "\n",
       "    canvas_div.keydown('key_press', canvas_keyboard_event);\n",
       "    canvas_div.keyup('key_release', canvas_keyboard_event);\n",
       "    this.canvas_div = canvas_div\n",
       "    this._canvas_extra_style(canvas_div)\n",
       "    this.root.append(canvas_div);\n",
       "\n",
       "    var canvas = $('<canvas/>');\n",
       "    canvas.addClass('mpl-canvas');\n",
       "    canvas.attr('style', \"left: 0; top: 0; z-index: 0; outline: 0\")\n",
       "\n",
       "    this.canvas = canvas[0];\n",
       "    this.context = canvas[0].getContext(\"2d\");\n",
       "\n",
       "    var backingStore = this.context.backingStorePixelRatio ||\n",
       "\tthis.context.webkitBackingStorePixelRatio ||\n",
       "\tthis.context.mozBackingStorePixelRatio ||\n",
       "\tthis.context.msBackingStorePixelRatio ||\n",
       "\tthis.context.oBackingStorePixelRatio ||\n",
       "\tthis.context.backingStorePixelRatio || 1;\n",
       "\n",
       "    mpl.ratio = (window.devicePixelRatio || 1) / backingStore;\n",
       "\n",
       "    var rubberband = $('<canvas/>');\n",
       "    rubberband.attr('style', \"position: absolute; left: 0; top: 0; z-index: 1;\")\n",
       "\n",
       "    var pass_mouse_events = true;\n",
       "\n",
       "    canvas_div.resizable({\n",
       "        start: function(event, ui) {\n",
       "            pass_mouse_events = false;\n",
       "        },\n",
       "        resize: function(event, ui) {\n",
       "            fig.request_resize(ui.size.width, ui.size.height);\n",
       "        },\n",
       "        stop: function(event, ui) {\n",
       "            pass_mouse_events = true;\n",
       "            fig.request_resize(ui.size.width, ui.size.height);\n",
       "        },\n",
       "    });\n",
       "\n",
       "    function mouse_event_fn(event) {\n",
       "        if (pass_mouse_events)\n",
       "            return fig.mouse_event(event, event['data']);\n",
       "    }\n",
       "\n",
       "    rubberband.mousedown('button_press', mouse_event_fn);\n",
       "    rubberband.mouseup('button_release', mouse_event_fn);\n",
       "    // Throttle sequential mouse events to 1 every 20ms.\n",
       "    rubberband.mousemove('motion_notify', mouse_event_fn);\n",
       "\n",
       "    rubberband.mouseenter('figure_enter', mouse_event_fn);\n",
       "    rubberband.mouseleave('figure_leave', mouse_event_fn);\n",
       "\n",
       "    canvas_div.on(\"wheel\", function (event) {\n",
       "        event = event.originalEvent;\n",
       "        event['data'] = 'scroll'\n",
       "        if (event.deltaY < 0) {\n",
       "            event.step = 1;\n",
       "        } else {\n",
       "            event.step = -1;\n",
       "        }\n",
       "        mouse_event_fn(event);\n",
       "    });\n",
       "\n",
       "    canvas_div.append(canvas);\n",
       "    canvas_div.append(rubberband);\n",
       "\n",
       "    this.rubberband = rubberband;\n",
       "    this.rubberband_canvas = rubberband[0];\n",
       "    this.rubberband_context = rubberband[0].getContext(\"2d\");\n",
       "    this.rubberband_context.strokeStyle = \"#000000\";\n",
       "\n",
       "    this._resize_canvas = function(width, height) {\n",
       "        // Keep the size of the canvas, canvas container, and rubber band\n",
       "        // canvas in synch.\n",
       "        canvas_div.css('width', width)\n",
       "        canvas_div.css('height', height)\n",
       "\n",
       "        canvas.attr('width', width * mpl.ratio);\n",
       "        canvas.attr('height', height * mpl.ratio);\n",
       "        canvas.attr('style', 'width: ' + width + 'px; height: ' + height + 'px;');\n",
       "\n",
       "        rubberband.attr('width', width);\n",
       "        rubberband.attr('height', height);\n",
       "    }\n",
       "\n",
       "    // Set the figure to an initial 600x600px, this will subsequently be updated\n",
       "    // upon first draw.\n",
       "    this._resize_canvas(600, 600);\n",
       "\n",
       "    // Disable right mouse context menu.\n",
       "    $(this.rubberband_canvas).bind(\"contextmenu\",function(e){\n",
       "        return false;\n",
       "    });\n",
       "\n",
       "    function set_focus () {\n",
       "        canvas.focus();\n",
       "        canvas_div.focus();\n",
       "    }\n",
       "\n",
       "    window.setTimeout(set_focus, 100);\n",
       "}\n",
       "\n",
       "mpl.figure.prototype._init_toolbar = function() {\n",
       "    var fig = this;\n",
       "\n",
       "    var nav_element = $('<div/>')\n",
       "    nav_element.attr('style', 'width: 100%');\n",
       "    this.root.append(nav_element);\n",
       "\n",
       "    // Define a callback function for later on.\n",
       "    function toolbar_event(event) {\n",
       "        return fig.toolbar_button_onclick(event['data']);\n",
       "    }\n",
       "    function toolbar_mouse_event(event) {\n",
       "        return fig.toolbar_button_onmouseover(event['data']);\n",
       "    }\n",
       "\n",
       "    for(var toolbar_ind in mpl.toolbar_items) {\n",
       "        var name = mpl.toolbar_items[toolbar_ind][0];\n",
       "        var tooltip = mpl.toolbar_items[toolbar_ind][1];\n",
       "        var image = mpl.toolbar_items[toolbar_ind][2];\n",
       "        var method_name = mpl.toolbar_items[toolbar_ind][3];\n",
       "\n",
       "        if (!name) {\n",
       "            // put a spacer in here.\n",
       "            continue;\n",
       "        }\n",
       "        var button = $('<button/>');\n",
       "        button.addClass('ui-button ui-widget ui-state-default ui-corner-all ' +\n",
       "                        'ui-button-icon-only');\n",
       "        button.attr('role', 'button');\n",
       "        button.attr('aria-disabled', 'false');\n",
       "        button.click(method_name, toolbar_event);\n",
       "        button.mouseover(tooltip, toolbar_mouse_event);\n",
       "\n",
       "        var icon_img = $('<span/>');\n",
       "        icon_img.addClass('ui-button-icon-primary ui-icon');\n",
       "        icon_img.addClass(image);\n",
       "        icon_img.addClass('ui-corner-all');\n",
       "\n",
       "        var tooltip_span = $('<span/>');\n",
       "        tooltip_span.addClass('ui-button-text');\n",
       "        tooltip_span.html(tooltip);\n",
       "\n",
       "        button.append(icon_img);\n",
       "        button.append(tooltip_span);\n",
       "\n",
       "        nav_element.append(button);\n",
       "    }\n",
       "\n",
       "    var fmt_picker_span = $('<span/>');\n",
       "\n",
       "    var fmt_picker = $('<select/>');\n",
       "    fmt_picker.addClass('mpl-toolbar-option ui-widget ui-widget-content');\n",
       "    fmt_picker_span.append(fmt_picker);\n",
       "    nav_element.append(fmt_picker_span);\n",
       "    this.format_dropdown = fmt_picker[0];\n",
       "\n",
       "    for (var ind in mpl.extensions) {\n",
       "        var fmt = mpl.extensions[ind];\n",
       "        var option = $(\n",
       "            '<option/>', {selected: fmt === mpl.default_extension}).html(fmt);\n",
       "        fmt_picker.append(option)\n",
       "    }\n",
       "\n",
       "    // Add hover states to the ui-buttons\n",
       "    $( \".ui-button\" ).hover(\n",
       "        function() { $(this).addClass(\"ui-state-hover\");},\n",
       "        function() { $(this).removeClass(\"ui-state-hover\");}\n",
       "    );\n",
       "\n",
       "    var status_bar = $('<span class=\"mpl-message\"/>');\n",
       "    nav_element.append(status_bar);\n",
       "    this.message = status_bar[0];\n",
       "}\n",
       "\n",
       "mpl.figure.prototype.request_resize = function(x_pixels, y_pixels) {\n",
       "    // Request matplotlib to resize the figure. Matplotlib will then trigger a resize in the client,\n",
       "    // which will in turn request a refresh of the image.\n",
       "    this.send_message('resize', {'width': x_pixels, 'height': y_pixels});\n",
       "}\n",
       "\n",
       "mpl.figure.prototype.send_message = function(type, properties) {\n",
       "    properties['type'] = type;\n",
       "    properties['figure_id'] = this.id;\n",
       "    this.ws.send(JSON.stringify(properties));\n",
       "}\n",
       "\n",
       "mpl.figure.prototype.send_draw_message = function() {\n",
       "    if (!this.waiting) {\n",
       "        this.waiting = true;\n",
       "        this.ws.send(JSON.stringify({type: \"draw\", figure_id: this.id}));\n",
       "    }\n",
       "}\n",
       "\n",
       "\n",
       "mpl.figure.prototype.handle_save = function(fig, msg) {\n",
       "    var format_dropdown = fig.format_dropdown;\n",
       "    var format = format_dropdown.options[format_dropdown.selectedIndex].value;\n",
       "    fig.ondownload(fig, format);\n",
       "}\n",
       "\n",
       "\n",
       "mpl.figure.prototype.handle_resize = function(fig, msg) {\n",
       "    var size = msg['size'];\n",
       "    if (size[0] != fig.canvas.width || size[1] != fig.canvas.height) {\n",
       "        fig._resize_canvas(size[0], size[1]);\n",
       "        fig.send_message(\"refresh\", {});\n",
       "    };\n",
       "}\n",
       "\n",
       "mpl.figure.prototype.handle_rubberband = function(fig, msg) {\n",
       "    var x0 = msg['x0'] / mpl.ratio;\n",
       "    var y0 = (fig.canvas.height - msg['y0']) / mpl.ratio;\n",
       "    var x1 = msg['x1'] / mpl.ratio;\n",
       "    var y1 = (fig.canvas.height - msg['y1']) / mpl.ratio;\n",
       "    x0 = Math.floor(x0) + 0.5;\n",
       "    y0 = Math.floor(y0) + 0.5;\n",
       "    x1 = Math.floor(x1) + 0.5;\n",
       "    y1 = Math.floor(y1) + 0.5;\n",
       "    var min_x = Math.min(x0, x1);\n",
       "    var min_y = Math.min(y0, y1);\n",
       "    var width = Math.abs(x1 - x0);\n",
       "    var height = Math.abs(y1 - y0);\n",
       "\n",
       "    fig.rubberband_context.clearRect(\n",
       "        0, 0, fig.canvas.width, fig.canvas.height);\n",
       "\n",
       "    fig.rubberband_context.strokeRect(min_x, min_y, width, height);\n",
       "}\n",
       "\n",
       "mpl.figure.prototype.handle_figure_label = function(fig, msg) {\n",
       "    // Updates the figure title.\n",
       "    fig.header.textContent = msg['label'];\n",
       "}\n",
       "\n",
       "mpl.figure.prototype.handle_cursor = function(fig, msg) {\n",
       "    var cursor = msg['cursor'];\n",
       "    switch(cursor)\n",
       "    {\n",
       "    case 0:\n",
       "        cursor = 'pointer';\n",
       "        break;\n",
       "    case 1:\n",
       "        cursor = 'default';\n",
       "        break;\n",
       "    case 2:\n",
       "        cursor = 'crosshair';\n",
       "        break;\n",
       "    case 3:\n",
       "        cursor = 'move';\n",
       "        break;\n",
       "    }\n",
       "    fig.rubberband_canvas.style.cursor = cursor;\n",
       "}\n",
       "\n",
       "mpl.figure.prototype.handle_message = function(fig, msg) {\n",
       "    fig.message.textContent = msg['message'];\n",
       "}\n",
       "\n",
       "mpl.figure.prototype.handle_draw = function(fig, msg) {\n",
       "    // Request the server to send over a new figure.\n",
       "    fig.send_draw_message();\n",
       "}\n",
       "\n",
       "mpl.figure.prototype.handle_image_mode = function(fig, msg) {\n",
       "    fig.image_mode = msg['mode'];\n",
       "}\n",
       "\n",
       "mpl.figure.prototype.updated_canvas_event = function() {\n",
       "    // Called whenever the canvas gets updated.\n",
       "    this.send_message(\"ack\", {});\n",
       "}\n",
       "\n",
       "// A function to construct a web socket function for onmessage handling.\n",
       "// Called in the figure constructor.\n",
       "mpl.figure.prototype._make_on_message_function = function(fig) {\n",
       "    return function socket_on_message(evt) {\n",
       "        if (evt.data instanceof Blob) {\n",
       "            /* FIXME: We get \"Resource interpreted as Image but\n",
       "             * transferred with MIME type text/plain:\" errors on\n",
       "             * Chrome.  But how to set the MIME type?  It doesn't seem\n",
       "             * to be part of the websocket stream */\n",
       "            evt.data.type = \"image/png\";\n",
       "\n",
       "            /* Free the memory for the previous frames */\n",
       "            if (fig.imageObj.src) {\n",
       "                (window.URL || window.webkitURL).revokeObjectURL(\n",
       "                    fig.imageObj.src);\n",
       "            }\n",
       "\n",
       "            fig.imageObj.src = (window.URL || window.webkitURL).createObjectURL(\n",
       "                evt.data);\n",
       "            fig.updated_canvas_event();\n",
       "            fig.waiting = false;\n",
       "            return;\n",
       "        }\n",
       "        else if (typeof evt.data === 'string' && evt.data.slice(0, 21) == \"data:image/png;base64\") {\n",
       "            fig.imageObj.src = evt.data;\n",
       "            fig.updated_canvas_event();\n",
       "            fig.waiting = false;\n",
       "            return;\n",
       "        }\n",
       "\n",
       "        var msg = JSON.parse(evt.data);\n",
       "        var msg_type = msg['type'];\n",
       "\n",
       "        // Call the  \"handle_{type}\" callback, which takes\n",
       "        // the figure and JSON message as its only arguments.\n",
       "        try {\n",
       "            var callback = fig[\"handle_\" + msg_type];\n",
       "        } catch (e) {\n",
       "            console.log(\"No handler for the '\" + msg_type + \"' message type: \", msg);\n",
       "            return;\n",
       "        }\n",
       "\n",
       "        if (callback) {\n",
       "            try {\n",
       "                // console.log(\"Handling '\" + msg_type + \"' message: \", msg);\n",
       "                callback(fig, msg);\n",
       "            } catch (e) {\n",
       "                console.log(\"Exception inside the 'handler_\" + msg_type + \"' callback:\", e, e.stack, msg);\n",
       "            }\n",
       "        }\n",
       "    };\n",
       "}\n",
       "\n",
       "// from http://stackoverflow.com/questions/1114465/getting-mouse-location-in-canvas\n",
       "mpl.findpos = function(e) {\n",
       "    //this section is from http://www.quirksmode.org/js/events_properties.html\n",
       "    var targ;\n",
       "    if (!e)\n",
       "        e = window.event;\n",
       "    if (e.target)\n",
       "        targ = e.target;\n",
       "    else if (e.srcElement)\n",
       "        targ = e.srcElement;\n",
       "    if (targ.nodeType == 3) // defeat Safari bug\n",
       "        targ = targ.parentNode;\n",
       "\n",
       "    // jQuery normalizes the pageX and pageY\n",
       "    // pageX,Y are the mouse positions relative to the document\n",
       "    // offset() returns the position of the element relative to the document\n",
       "    var x = e.pageX - $(targ).offset().left;\n",
       "    var y = e.pageY - $(targ).offset().top;\n",
       "\n",
       "    return {\"x\": x, \"y\": y};\n",
       "};\n",
       "\n",
       "/*\n",
       " * return a copy of an object with only non-object keys\n",
       " * we need this to avoid circular references\n",
       " * http://stackoverflow.com/a/24161582/3208463\n",
       " */\n",
       "function simpleKeys (original) {\n",
       "  return Object.keys(original).reduce(function (obj, key) {\n",
       "    if (typeof original[key] !== 'object')\n",
       "        obj[key] = original[key]\n",
       "    return obj;\n",
       "  }, {});\n",
       "}\n",
       "\n",
       "mpl.figure.prototype.mouse_event = function(event, name) {\n",
       "    var canvas_pos = mpl.findpos(event)\n",
       "\n",
       "    if (name === 'button_press')\n",
       "    {\n",
       "        this.canvas.focus();\n",
       "        this.canvas_div.focus();\n",
       "    }\n",
       "\n",
       "    var x = canvas_pos.x * mpl.ratio;\n",
       "    var y = canvas_pos.y * mpl.ratio;\n",
       "\n",
       "    this.send_message(name, {x: x, y: y, button: event.button,\n",
       "                             step: event.step,\n",
       "                             guiEvent: simpleKeys(event)});\n",
       "\n",
       "    /* This prevents the web browser from automatically changing to\n",
       "     * the text insertion cursor when the button is pressed.  We want\n",
       "     * to control all of the cursor setting manually through the\n",
       "     * 'cursor' event from matplotlib */\n",
       "    event.preventDefault();\n",
       "    return false;\n",
       "}\n",
       "\n",
       "mpl.figure.prototype._key_event_extra = function(event, name) {\n",
       "    // Handle any extra behaviour associated with a key event\n",
       "}\n",
       "\n",
       "mpl.figure.prototype.key_event = function(event, name) {\n",
       "\n",
       "    // Prevent repeat events\n",
       "    if (name == 'key_press')\n",
       "    {\n",
       "        if (event.which === this._key)\n",
       "            return;\n",
       "        else\n",
       "            this._key = event.which;\n",
       "    }\n",
       "    if (name == 'key_release')\n",
       "        this._key = null;\n",
       "\n",
       "    var value = '';\n",
       "    if (event.ctrlKey && event.which != 17)\n",
       "        value += \"ctrl+\";\n",
       "    if (event.altKey && event.which != 18)\n",
       "        value += \"alt+\";\n",
       "    if (event.shiftKey && event.which != 16)\n",
       "        value += \"shift+\";\n",
       "\n",
       "    value += 'k';\n",
       "    value += event.which.toString();\n",
       "\n",
       "    this._key_event_extra(event, name);\n",
       "\n",
       "    this.send_message(name, {key: value,\n",
       "                             guiEvent: simpleKeys(event)});\n",
       "    return false;\n",
       "}\n",
       "\n",
       "mpl.figure.prototype.toolbar_button_onclick = function(name) {\n",
       "    if (name == 'download') {\n",
       "        this.handle_save(this, null);\n",
       "    } else {\n",
       "        this.send_message(\"toolbar_button\", {name: name});\n",
       "    }\n",
       "};\n",
       "\n",
       "mpl.figure.prototype.toolbar_button_onmouseover = function(tooltip) {\n",
       "    this.message.textContent = tooltip;\n",
       "};\n",
       "mpl.toolbar_items = [[\"Home\", \"Reset original view\", \"fa fa-home icon-home\", \"home\"], [\"Back\", \"Back to  previous view\", \"fa fa-arrow-left icon-arrow-left\", \"back\"], [\"Forward\", \"Forward to next view\", \"fa fa-arrow-right icon-arrow-right\", \"forward\"], [\"\", \"\", \"\", \"\"], [\"Pan\", \"Pan axes with left mouse, zoom with right\", \"fa fa-arrows icon-move\", \"pan\"], [\"Zoom\", \"Zoom to rectangle\", \"fa fa-square-o icon-check-empty\", \"zoom\"], [\"\", \"\", \"\", \"\"], [\"Download\", \"Download plot\", \"fa fa-floppy-o icon-save\", \"download\"]];\n",
       "\n",
       "mpl.extensions = [\"eps\", \"jpeg\", \"pdf\", \"png\", \"ps\", \"raw\", \"svg\", \"tif\"];\n",
       "\n",
       "mpl.default_extension = \"png\";var comm_websocket_adapter = function(comm) {\n",
       "    // Create a \"websocket\"-like object which calls the given IPython comm\n",
       "    // object with the appropriate methods. Currently this is a non binary\n",
       "    // socket, so there is still some room for performance tuning.\n",
       "    var ws = {};\n",
       "\n",
       "    ws.close = function() {\n",
       "        comm.close()\n",
       "    };\n",
       "    ws.send = function(m) {\n",
       "        //console.log('sending', m);\n",
       "        comm.send(m);\n",
       "    };\n",
       "    // Register the callback with on_msg.\n",
       "    comm.on_msg(function(msg) {\n",
       "        //console.log('receiving', msg['content']['data'], msg);\n",
       "        // Pass the mpl event to the overridden (by mpl) onmessage function.\n",
       "        ws.onmessage(msg['content']['data'])\n",
       "    });\n",
       "    return ws;\n",
       "}\n",
       "\n",
       "mpl.mpl_figure_comm = function(comm, msg) {\n",
       "    // This is the function which gets called when the mpl process\n",
       "    // starts-up an IPython Comm through the \"matplotlib\" channel.\n",
       "\n",
       "    var id = msg.content.data.id;\n",
       "    // Get hold of the div created by the display call when the Comm\n",
       "    // socket was opened in Python.\n",
       "    var element = $(\"#\" + id);\n",
       "    var ws_proxy = comm_websocket_adapter(comm)\n",
       "\n",
       "    function ondownload(figure, format) {\n",
       "        window.open(figure.imageObj.src);\n",
       "    }\n",
       "\n",
       "    var fig = new mpl.figure(id, ws_proxy,\n",
       "                           ondownload,\n",
       "                           element.get(0));\n",
       "\n",
       "    // Call onopen now - mpl needs it, as it is assuming we've passed it a real\n",
       "    // web socket which is closed, not our websocket->open comm proxy.\n",
       "    ws_proxy.onopen();\n",
       "\n",
       "    fig.parent_element = element.get(0);\n",
       "    fig.cell_info = mpl.find_output_cell(\"<div id='\" + id + \"'></div>\");\n",
       "    if (!fig.cell_info) {\n",
       "        console.error(\"Failed to find cell for figure\", id, fig);\n",
       "        return;\n",
       "    }\n",
       "\n",
       "    var output_index = fig.cell_info[2]\n",
       "    var cell = fig.cell_info[0];\n",
       "\n",
       "};\n",
       "\n",
       "mpl.figure.prototype.handle_close = function(fig, msg) {\n",
       "    var width = fig.canvas.width/mpl.ratio\n",
       "    fig.root.unbind('remove')\n",
       "\n",
       "    // Update the output cell to use the data from the current canvas.\n",
       "    fig.push_to_output();\n",
       "    var dataURL = fig.canvas.toDataURL();\n",
       "    // Re-enable the keyboard manager in IPython - without this line, in FF,\n",
       "    // the notebook keyboard shortcuts fail.\n",
       "    IPython.keyboard_manager.enable()\n",
       "    $(fig.parent_element).html('<img src=\"' + dataURL + '\" width=\"' + width + '\">');\n",
       "    fig.close_ws(fig, msg);\n",
       "}\n",
       "\n",
       "mpl.figure.prototype.close_ws = function(fig, msg){\n",
       "    fig.send_message('closing', msg);\n",
       "    // fig.ws.close()\n",
       "}\n",
       "\n",
       "mpl.figure.prototype.push_to_output = function(remove_interactive) {\n",
       "    // Turn the data on the canvas into data in the output cell.\n",
       "    var width = this.canvas.width/mpl.ratio\n",
       "    var dataURL = this.canvas.toDataURL();\n",
       "    this.cell_info[1]['text/html'] = '<img src=\"' + dataURL + '\" width=\"' + width + '\">';\n",
       "}\n",
       "\n",
       "mpl.figure.prototype.updated_canvas_event = function() {\n",
       "    // Tell IPython that the notebook contents must change.\n",
       "    IPython.notebook.set_dirty(true);\n",
       "    this.send_message(\"ack\", {});\n",
       "    var fig = this;\n",
       "    // Wait a second, then push the new image to the DOM so\n",
       "    // that it is saved nicely (might be nice to debounce this).\n",
       "    setTimeout(function () { fig.push_to_output() }, 1000);\n",
       "}\n",
       "\n",
       "mpl.figure.prototype._init_toolbar = function() {\n",
       "    var fig = this;\n",
       "\n",
       "    var nav_element = $('<div/>')\n",
       "    nav_element.attr('style', 'width: 100%');\n",
       "    this.root.append(nav_element);\n",
       "\n",
       "    // Define a callback function for later on.\n",
       "    function toolbar_event(event) {\n",
       "        return fig.toolbar_button_onclick(event['data']);\n",
       "    }\n",
       "    function toolbar_mouse_event(event) {\n",
       "        return fig.toolbar_button_onmouseover(event['data']);\n",
       "    }\n",
       "\n",
       "    for(var toolbar_ind in mpl.toolbar_items){\n",
       "        var name = mpl.toolbar_items[toolbar_ind][0];\n",
       "        var tooltip = mpl.toolbar_items[toolbar_ind][1];\n",
       "        var image = mpl.toolbar_items[toolbar_ind][2];\n",
       "        var method_name = mpl.toolbar_items[toolbar_ind][3];\n",
       "\n",
       "        if (!name) { continue; };\n",
       "\n",
       "        var button = $('<button class=\"btn btn-default\" href=\"#\" title=\"' + name + '\"><i class=\"fa ' + image + ' fa-lg\"></i></button>');\n",
       "        button.click(method_name, toolbar_event);\n",
       "        button.mouseover(tooltip, toolbar_mouse_event);\n",
       "        nav_element.append(button);\n",
       "    }\n",
       "\n",
       "    // Add the status bar.\n",
       "    var status_bar = $('<span class=\"mpl-message\" style=\"text-align:right; float: right;\"/>');\n",
       "    nav_element.append(status_bar);\n",
       "    this.message = status_bar[0];\n",
       "\n",
       "    // Add the close button to the window.\n",
       "    var buttongrp = $('<div class=\"btn-group inline pull-right\"></div>');\n",
       "    var button = $('<button class=\"btn btn-mini btn-primary\" href=\"#\" title=\"Stop Interaction\"><i class=\"fa fa-power-off icon-remove icon-large\"></i></button>');\n",
       "    button.click(function (evt) { fig.handle_close(fig, {}); } );\n",
       "    button.mouseover('Stop Interaction', toolbar_mouse_event);\n",
       "    buttongrp.append(button);\n",
       "    var titlebar = this.root.find($('.ui-dialog-titlebar'));\n",
       "    titlebar.prepend(buttongrp);\n",
       "}\n",
       "\n",
       "mpl.figure.prototype._root_extra_style = function(el){\n",
       "    var fig = this\n",
       "    el.on(\"remove\", function(){\n",
       "\tfig.close_ws(fig, {});\n",
       "    });\n",
       "}\n",
       "\n",
       "mpl.figure.prototype._canvas_extra_style = function(el){\n",
       "    // this is important to make the div 'focusable\n",
       "    el.attr('tabindex', 0)\n",
       "    // reach out to IPython and tell the keyboard manager to turn it's self\n",
       "    // off when our div gets focus\n",
       "\n",
       "    // location in version 3\n",
       "    if (IPython.notebook.keyboard_manager) {\n",
       "        IPython.notebook.keyboard_manager.register_events(el);\n",
       "    }\n",
       "    else {\n",
       "        // location in version 2\n",
       "        IPython.keyboard_manager.register_events(el);\n",
       "    }\n",
       "\n",
       "}\n",
       "\n",
       "mpl.figure.prototype._key_event_extra = function(event, name) {\n",
       "    var manager = IPython.notebook.keyboard_manager;\n",
       "    if (!manager)\n",
       "        manager = IPython.keyboard_manager;\n",
       "\n",
       "    // Check for shift+enter\n",
       "    if (event.shiftKey && event.which == 13) {\n",
       "        this.canvas_div.blur();\n",
       "        event.shiftKey = false;\n",
       "        // Send a \"J\" for go to next cell\n",
       "        event.which = 74;\n",
       "        event.keyCode = 74;\n",
       "        manager.command_mode();\n",
       "        manager.handle_keydown(event);\n",
       "    }\n",
       "}\n",
       "\n",
       "mpl.figure.prototype.handle_save = function(fig, msg) {\n",
       "    fig.ondownload(fig, null);\n",
       "}\n",
       "\n",
       "\n",
       "mpl.find_output_cell = function(html_output) {\n",
       "    // Return the cell and output element which can be found *uniquely* in the notebook.\n",
       "    // Note - this is a bit hacky, but it is done because the \"notebook_saving.Notebook\"\n",
       "    // IPython event is triggered only after the cells have been serialised, which for\n",
       "    // our purposes (turning an active figure into a static one), is too late.\n",
       "    var cells = IPython.notebook.get_cells();\n",
       "    var ncells = cells.length;\n",
       "    for (var i=0; i<ncells; i++) {\n",
       "        var cell = cells[i];\n",
       "        if (cell.cell_type === 'code'){\n",
       "            for (var j=0; j<cell.output_area.outputs.length; j++) {\n",
       "                var data = cell.output_area.outputs[j];\n",
       "                if (data.data) {\n",
       "                    // IPython >= 3 moved mimebundle to data attribute of output\n",
       "                    data = data.data;\n",
       "                }\n",
       "                if (data['text/html'] == html_output) {\n",
       "                    return [cell, data, j];\n",
       "                }\n",
       "            }\n",
       "        }\n",
       "    }\n",
       "}\n",
       "\n",
       "// Register the function which deals with the matplotlib target/channel.\n",
       "// The kernel may be null if the page has been refreshed.\n",
       "if (IPython.notebook.kernel != null) {\n",
       "    IPython.notebook.kernel.comm_manager.register_target('matplotlib', mpl.mpl_figure_comm);\n",
       "}\n"
      ],
      "text/plain": [
       "<IPython.core.display.Javascript object>"
      ]
     },
     "metadata": {},
     "output_type": "display_data"
    },
    {
     "data": {
      "text/html": [
       "<img src=\"data:image/png;base64,iVBORw0KGgoAAAANSUhEUgAAAoAAAAHgCAYAAAA10dzkAAAgAElEQVR4nOzde1yUZf7/8RsQUBRwJUMR1EpNy7SsbduDmpVmabbtd7d009pDmhXmVr/a/dYWWR7oZNseql2z9iTaJrT1LTtoYaVouQsGhWeKEC0PCB5Bcd6/P24ZGS5Q8B6Ye2Zez8fjevRg5p6ZC67P5+7tzNz3bQkAAABhxQr0BAAAANC2CIAAAABhhgAIAAAQZgiAAAAAYYYACAAAEGYIgAAAAGGGAAgAABBmCIAAAABhhgAIAAAQZgiAAAAAYYYACAAAEGYIgAAAAGGGAAgAABBmCIAAAABhhgAIAAAQZgiAAAAAYYYACAAAEGYIgAAAAGGGAAgAABBmCIAAAABhhgAIAAAQZgiAAAAAYYYACAAAEGYIgAAAAGGGAAgAABBmCIAAAABhhgAIAAAQZgiAAAAAYYYACAAAEGYIgAAAAGGGAAgAABBmCIAAAABhhgAIAAAQZgiAAAAAYYYACAAAEGYIgAAAAGGGAAgAABBmCIAAAABhhgAIAAAQZgiAAAAAYYYACAAAEGYIgAAAAGGGAAgAABBmCIAAAABhhgAIAAAQZgiAAAAAYYYACAAAEGYIgAAAAGGGAAgAABBmCIAAAABhhgAIAAAQZgiAAAAAYYYACAAAEGYIgAAAAGGGAAgAABBmCIAAAABhhgDowNGjR1VWVqbKykpVVVUxGIyqKlVWVqqsrExHjx4NdItC7KcYjMYG+ykCoCNlZWWyLIvBYDQyysrKAt2iEPspBuNEI5z3UwRAByorK70FFOh/zbTq2LxGVb+JV9X9SarasTXw82G4etQFjsrKykC3KNT4fuqNN6pkWScfb7wR+HpiMFpjsJ8iADpSVVUly7JUVVUV6Km0Lo9HeuYCKSNB+uzVQM8GLhc2fREkGluP2lopNVWKiJAsyxwREVJamr0dEIrYTxEAHQmrAnrnt3YAXHxLoGcClwurvggCTa1HdrYd9BqGwLrbsrMDNGGgDbCfIgA6ElYFVLraDoCz06Taw4GeDVwsrPoiCJxoPbKz7XcC6wfAtDTCH0If+ykCoCNhVUBHa6XH+9ghcPP7gZ4NXCys+iIInGw9amul3FwpK8v+Lx/7IhywnyIAOhJ2BfRauh0A37gn0DOBi4VdX7gc6wGY6AsCoCNhV0Ab3rYD4FMD7ANDgEYEe1/Mnj1bF110kTp16qSuXbvq2muv1fr16322GT58uHE6iRtuuMFnm4qKCk2cOFEJCQlKSEjQxIkTtWfPHp9tCgsLNWzYMLVv314pKSmaMWOGPA16a/HixRowYIBiYmI0YMAA5eTktOj3Cfb1AFoDfUEAdCTsCujwIWlmdzsElucHejZwqWDviyuvvFIvvfSSPvvsM61du1ZjxoxRz549tX//fu82w4cP1+TJk7V9+3bvaHg6idGjR2vgwIHKy8tTXl6eBg4cqLFjx3rvr6qqUnJyssaPH6+ioiJlZ2crPj5eTz75pHebvLw8RUVFafbs2Vq3bp1mz56tdu3aafXq1c3+fYJ9PYDWQF8QAB0JywJ6eZIdAN97NNAzgUuFWl/s2LFDlmXpgw8+8N42fPhwTZ8+vcnHFBcXy7Isn6C2atUqWZblfTfx2WefVWJioqqrq73bzJkzRykpKd53Aa+//nqNHj3a57mvvPJKjR8/vtnzD7X1APyBviAAOhKWBfTpy3YA/NMlgZ4JXCrU+mLTpk2yLEtFRUXe24YPH67TTjtNSUlJOuecc3TPPfdo79693vvnz5+vxMRE47kSExP14osvSpImTZqkcePG+dyfn58vy7JUUlIiSUpLS9PcuXN9tpk7d6569uzZ7PmH2noA/kBfEAAdCcsCOlghzehih8BdmwM9G7hQKPWFx+PRNddcox/84Ac+t//lL3/R0qVLVVRUpIULF6p379664oorvPfPmjVLffv2NZ6vb9++mj17tiRp5MiRmjx5ss/95eXlsixLeXl5kqTo6GgtWLDAZ5sFCxYoJiamyTlXV1c3esWDUFgPwF9CaT91qgiADoRtAf1tnB0AV/4+0DOBC4VSX9x+++3q1avXSa8X+p///EeWZem///2vJDsA9uvXz9iuT58+mjNnjiQ7AE6ZMsXn/q1bt8qyLK1atUqSHQCzsrJ8tvnnP/+p2NjYJueSkZHR6DVPQ2E9AH8Jpf3UqSIAOhC2BbT6z3YAnH9loGcCFwqVvkhPT1dqaqr349gT8Xg8io6O1qJFiyQF9iNg3gEETi5U9lNOEAAdCNsCqiyzA2BGorRvR6BnA5cJ9r7weDy64447lJKSoo0bNzbrMUVFRT4HitQdBPLxxx97t1m9erVxEEjnzp1VU1Pj3SYzM9M4COSqq67yea3Ro0dzEAjgEH1BAHQkrAvo+WF2CPzv3wI9E7SFw4ekL/OkD5+SFlwvffVJk5sGe1/cdtttSkxM1PLly31O83Lw4EFJ0ubNmzVjxgytWbNGX3zxhd588031799fF1xwgWrrXUZj9OjRGjRokFatWqVVq1bpvPPO8zkNTGVlpZKTkzVhwgQVFRUpJydHCQkJPqeBWblypaKiopSZmal169YpMzOT08AAfkBfEAAdCesCWv64HQAX3HDybRF89u+S1r0pvfNb6YWR0iOnHXvX99j48MkmHxrsfdHY9+csy9JLL70kSfrqq680bNgwdenSRTExMTrrrLN05513avfu3T7Ps3v3bt14442Kj49XfHy8brzxxkZPBD106FDFxsaqW7duevjhh40TQb/yyis6++yzFR0drf79+yu7hRfqDfb1AFoDfUEAdCSsC+jrz+0g8EhXqXpfoGcDJzwe+4ju/H9K/75D+sNFvmGvbjzeR1p0o5T3R2nHhiafLqz7woVYD8BEXxAAHQnrAvJ4pN8NtoPB568FejZoiSM1UtkaaeUfpIU/lR4/q/HA94dv29d/LlhgB8RmXv4vrPvChVgPwERfEAAdCfsCevt+OyhkTzn5tgicg3ukje9Kyx6RXrxaejTZDHuPnCa9MEp690Fp/RLpwO6TP28Twr4vXIb1AEz0BQFQf/rTn9S7d2/FxsZqyJAh+vDDD5v92LAvoC9X2uFhTk+p9nCgZ4OGPB470GUkmoEvs5f9/c2P5kqlq+yDPPwk7PvCZVgPwERfhHkAXLRokaKjozVv3jwVFxdr+vTp6tixo0pLS5v1+LAvoKO10mNn2IFiy/JAzwb1ecPfscD3u8FSzlTpPy9JO9ZLR4+22kuHfV+4DOsBmOiLMA+AF198saZOnepzW//+/fWb3/ymWY+ngCT9+3Y7YLx5b6Bngvpy5xwPf5+80KYvTV+4C+sBmOiLMA6ANTU1ioqKUk5Ojs/td955p4YNG9as5wjFAvJ4PN5x9KjvqK03jtQe1ZHao6otfkPKSJDnqQE6fKRWh2uPquaIPaqP1HrHocPmOFhjjwM1R7xjf7U99tUbew8d1t5Dh1V1bFQePDYOHB97DtRoz4EaVey3x+5jY9e+au3aV62d9caOvfb4Zu8he1TZ4+tjY3ulPbZVHtS2yoMq32OPrcdGWcUBlVUc0Fe7fUfprgP6ctd+fblrv77YaY+SY2PLjn3asmOfNh8bm77Zp03f7NWmb/Zq49f22HBsrN9uj3Xbq7Rue5WKt9nj83J7fFZeqc/KK1W01XcUltlj2xvHw9/WJU+q4Ks9Kvhqj/JLK/TfY+M/X9aN3frPl7u15ovd+uTY+LjEHqu37NLqLbu0assu5W22x8rNO7Vy805tqzzYZA2FYl8EM9YDMNEXYRwA6y66vnLlSp/bm7qGp9TySyzVHDmqfg8saXL0PdG4v+nR5/43veOs/z0+zmwwzvjNG97Ru97o9Wv/jX6/ztGBh7pKGQm6+jd/9OtzM1o+Hrp/mjf8PXb/La32On9d+UWTvcWO1V1YD8BEXxAAlZeX53P7zJkzdfbZZzf6mJZeZL3myNGAB4K2GEt+e7mUkaDfPfCzgM+luaMuDNcF5LrQXBem6wK2N3gfC+Z14f3s39qj/2/fUv/fvqUBD9rjnGPj3Ife1rkPva2BdSPDHucdG4MefkeDHn5Hg2fY4/xj44JH3tUFj7yrIcfGhY++qwsfXaoLH12qi2ba49vHxsWz7PGdWcv0nVnLNOvRX3vD30uP/FLfm/Oed3w/0x4/eMweQx97X0Mfe1/DHrfH8Mff16VP5OrSJ3I1om48aY/Ljo3Ln1quy59ariueWq5X87c22VvsWN2F9QBM9EUYB8BT+Qi4pe8Aejwe78eFDcfWeh8p1o3yRkbdx5ANR93HlHXj6yrf8U3Dsdd31H0MWjfqPh7dVW/srvdRakW9Ufdx654DNao8cFgHPv6HlJGg2j9+1/vxbN3HtXvrjbqPdPfXG3Uf/dZ9HHywpvGPi+s+Sq77ePlwrT2O1Bt1H0/XfWRd91F2WFi76PjRvm/f3+xz9rUGdqzuwnoAJvoijAOgZB8Ectttt/ncNmDAAA4CaakDu6WHv2WHj90lgZ5N+PnsVenhzvbf///uCmj4k+gLt2E9ABN9EeYBsO40MPPnz1dxcbF+9atfqWPHjvryyy+b9XgKqJ6XxtgBJO+PgZ5JeFn/ljSji/23f/X2Vj29S3PRF+7CegAm+iLMA6Bknwi6V69eiomJ0ZAhQ/TBBx80+7EUUD2rnrNDyItXBXom4WPze/YVPDISpFd+bp+X0QXoC3dhPQATfUEAdIQCqmdPqR1EHu4s7d8Z6NmEvi9WHL+k28KfuupKLPSFu7AegIm+IAA6QgE18NwP7ECS/49AzyS0la2RZqXYf+t//I90pDrQM/JBX7gL6wGY6AsCoCMUUAO5mXYoyZoQ6JmErm1rpTlp9t/5pTHS4aZPyBwo9IW7sB6Aib4gADpCATWwvdAOJo+eLlXvC/RsQs83xVJmb/tv/MIo1/6N6Qt3YT0AE31BAHSEAmrA45GeOd8OKCueCfRsQsvOTdLjfey/7Z+HS4cqAz2jJtEX7sJ6ACb6ggDoCAXUiHz7pNDK7CUd4u/iFxVfSE8NsP+uz37PPu+ii9EX7sJ6ACb6ggDoCAXUiNoj0u8vtMNK7pxAzyb4VW6Vnj7P/nv+4SJp345Az+ik6At3YT0AE31BAHSEAmpCUbYdWGb1cP27Va6292vp90Psv+XvBktV2wI9o2ahL9yF9QBM9AUB0BEKqAlHj0rPft8OLu8+GOjZBKf9u6Q/XWL/Deeea59nMUjQF+7CegAm+oIA6AgFdALr3zp2RHCytHd7oGcTXA7uOX5OxSf6Sbs2B3pGLUJfuAvrAZjoCwKgIxTQCXg80rzL7RDzxj2Bnk3wqN57/O/22JnSjvWBnlGL0RfuwnoAJvqCAOgIBXQSJR/YQWZGklTxZaBnExwW3Wj/zeb0tM+rGIToC3dhPQATfUEAdIQCaoa/XmMHmldvD/RM3G/ze8eup/wt+3JvQYq+cBfWAzDRFwRARyigZihbcyzUdJZ2bAj0bNyr9rD0x4vtv9WS+wI9G0foC3dhPQATfUEAdIQCaqYFN9jB5l83B3om7rX6+WMn0O4tHawI9GwcoS/chfUATPQFAdARCqiZthfZ4SYjQdr2aaBn4z77d0lz0uy/zycvBHo2jtEX7sJ6ACb6ggDoCAXUAq/83A44C64P9Ezc5427j1/m7WhtoGfjGH3hLqwHYKIvCICOUEAtsHOTfXBDRoL01ceBno17bC+yvx+ZkSCVfBjo2fgFfeEurAdgoi8IgI5QQC3079vtoPPSmEDPxB08HvtvkZEgvTwp0LPxG/rCXVgPwERfEAAdoYBaaE+p9MhpduDZkhvo2QTe56/Zf4tHuobUeRLpC3dhPQATfUEAdIQCOgVv3muHnr9cZr8DFq4OH5KeHmj/Ld57NNCz8Sv6wl1YD8BEXxAAHaGATsHer+3rA2ckSOuXBHo2gfPB4/bf4Mn+Us3+QM/Gr+gLd2E9ABN9QQB0hAI6Re8+VO+o16OBnk3bqyqXZnaz/waf/ivQs/E7+sJdWA/ARF8QAB2hgE7Rgd3S7FQ7ABW+EujZtL3syfbv/sLIkPwYnL5wF9YDMNEXBEBHKCAHlj9mh6DfD5FqjwR6Nm3nq4+PnRQ7Udr630DPplXQF+7CegAm+oIA6AgF5ED1XumxM+ww9N+/B3o2bePoUenPl9q/879vD/RsWg194S6sB2CiLwiAjlBADq38vR2G5p4rHakO9GxaX/4/7d93Vg/7YJgQRV+4C+sBmOgLAqAjFJBDhw9KT55th6LVzwd6Nq3rUJX0eB/7d13xu0DPplXRF+7CegAm+oIA6AgF5AefvGCHosf7hNzpUHzUHfn8zPkh/24nfeEurAdgoi8IgI5QQH5wpEZ6+jw7HH00N9CzaR27Nh+/Asr6twI9m1ZHX7gL6wGY6AsCoCMUkJ8UZNnhaE5P6eCeQM/G/7LG27/f368LydO+NERfuAvrAZjoCwKgIxSQnxytlf7w7WOXRZsZ6Nn416Zl9u/18LekHesDPZs2QV+4C+sBmOgLAqAjFJAfff7vY0fIpkj7dwZ6Nv5Re1j648X277Xk14GeTZuhL9zFH+tRUyM9/bSUnm7/t6bGjxMEAoD9FAHQEQrIjzwe6fmhdlh6+/5Az8Y/Vj1n/z6PnSEdrAj0bNoMfeEuTtfj3nulqCjJso6PqCj7diBYsZ8iADpCAfnZxnftwPTo6fb1coPZ/l3SnDT791kzP9CzaVP0hbs4WY977/UNfg0HIRDBiv0UAdARCsjPPB5p/pV2aPq/XwV6Ns7831327/Hs9+zvOIYR+sJdTnU9amrMd/4ajqgoPg5GcGI/RQB0hAJqBV+ssIPTjC7S7pJAz+bUbC+SHu5s/x5ffBTo2bQ5+sJdTnU9nn76xOGvbjz9dCtNHGhF7KcIgI5QQK3k7z+0w1POrYGeSct5PNJLY+z5v3xToGcTEPSFu5zqeqSnNy8Apqe30sSBVsR+igDoCAXUSrb+59ipUzpL36wL9Gxapu5o5kdPlyq+DPRsAoK+cBfeAQRM7KcIgI5QQK1o4U/tILVoYqBn0nyHD0pPDwzN8xm2AH3hLnwHEDCxnyIAOkIBtaJviqWMRDtMlRcEejbN88Hj9nyfGhDa1zU+CfrCXTgKGDCxnyIAOkIBtbLFt9iB6h//E+iZnFzlVmlmN3u+ha8EejYBRV+4C+cBBEzspwiAjlBArWzXZvsSahkJ0qu3SYdc/HeuC6svjAqL6/2eCH3hLlwJBDCxnyIAOkIBtYGVvz/+UfDTA6UvVwZ6RqbS1fb8MhKl8vxAzybg6At3YT0AE31BAHSEAmojX+YdP7giI1FamiEdcclbEEePSn8ebs/t33cEejauQF+4C+sBmOiLEA2AX3zxhX7xi1+od+/eat++vc4880w99NBDqmnwuUVhYaGGDRum9u3bKyUlRTNmzJCnBR/fUUBt6FCV9O/bj4XABOnZ79sHigSSxyPl/dGez6we0r5vAjsfl6Av3IX1AEz0RYgGwLfeeks/+9nP9M4772jLli167bXXdPrpp+uee+7xblNVVaXk5GSNHz9eRUVFys7OVnx8vJ588slmvw4FFADFr0uPnWGHrke62gHs6NG2nYPHY1+3+M/DjwfSFc+07RxcjL5wF9YDMNEXIRoAG/P444/rjDPO8P787LPPKjExUdXV1d7b5syZo5SUlGa/C0gBBcjer6V//uR4+PrrWKmyrPVf1+ORNr8vzbvi+GvP7CYtmyHVHmn91w8S9IW7sB6Aib4IowD4wAMP6MILL/T+PGnSJI0bN85nm/z8fFmWpZKS5l2DlgIKII9HWjP/+KlXZqdJn/6r9V7vi4+kF686HvwePV16+35p347We80gRV+4C+sBmOiLMAmAmzdvVkJCgubNm+e9beTIkZo8ebLPduXl5bIsS3l5eY0+T3V1taqqqryjrKws7Aso4HZtlv5y2fFg9srPpQO7/ff8pavtdxjrnv+R06Ql90l7t/vvNUJMsO9YZ8+erYsuukidOnVS165dde2112r9+vU+21RXVys9PV1JSUmKi4vTNddco7Iy33ehS0tLNXbsWMXFxSkpKUnTpk0zvoe8fPlyDRkyRLGxsTrjjDP03HPPGfP505/+pN69eys2NlZDhgzRhx9+2KLfJ9jXA2gN9EWQBcCMjAxZlnXCsWbNGp/HlJeXq0+fPvrlL3/pc/vIkSM1ZcoUn9u2bt0qy7K0atWqFr1+OBeQK9QekZY/dvycgU/2lza/5+w5y/4j/f2648FvRpL0f3fZJ3zGCQX7jvXKK6/USy+9pM8++0xr167VmDFj1LNnT+3ff/zqLlOnTlWPHj20dOlS5efna8SIERo8eLBqa2slSbW1tRo4cKBGjBih/Px8LV26VCkpKUpPT/c+R0lJieLi4jR9+nQVFxdr3rx5io6O1uLFi73bLFq0SNHR0Zo3b56Ki4s1ffp0dezYUaWlpc3+fYJ9PYDWQF8EWQDcuXOn1q1bd8Jx6NAh7/bl5eXq16+fJk2apKMNDhQ4lY+AeQfQ5bb+R/r9kOOhbcl99vV5W6K8QFpwfb3g10V6bZq0p/n/ww13obZj3bFjhyzL0gcffCBJqqysVHR0tBYtWuTdpry8XJGRkXr77bclSUuWLFFkZKTKy8u92yxcuFCxsbHev8t9992n/v37+7zWrbfeqksuucT788UXX6ypU6f6bNO/f3/95je/afb8Q209AH+gL4IsALbE1q1b1bdvX40fP977r/L6nn32WXXu3NnnI5nMzEwOAgl2NQekN+45HuD+8O3mXUt4e5G08KfHH/dwZ/vqI7ub931QHBdqfbFp0yZZlqWioiJJ0nvvvSfLslRRUeGz3aBBg/TQQw9Jkh588EENGjTI5/6KigpZlqX3339fkjR06FDdeeedPtvk5OSoXbt2Onz4sGpqahQVFaWcnByfbe68804NGzasyfnyD1Xg5EJtP3UqQjIA1n3se9lll2nr1q3avn27d9SprKxUcnKyJkyYoKKiIuXk5CghIYHTwISKjUulJ/oefxfvgycaP1L3m3XSyzcdD34ZifZl3XZuavs5h4hQ6guPx6NrrrlGP/jBD7y3LViwQDExMca29b9WMnnyZI0cOdLYJiYmRllZWZKkvn37atasWT73r1y5UpZladu2bd7vJK9c6Xv1m1mzZqlfv35NzpmvqgAnF0r7qVMVkgHwpZdeavI7gvUVFhZq6NChio2NVbdu3fTwww9zIuhQsn+XtGji8XD3wkhp9xb7vp0bpcW/PH6ZuYwE6V8324EQjoRSX9x+++3q1auXzwEeTQXAK664QrfeeqskOwCOGjXK2CY6OloLFy6UZAfA2bNn+9y/YsUKWZal7du3N3lQ2syZM3X22Wc3OWfeAQROLpT2U6cqJANgW6GAgoDHIxVk2VfqyEiQZna3P+p9uPPx4LfoRunrzwI905ARKn2Rnp6u1NRU4zvBbv8IuKFQWQ/An+gLAqAjFFAQqfjS9zx+GQnSghukbWsDPbOQE+x94fF4dMcddyglJUUbN2407q87COTll1/23rZt27ZGDwLZtm2bd5tFixYZB4EMGDDA57mnTp1qHARy2223+WwzYMAADgIBHKIvCICOUEBB5mittOpZKXuyfcQwWkWw98Vtt92mxMRELV++3Of7wwcPHj+ifOrUqUpNTdWyZcuUn5+vyy67rNHTwFx++eXKz8/XsmXLlJqa2uhpYO666y4VFxdr/vz5TZ4GZv78+SouLtavfvUrdezYUV9++WWzf59gXw+gNdAXBEBHKCDAFOx90dT3h1966SXvNocOHVJ6erq6dOmiDh06aOzYsfrqq698nqe0tFRjxoxRhw4d1KVLF6Wnp/tcelKyTwR9wQUXKCYmRr17927yRNC9evVSTEyMhgwZ4j0dTXMF+3oArYG+IAA6QgEBJvrCXVgPwERfEAAdoYAAE33hLqwHYKIvCICOUECAib5wF9YDMNEXBEBHKCDARF+4C+sBmOgLAqAjFBBgoi/chfUATPQFAdARCggw0RfuwnoAJvqCAOgIBQSY6At3YT0AE31BAHSEAgJM9IW7sB6Aib4gADpCAQEm+sJdWA/ARF8QAB2hgAATfeEurAdgoi8IgI5QQICJvnAX1gMw0RcEQEcoIMBEX7gL6wGY6AsCoCMUEGCiL9yF9QBM9AUB0BEKCDDRF+7CegAm+oIA6AgFBJjoC3dhPQATfUEAdIQCAkz0hbuwHoCJviAAOkIBASb6wl1YD8BEXxAAHaGAABN94S6sB2CiLwiAjlBAgIm+cBfWAzDRFwRARyggwERfuAvrAZjoCwKgIxQQYKIv3IX1AEz0BQHQEQoIMNEX7sJ6ACb6ggDoCAUEmOgLd2E9ABN9QQB0hAICTPSFu7AegIm+IAA6QgEBJvrCXVgPwERfEAAdoYAAE33hLqwHYKIvCICOUECAib5wF9YDMNEXBEBHKCDARF+4C+sBmOgLAqAjFBBgoi/chfUATPQFAdARCggw0RfuwnoAJvqCAOgIBQSY6At3YT0AE31BAHSEAgJM9IW7sB6Aib4gADpCAQEm+sJdWA/ARF8QAB2hgAATfeEubbketbVSbq6UlWX/t7a21V8SOCXspwiAjlBAgIm+cJe2Wo/sbCk1VbKs4yM11b4dcBv2UwRARyggwERfuEtbrEd2thQR4Rv+LMu+LSKCEAj3YT9FAHSEAgJM9IW7tPZ61Naa7/w1DIFpaXwcDHdhP0UAdIQCAkz0hbu09nrk5jYd/uqP3NxWeXnglLCfIgA6QgEBJvrCXVp7PbKymhcAs7Ja5eWBU8J+igDoCAUEmOgLd+EdQMDEfooA6AgFBJjoC3dpq+8ANnYQCN8BhFuxnwqDAFhdXa3BgwfLsiwVFBT43FdYWKhhw4apffv2SklJ0YwZM+TxeJr93BQQYKIv3KUtjwJuGAI5ChhuxX4qDALgnXfeqauuusoIgCWMIegAACAASURBVFVVVUpOTtb48eNVVFSk7OxsxcfH68knn2z2c1NAgIm+cJdAngcwLY3wB3diPxXiAXDJkiXq37+/Pv/8cyMAPvvss0pMTFR1dbX3tjlz5iglJaXZ7wJSQICJvnAXrgQCmNhPhXAA/Prrr9WjRw+tWbNGX3zxhREAJ02apHHjxvk8Jj8/X5ZlqaSkpNHnrK6uVlVVlXeUlZWFfQEBDbFjdRfWAzDRFyEaAD0ej0aPHq1HH31UkhoNgCNHjtTkyZN9HldeXi7LspSXl9fo82ZkZMiyLGOEcwEBDbFjdRfWAzDRF0EWAJsKYPXHmjVr9Mwzz+h73/ueao99/tBUAJwyZYrP82/dulWWZWnVqlWNvj7vAAInx47VXVgPwERfBFkA3Llzp9atW3fCcejQIV177bWKjIxUVFSUd1iWpaioKN10002STu0j4IYoIMBEX7gL6wGY6IsgC4DNVVpaqqKiIu945513ZFmWFi9erLKyMkn2QSCdO3dWTU2N93GZmZkcBAI4RF+4C+sBmOiLEA2ADTX2EXBlZaWSk5M1YcIEFRUVKScnRwkJCZwGBnCIvnAX1gMw0RdhHAAl+0TQQ4cOVWxsrLp166aHH36YE0EDDtEX7sJ6ACb6IkwCYGuhgAATfeEurAdgoi8IgI5QQICJvnAX1gMw0RcEQEcoIMBEX7gL6wGY6AsCoCMUEGCiL9yF9QBM9AUB0BEKCDDRF+7CegAm+oIA6AgFBJjoC3dhPQATfUEAdIQCAkz0hbuwHoCJviAAOkIBASb6wl1YD8BEXxAAHaGAABN94S6sB2CiLwiAjlBAgIm+cBfWAzDRFwRARyggwBTsffHBBx9o7Nix6t69uyzL0quvvupz/8033yzLsnzGd77zHZ9tqqurlZ6erqSkJMXFxemaa65RWVmZzzalpaUaO3as4uLilJSUpGnTpqmmpsZnm+XLl2vIkCGKjY3VGWecoeeee67Fv0+wrwfQGugLAqAjFBBgCva+WLJkiR544AFlZ2c3GQBHjx6t7du3e8fu3bt9tpk6dap69OihpUuXKj8/XyNGjNDgwYNVW1srSaqtrdXAgQM1YsQI5efna+nSpUpJSVF6err3OUpKShQXF6fp06eruLhY8+bNU3R0tBYvXtyi3yfY1wNoDfQFAdARCggwhVJfNBUAr7322iYfU1lZqejoaC1atMh7W3l5uSIjI/X2229LskNmZGSkysvLvdssXLhQsbGx3r/bfffdp/79+/s896233qpLLrmkRb9DKK0H4C/0BQHQEQoIMIVSXzQVABMTE9W1a1f17dtXt9xyi7755hvv/e+9954sy1JFRYXP4wYNGqSHHnpIkvTggw9q0KBBPvdXVFTIsiy9//77kqShQ4fqzjvv9NkmJydH7dq10+HDh5v9O4TSegD+Ql8QAB2hgABTKPVFYwFw0aJFeuONN1RUVKTXX39dgwcP1rnnnqvq6mpJ0oIFCxQTE2M818iRIzVlyhRJ0uTJkzVy5Ehjm5iYGGVlZUmS+vbtq1mzZvncv3LlSlmWpW3btjU55+rqalVVVXlHWVlZyKwH4C+htJ86VQRAByggwBRKfdFYAGxo27Ztio6OVnZ2tqSmA+AVV1yhW2+9VZIdAEeNGmVsEx0drYULF0qyA+Ds2bN97l+xYoUsy9L27dubnE9GRoZxkEqorAfgL6G0nzpVBEAHKCDAFEp90ZwAKEl9+vRRZmampMB/BMw7gMDJhdJ+6lQRAB2ggABTKPVFcwLgrl27FBsbq7/97W+Sjh8E8vLLL3u32bZtW6MHgdT/KHfRokXGQSADBgzwea2pU6dyEAjgB/QFAdARCggwBXtf7Nu3TwUFBSooKJBlWZo7d64KCgpUWlqqffv26Z577lFeXp6++OIL5ebm6rvf/a569OihvXv3ep9j6tSpSk1N1bJly5Sfn6/LLrus0dPAXH755crPz9eyZcuUmpra6Glg7rrrLhUXF2v+/PmcBgbwE/qCAOgIBQSYgr0vcnNzG/0O3c0336yDBw9q1KhR6tq1q6Kjo9WzZ0/dfPPN+uqrr3ye49ChQ0pPT1eXLl3UoUMHjR071timtLRUY8aMUYcOHdSlSxelp6d7DySps3z5cl1wwQWKiYlR7969ORE04Cf0BQHQEQoIMNEX7sJ6ACb6ggDoCAUEmOgLd2E9ABN9QQB0hAICTPSFu7AegIm+8EMAzM3N9cM0ghMFBJjoC3dhPQATfeGHABgbG6szzzxTjz76qPEl51BHAQEm+sJdWA+Ek9paKTdXysqy/3vswHsDfeGHALh7924988wzuuCCCxQVFaVRo0bp5ZdfVk1NjT/m52oUEGCiL9yF9UC4yM6WUlMlyzo+UlPt2xuiL/z8HcCCggJNmzZNp512mrp06aJp06Zp7dq1/nwJV6GAABN94S6sB8JBdrYUEeEb/izLvi0iwgyB9EUrHARSXl6ujIwMxcbGqmPHjoqKitIPfvADffbZZ/5+qYCjgAATfeEurAdCXW2t+c5fwxCYlub7cTB94acAePjwYb3yyiu66qqr1K5dO11yySWaN2+e9u/fr6+++koTJkwwLmkUCiggwERfuAvrgVCXm9t0+Ks/6h+zSl/4IQCmp6crKSlJSUlJmj59uoqKioxtSktLFRER4fSlXIcCAkz0hbuwHgh1WVnNC4BZWccfQ1/4IQBedtllysrKOuFBH0eOHNHy5cudvpTrUECAib5wF9YDoY53AE8NJ4J2gAICTPSFu7AeCHV13wFs7CAQvgPYNMcB8LXXXmt0vP7663r33XdVUlLij3m6EgUEmOgLd2E9EA7qjgJuGAI5CrhpjgNgRESEIiMjFRER4TPqbouMjNSwYcNUUVHhj/m6CgUEmOgLd2E9EC4aOw9gWhrnAWyK4wC4bNkyfec739GyZcu0d+9e7d27V8uWLdMll1yiN998UytWrNC5556rX/ziF/6Yr6tQQICJvnAX1gPhhCuBNJ/jAHjuuedq5cqVxu0rVqzQOeecI0launSp0tLSnL6U61BAgIm+cBe3rUdz/wcNtCa39UUgOA6A7du3b/TUL4WFhWrfvr0k6csvv1SHDh2cvpTrUECAib5wFzetR0su1QW0Jjf1RaA4DoDf//73NXr0aO3YscN7244dOzR69GgNHTpUkv0OYN++fZ2+lOtQQICJvnAXt6xHSy/VBbQmt/RFIDkOgOvWrdPZZ5+tmJgYnXXWWerTp49iYmLUv39/bdiwQZL06quv6u9//7vjyboNBQSYWqMvDh48qK1btxq3h+IlJv3NDfupU7lUF9Ca3NAXgeaX8wB6PB699dZbeuaZZ/S73/1Ob7/9to4ePeqPp3Y1Cggw+bsvXnnlFaWmpmrQoEE677zztHr1au99F1xwgV9eI5S5YT91KifqBVqTG/oi0BwFwMOHD+vSSy/1vtMXbiggwOTvvhg8eLD3KyZr1qzROeecowULFkiSzj//fL+8Rihzw37qVC7VBbQmN/RFoDl+B/C0007Txo0b/TGXoEMBASZ/90Xd2QTq7Nq1S8OGDdOMGTN4B7AZ3LCf4h1AuI0b+iLQHAfAu+++W7/+9a/9MZegQwEBJn/3xaWXXqpPP/3U57aamhqNHz9eUVFRfnmNUOaG/dSpXKoLaE1u6ItAcxwA09PTlZCQoCFDhmjKlCm66667fEYoo4AAk7/7oqysTNu3b2/0vhUrVvjlNUKZW/ZTLb1UF9Ca3NIXgeQ4AF566aVNjhEjRvhjjq5FAQGmtuiLt956q9WeO9S4aT/Vkkt1Aa3JTX0RKH45Ctit3njjDV188cVq3769kpKSdN111/ncX1paqrFjxyouLk5JSUmaNm2aampqmv38FBBgaou+iI2N1Z133qnq6upWe41Q4bb9FFcCgRu4rS8CwW8BcNOmTXr77bd18OBBSfapYQJp8eLF+ta3vqXnnntOGzZs0Pr16/XKK69476+trdXAgQM1YsQI5efna+nSpUpJSVF6enqzX4MCAkxt0Rdr1qzR2WefrXPPPdf4fmCd8vJyjRs3rtXmECzYTwEm+sIPAXDXrl267LLLFBERocjISG3ZskWS9Itf/EJ333234wmeiiNHjqhHjx564YUXmtxmyZIlioyMVHl5ufe2hQsXKjY2ttkFQQEBprbqi4MHD2ry5Mlq3769nnrqKe/tR48e1eeff65f/vKX6tq1a6vOIRiwnwJM9IUfAuCkSZN05ZVXqqysTJ06dfIGwHfeecc4fUNb+fjjj2VZll588UWdf/756tatm0aPHu1z1YAHH3xQgwYN8nlcRUWFLMvS+++/3+jzVldXq6qqyjvKysrCvoCAhtpyx7pjxw7dcccdioyM1EUXXaQhQ4aoffv2ioiIUO/evU/4j8Bwwf/oABN94YcAmJycrLVr10qSTwAsKSlRx44dnT79KVm4cKEsy1LPnj21ePFi/ec//9GECROUlJSk3bt3S5ImT56skSNHGo+NiYlRVhNnI83IyJBlWcYI5wICGmqLHevzzz+v7t27KzIyUh07dtR3vvMdXXLJJYqIiFB6eroqKytb7bWDDf+jA0z0hR8CYKdOnbwngq4fAD/55BN16dLF6dP7aCqA1R9r1qzRggULZFmW/vznP3sfW11drdNOO03PP/+8JDsAjho1yniN6OhoLVy4sNHX5x1A4OTaYsd62mmnaerUqVq/fr3P943nzp2r9u3b6+c//7kOHDjQaq8fTPgfHWCiL/wQAK+++mr99re/lWQHwJKSEh09elQ/+clP9D//8z+OJ1jfzp07tW7duhOOQ4cO6f3335dlWfroo498Hn/xxRfr/vvvl3RqHwE3RAEBprboix//+Mf6+uuvG72vsLBQ5513ns466yyf6waHK/ZTgIm+8EMA/Pzzz9W1a1eNHj1aMTEx+vGPf6wBAwYoOTlZmzdv9sccW6yqqkqxsbE+3/85fPiwTj/9dO+7gnUHgWzbts27zaJFizgIBHDIDX1RXV2t6dOnKyYmJmBzcAs3rAfgNvSFn04Ds337dj300EMaM2aMrrrqKj3wwAM+wSoQpk+frh49euidd97R+vXr9ctf/lKnn366KioqJB0/Dczll1+u/Px8LVu2TKmpqZwGBnDITX3x7rvvBnoKAeem9QDcgr4I4RNBHz58WPfcc49OP/10xcfH64orrvA5CliyTwQ9ZswYdejQQV26dFF6enqLTixLAQEm+sJdWA/ARF/4KQDu2bNH77zzjv7xj3/ob3/7m88IZRQQYKIv3IX1AEz0hR8C4Ouvv674+HhFRkYqMTFRnTt39o5vfetb/pija1FAgIm+cBfWAzDRF34IgH379tX06dPD8pQLFBBgoi/chfUATPSFHwJgXFyc99x/4YYCAkz0hbuwHoCJvvBDALzuuuv08ssv+2MuQYcCAkz0hbuwHoCJvvBDAHzhhRfUs2dPZWRkaPHixXrttdd8RiijgAATfeEurAdgoi/8EAAjIiKaHJGRkf6Yo2tRQICJvnAX1gMw0RchfB7AtkABASb6wl1YD8BEXzgIgFdddZUqKyu9P8+cOVN79uzx/rxr1y4NGDDA2excjgICTPSFu7AegIm+cBAAIyMj9c0333h/jo+P9zka+Ouvv+YjYCAM0RfuwnogFNTWSrm5UlaW/d/aWmfPR184CIARERE+AbBTp04EQAD0hcuwHgh22dlSaqpkWcdHaqp9+6miLwiAjlBAgIm+cBfWA8EsO1uKiPANf5Zl3xYRceohkL5w+BHwjh07vD936tRJJSUl3p8JgEB4oi/chfVAsKqtNd/5axgC09JO7eNg+sLhO4BXX321rrvuOl133XVq166dRo0a5f356quvJgACYYi+cBfWA8EqN7fp8Fd/5Oa2/LnpCwcB8Gc/+1mzRiijgAATfeEurAeCVVZW8wJgVlbLn5u+4DyAjlBAgIm+cBfWA8GKdwBbFwHQAQoIMNEX7sJ6IFjVfQewsYNA+A6gcwRAByggwERfuAvrgWBWdxRwwxDIUcDOEQAdoIAAE33hLqwHgl1j5wFMS+M8gE4RAB2ggAATfeEurAdCAVcC8T8CoAMUEGCiL9yF9QBM9AUB0BEKCDDRF+7CegAm+oIA6AgFBJjoC3dhPQATfUEAdIQCAkz0hbuwHoCJviAAOkIBASb6wl1YD8BEXxAAHaGAABN94S7Buh7+PuoTqC9Y+8KfCIAOUECAib5wl2Bcj8bO+5aa6uy8b0B9wdgX/kYAdIACAkyh0BcffPCBxo4dq+7du8uyLL366qs+93s8HmVkZKh79+5q3769hg8frs8++8xnm4qKCk2cOFEJCQlKSEjQxIkTtWfPHp9tCgsLNWzYMLVv314pKSmaMWOGPB6PzzaLFy/WgAEDFBMTowEDBignJ6dFv0uwrUfdlR8au+yXkys/APUFW1+0BgKgAxQQYAqFvliyZIkeeOABZWdnNxoAMzMzFR8fr+zsbBUVFemGG25Q9+7dtXfvXu82o0eP1sCBA5WXl6e8vDwNHDhQY8eO9d5fVVWl5ORkjR8/XkVFRcrOzlZ8fLyefPJJ7zZ5eXmKiorS7NmztW7dOs2ePVvt2rXT6tWrm/27BNN61F37tbHrvjq99itQXzD1RWshADpAAQGmUOuLhgHQ4/GoW7duyszM9N5WXV2txMREPf/885Kk4uJiWZblE9RWrVoly7K0fv16SdKzzz6rxMREVVdXe7eZM2eOUlJSvO8CXn/99Ro9erTPfK688kqNHz++2fMPpvXIzW06/NUfubmBnimCXTD1RWshADpAAQGmUOuLhgFwy5YtsixL+fn5PtuNGzdON910kyRp/vz5SkxMNJ4rMTFRL774oiRp0qRJGjdunM/9+fn5sixLJSUlkqS0tDTNnTvXZ5u5c+eqZ8+eTc63urpaVVVV3lFWVhY065GV1bwAmJUV6Jki2IXafupUEAAdoIAAU6j1RcMAuHLlSlmWpfLycp/tJk+erFGjRkmSZs2apb59+xrP1bdvX82ePVuSNHLkSE2ePNnn/vLyclmWpby8PElSdHS0FixY4LPNggULFBMT0+R8MzIyZFmWMYJhPXgHEG0l1PZTp4IA6AAFBJhCrS+aCoDbtm3z2e6WW27RlVdeKckOgP369TOeq0+fPpozZ44kOwBOmTLF5/6tW7fKsiytWrVKkh0Asxq83fXPf/5TsbGxTc43mN8BrPsOYGMHgfAdQPhTqO2nTgUB0AEKCDCFWl8E20fADQXbetQdBdwwBHIUMPwp2PqiNRAAHaCAAFOo9UVTB4E89thj3ttqamoaPQjk448/9m6zevVq4yCQzp07q6amxrtNZmamcRDIVVdd5TOf0aNHh+xBIHUaOw9gWhrhD/4TjH3hbwRAByggwBQKfbFv3z4VFBSooKBAlmVp7ty5KigoUGlpqSQ7qCUmJionJ0dFRUWaMGFCo6eBGTRokFatWqVVq1bpvPPO8zkNTGVlpZKTkzVhwgQVFRUpJydHCQkJPqeBWblypaKiopSZmal169YpMzMzpE8DUx9XAkFrCta+8CcCoAMUEGAKhb7Izc1t9ECKm2++WdLxE0F369ZNsbGxGjZsmIqKinyeY/fu3brxxhsVHx+v+Ph43XjjjY2eCHro0KGKjY1Vt27d9PDDDxsngn7llVd09tlnKzo6Wv3791d2C98GC4X1APyNviAAOkIBASb6wl1YD8BEXxAAHaGAABN94S6sB2CiLwiAjlBAgIm+cBfWAzDRFwRARyggwERfuAvrAZjoCwKgIxQQYKIv3IX1AEz0BQHQEQoIMNEX7sJ6ACb6ggDoCAUEmOgLd2E9ABN9QQB0hAICTPSFu7AecLtAnPSbvgjhALhhwwaNGzdOSUlJio+P1/e+9z29//77PtuUlpZq7NixiouLU1JSkqZNm+ZzWaaToYAAE33hLqwH3Kyxy/6lprb+Zf/oixAOgH369NHVV1+tTz/9VBs3btTtt9+uuLg4bd++XZJUW1urgQMHasSIEcrPz9fSpUuVkpKi9PT0Zr8GBQSY6At3YT3gVtnZUkSEb/izLPu2iIjWDYH0RYgGwJ07d8qyLH344Yfe2/bu3SvLsrRs2TJJ0pIlSxQZGany8nLvNgsXLlRsbGyzC4ICAkz0hbuwHnCj2lrznb+GITAtrfU+DqYvQjQAejweDRgwQLfccov279+vI0eO6IknnlBycrL3WpwPPvigBg0a5PO4iooKWZZlfFRcp7q6WlVVVd5RVlYW9gUENMSO1V1YD7hRbm7T4a/+yM1tndenL0I0AErS1q1bdeGFFyoiIkJRUVFKSUlRQUGB9/7Jkydr5MiRxuNiYmKUlZXV6HNmZGQ0eoH4cC4goCF2rO7CesCNsrKaFwCb+N+xY/RFkAXApgJY/bFmzRp5PB6NGzdOV111lVasWKH//ve/uu2229SjRw9t27ZNkh0AR40aZbxGdHS0Fi5c2Ojr8w4gcHLsWN2F9YAb8Q5g4AVVANy5c6fWrVt3wnHo0CEtW7ZMkZGRxsL26dNHc+bMkXRqHwE3RAEBJvrCXVgPuFHddwAbOwiE7wC2jaAKgM31+uuvKzIyUvv27fO5vV+/fpo1a5ak4weB1L0jKEmLFi3iIBDAIfrCXVgPuFXdUcANQyBHAbeNkAyAO3fuVFJSkn70ox9p7dq12rBhg/7f//t/io6O1tq1ayUdPw3M5Zdfrvz8fC1btkypqamcBgZwiL5wF9YDbtbYeQDT0jgPYFsIyQAoSWvWrNGoUaPUpUsXxcfH65JLLtGSJUt8tiktLdWYMWPUoUMHdenSRenp6aqurm72a1BAgIm+cBfWA27HlUACI2QDYFuggAATfeEurAdgoi8IgI5QQICJvnAX1gMw0RcEQEcoIMBEX7gL6wGY6AsCoCMUEGCiL9yF9QBM9AUB0BEKCDDRF+7CegAm+oIA6AgFBJjoC3dhPQATfUEAdIQCAkz0hbuwHoCJviAAOkIBASb6wl1YD8BEXxAAHaGAABN94S6hvB6BOIEwQkMo90VzEQAdoIAAE33hLqG6Ho1dQiw1tfUvIYbQEKp90RIEQAcoIMBEX7hLKK5HdrYUEeEb/izLvi0ighCIkwvFvmgpAqADFBBgoi/cJdTWo7bWfOevYQhMS+PjYJxYqPXFqSAAOkABASb6wl1CbT1yc5sOf/VHbm6gZwo3C7W+OBUEQAcoIMBEX7hLqK1HVlbzAmBWVqBnCjcLtb44FQRAByggwERfuEuorQfvAMIfQq0vTgUB0AEKCDDRF+4SautR9x3Axg4C4TuAaK5Q64tTQQB0gAICTPSFu4TietQdBdwwBHIUMJorFPuipQiADlBAgIm+cJdQXY/GzgOYlkb4Q/OEal+0BAHQAQoIMNEX7hLK68GVQHCqQrkvmosA6AAFBJjoC3dhPQATfUEAdIQCAkz0hbuwHggUN79DS18QAB2hgAATfeEurAcCwe3XaqYvCICOUECAib5wF9YDbS0YrtVMXxAAHaGAABN94S6sB9pSsFyrmb4gADpCAQEm+sJdWA+0pWC5Ugt9QQB0hAICTPSFu7AeaEvBcq1m+oIA6AgFBJjoC3dhPdCWeAcweBAAHaCAABN94S6sB9pSsFyrmb4gADpCAQEm+sJdWA+0tWC4VjN9QQB0hAICTPSFu7AeCAS3X6uZviAAOkIBASb6wl1YDwQKVwJxNwKgAxQQYKIv3IX1AEz0BQHQEQoIMNEX7sJ6ACb6ggDoCAUEmOgLd2E9ABN9QQB0hAICTPSFu7AegIm+IAA6QgEBJvrCXVgPwERfEAAdoYAAE33hLqwHYKIvCICOUECAib5wF9YDMNEXBEBHKCDARF+4C+sBmOgLAqAjFBBgoi/chfVw9wmJERj0BQHQEQoIMNEX7hLu69HYJclSU91zSTIERrj3hUQAdIQCAkz0hbuE83pkZ0sREb7hz7Ls2yIiCIHhLJz7og4B0AEKCDDRF+4SrutRW2u+89cwBKal8XFwuArXvqiPAOgABQSYwqEvMjIyZFmWz0hOTvbe7/F4lJGRoe7du6t9+/YaPny4PvvsM5/nqKio0MSJE5WQkKCEhARNnDhRe/bs8dmmsLBQw4YNU/v27ZWSkqIZM2bI4/G0aK7hsB6Nyc1tOvzVH7m5gZ4pAiFc+6K+oAyAM2fO1He/+1116NBBiYmJjW5TWlqqsWPHKi4uTklJSZo2bZpqamp8tlm+fLmGDBmi2NhYnXHGGXruuedaNA8KCDCFQ19kZGTo3HPP1fbt271jx44d3vszMzMVHx+v7OxsFRUV6YYbblD37t21d+9e7zajR4/WwIEDlZeXp7y8PA0cOFBjx4713l9VVaXk5GSNHz9eRUVFys7OVnx8vJ588skWzTUc1qMxWVnNC4BZWYGeKQIhXPuivqAMgA899JDmzp2ru+++u9EAWFtbq4EDB2rEiBHKz8/X0qVLlZKSovT0dO82JSUliouL0/Tp01VcXKx58+YpOjpaixcvbvY8KCDAFA59kZGRocGDBzd6n8fjUbdu3ZSZmem9rbq6WomJiXr++eclScXFxbIsS6tXr/Zus2rVKlmWpfXr10uSnn32WSUmJqq6utq7zZw5c5SSktKidwHDYT0awzuAOJFw7Yv6gjIA1nnppZcaDYBLlixRZGSkysvLvbctXLhQsbGx3sW+77771L9/f5/H3Xrrrbrkkkua/foUEGAKh77IyMhQXFycunfvrt69e+uGG27Qli1bJElbtmyRZVnKz8/3ecy4ceN00003SZLmz5/f6L4rMTFRL774oiRp0qRJGjdunM/9+fn5sixLJSUlzZ5rOKxHY+q+A9jYQSB8B9C5YD+1Trj2RX0hGQAffPBBDRo0yOe2iooKWZal999/X5I0dOhQ3XnnnT7b5OTkqF27djp8+HCzXp8CAkzh0BdLlizR4sWL/UfpYAAAIABJREFUVVhYqKVLl2r48OFKTk7Wrl27tHLlSlmW5fMPUEmaPHmyRo0aJUmaNWuW+vbtazxv3759NXv2bEnSyJEjNXnyZJ/7y8vLZVmW8vLympxbdXW1qqqqvKOsrCzk16MpdUcBNwyBHAXsTCicWicc9lMnE5IBcPLkyRo5cqRxe0xMjLKOfeGjb9++mjVrls/9dTvubdu2Nfp67FiBkwvHHev+/fuVnJysp556qsn9yC233KIrr7xSkh0A+/XrZzxPnz59NGfOHEl2AJwyZYrP/Vu3bpVlWVq1alWTc2nsAJVwW4/6GgsraWnBFVbcJFROrROO+6mGXBMAm9pp1R9r1qzxecyJAmDdv7Tri46O1sKFCyX5/ku7zooVK2RZlrZv396iOYZzAQENheuO9YorrtDUqVMD/hEw/1A1BfvHlW4RSqfWCdf9VH2uCYA7d+7UunXrTjgOHTrk85i2/giYHStwcuG4Y62urlaPHj28p2np1q2bHnvsMe/9NTU1jR4E8vHHH3u3Wb16tXEQSOfOnX3OXpCZmclBIAiYUDqwhr5wUQA8FSc7CKT+RzCLFi0yDgIZMGCAz+OmTp3KQSCAQ+HQF/fcc4+WL1+ukpISrV69WmPHjlV8fLy+/PJLSXZQS0xMVE5OjoqKijRhwoRGTwMzaNAgrVq1SqtWrdJ5553ncxqYyspKJScna8KECSoqKlJOTo4SEhI4DQwCJpROrUNfBGkALC0tVUFBgWbMmKFOnTqpoKBABQUF2rdvn6Tjp4G5/PLLlZ+fr2XLlik1NbXR08DcddddKi4u1vz58zkNDOAH4dAXdef1i46OVkpKin70ox/p888/995fdyLobt26KTY2VsOGDVNRUZHPc+zevVs33nij4uPjFR8frxtvvLHRE0EPHTpUsbGx6tatmx5++GFOBI2A4R3A0BKUAfDmm29u9Lt4ufWqrrS0VGPGjFGHDh3UpUsXpaen+5xPS7JPBH3BBRcoJiZGvXv35kTQgB/QF+7CesBfQunUOvRFkAZAt6CAABN94S6sB/wpVE6tQ18QAB2hgAATfeEurAf8LRROrUNfEAAdoYAAE33hLqwHWkOwn1qHviAAOkIBASb6wl1YD8BEXxAAHaGAABN94S6sB2CiLwiAjlBAgIm+cBfWAzDRFwRARyggwERfuAvrAZjoCwKgIxQQYKIv3IX1AEz0BQHQEQoIMNEX7sJ6ACb6ggDoCAUEmOgLd2E9mifYT2uClqEvCICOUECAib5wF9bj5Bo7sXFqanCd2BgtQ18QAB1pbgHV1tbq0KFDDIarR62f3vJgx+ourMeJ1V3arLHr2gbTpc3QMvQFAdCRkxWQx+PRtm3bVFxczGAExdi2bZs8Hk+r9gXaFuvRtNpa852/hiEwLY2Pg0MRfUEAdORkBVQX/nbt2qWDBw8G/B0eBqOpcfDgQe3atcsbAluzL9C2WI+m5eY2Hf7qj9zcQM+07YTLdyHpCwKgIycqoNraWm/4A4JFXQh08nEwO1Z3YT2alpXVvACYlRXombaNcPouJH1BAHTkRAV06NAhFRcX6+DBgwGYGXBqDh48qOLiYh06dOiUn4Mdq7uwHk3jHcDjwu27kPQFAdCR5gRAJ/8jBdqaP+qWHau7sB5Nq/sOYGPBJ5y+AxiO34WkLwiAjhAAEWoIgKGH9Tixune+GobAUH3nqzHh+E4ofUEAdCRcA+Dw4cM1ffr0Nn3OjIwMDR482K+veTK9evXS008/3aavGWgEwNDDepxcY999S0sLj/Anhed3IekLAqAjoRgAb775Zl177bUn3IYAGLoIgKGH9WiecDn6tTG8AxieCIAOEAD9hwDYfDU1Na323ATA0MN64GTC8buQ9AUB0JFwCID79+/XpEmT1LFjR3Xr1k1PPvmkEdZqamp07733KiUlRXFxcbr44ouVW++firt27dL48ePVo0cPdejQQQMHDlRWg88SWhoAjx49qhkzZqhHjx6KiYnR4MGD9dZbb/k8pqysTDfccIO+9a1vKS4uThdeeKFWr14tSdq8ebPGjRun008/XR07dtRFF12kpUuX+jy+OQHwxRdfVP/+/RUbG6uzzz5bf/rTn7z3ffHFF7IsS9nZ2br00kvVoUMHDRo0SHl5eT7PsXLlSg0dOlTt27dXamqqpk2bpv379/vM49FHH9XNN9+shIQE3XTTTd7HDR48WLGxsbrwwgv16quvyrIsFRQUyOPx6KyzztITTzzh81pFRUWKiIjQ5s2bG/19CIChh/VAc4TbdyHpCwKgIy0NgB6PRwdqjrT5aMmVHRoGwNtuu02pqal69913VVhYqLFjx6pTp04+Ye2nP/2pvve97+nDDz/U5s2b9cQTTyg2NlYbN26UJG3dulVPPPGECgoKtGXLFv3+979XVFSUN4xJLQ+Ac+fOVUJCghYuXKj169frvvvuU3R0tPc19+3bpzPPPFNDhw7VRx99pE2bNunll1/2hq+1a9fq+eefV2FhoTZu3KgHHnhA7du3V2lpqfc1ThYA//KXv6h79+7Kzs5WSUmJsrOz1aVLF/31r3+VdDwA9u/fX2+88YY2bNigH//4x+rVq5eOHDkiSSosLFSnTp309NNPa+PGjVq5cqUuuOAC/exnP/OZR0JCgp544glt2rRJmzZt0t69e9WlSxdNnDhRn3/+uZYsWaJ+/fp5A6AkzZo1S+ecc47PnO+66y4NGzasyd+JABh6WA80Vzh9F5K+IAA60tIAeKDmiHr9+o02HwdqjjT7d6ofAPft26eYmBgtWrTIe//u3bvVoUMHb1jbvHmzIiIiVF5e7vM8l19+uf73f/+3yde5+uqrdc8993h/bmkATElJ0axZs3y2+fa3v63bb79dkvTnP/9Z8fHx2r1798l+Za9zzjlHf/jDH7w/nywApqWlGe9kPvroo/rud78r6XgAfOGFF7z3f/7557IsS+vWrZMkTZo0SVOmTPF5jo8++kiRkZHe2unVq5d++MMf+mzz3HPPKSkpyae+5s2b5xMAt23bpqioKH388ceSpMOHD6tr167egNoYAmDoYT3QEuHyXUj6ggDoSKgHwLVr18qyLJ93xSTp/PPP94a1f/3rX7IsSx07dvQZ7dq10/XXXy/JvirKzJkzdd5556lLly7e+3/yk594n7MlAbDu7758+XKfbX71q19pxIgRkux3Lk/0Ttf+/ft17733asCAAUpMTFTHjh0VGRmpe++917vNiQLgjh07ZFmWOnTo4PN7x8bG6vTTT5d0PAB+8skn3sdVVFTIsix98MEHkuzQGRMT4/MccXFxsixLxcXF3nnMnDmzyd+1zqeffuoTACVp3LhxuvXWWyVJOTk5io+P14EDB5r8uxAAQw/rAZjoCwKgI6H+EXBBQcFJA+CiRYsUFRWl9evXez+erBvbt2+XJD322GNKSkrSP/7xD61du1abNm3SmDFjfD5qPpUAWBei6kyfPl2XXXaZJOnuu+8+YQC87bbbdOaZZyonJ0eFhYXatGmTBg8e7DOHEwXAr7/+WpZl6Z///Kfxe5eUlEg6HgDrB7I9e/bIsizvdyT79++vadOmGc+xadMm78Eejc2j/u9apy6w13+9119/XYmJiTp48KCuueYa3XLLLU3+TSQCYChiPQATfUEAdCTUDwLZt2+foqOj9fLLL3vvr6ioUFxcnDcobdiwQZZl6cMPP2zyOceOHatf/OIX3p+PHj2qfv36nXIAlJr+CPiOO+6QJP31r39VQkJCkx8BDxw4UI888oj353379ikxMbHZAVCSevTo4fMcDTUnAP70pz81glxDjc3jueee02mnnabq6mrvbS+88ILxerW1tUpJSdFTTz2ldu3aGQegNEQADD2sB2CiLwiAjoR6AJSkqVOnqmfPnlq2bJmKioo0btw44yCQG2+8Ub179/YeDPHJJ58oMzNTb775piT748q0tDStXLlSxcXFuuWWW5SQkOAoAD799NNKSEjQokWLtH79ev3617/2OQikpqZG/fr109ChQ7VixQpt2bJFixcv9gagH/7whzr//PNVUFCgtWvX6pprrlF8fHyLAuC8efPUoUMH/e53v9OGDRtUWFioF198UU899ZSk5gXATz/9VB06dNDtt9+ugoICbdy4Ua+99prS09NPOI+qqip16dJFN910k4qLi/X222+rf//+sixLa9eu9dn2/vvvV0xMjPr379/k71KHABh6WA//CpfvyIU6+oIA6Eg4BMB9+/Zp4sSJiouLU3Jysh5//HEjrB0+fFgPPfSQevfurejoaHXr1k3XXXedCgsLJdkHjlx77bXq1KnT/2/v3qOiOO83gM8BdhfYdcEINqkieBK5JOd4WVrUE3XDyc38EXOCaRulLa2xqZpGUKPNia008VLQE2JOpE1CiDe0tt6SNPUY00SggohpVhNcrEoQ8BIjqaB2hQb2+f2R304dd4HZnb0x83zOef/g3dnZd+bd7/o4uzOD4cOH4ze/+Q1++tOfKgqAN18GRqfTebwMzNmzZzFz5kyYzWbExsbie9/7nnhCRHNzM7KzsxETE4OkpCRs2LDBbQxyLgOzbds2jB8/Hnq9HkOHDsW0adOwZ88e8TUGCoAAUF9fjwcffBAmkwlGoxFjx46VHN3saxw1NTUYO3Ys9Ho9MjMzsX37dgiCgJMnT0qWa2pqgiAIWLt2bb/bAjAAqhHnw388nSU7cqQ6z5JVO9YFA6AiagyANHhVVFRAp9PB4XBI+g8dOoSoqCh8+eWXA66DAVB9OB/+4bpOnqeLJA+W6+Tx6OX/sC4YABVhAKRQ2rx5M/7xj3/giy++wN69ezFixAjk5uaKj3d1deH06dPIzs7G7NmzZa2TAVB9OB/Kue6U0dct0gbDnTJ49FKKdcEAqAgDIIVScXExkpOTYTAYkJKSgoKCAsklXjZu3IiIiAhYLBacO3dO1joZANWH86HcYL9XrhqOXvob64IBUBEGQFIbBkD14Xwot327vAB4y3Xhw4Iajl4GAuuCAVARBkBSGwZA9eF8KDeYjwAO5rEHEuuCAVARBkBSGwZA9eF8KOc6iubpa9RwP4o2mI9eBhLrggFQEQZAUhsGQPXhfPiH63d0t4bAcP8dHY8Aesa6YABUhAGQ1IYBUH04H/7j6UzapKTwDX/A4D56GUisCwZARRgASW0YANWH8+Ffg/FaeoP16GUgsS4YABVhACS1YQBUH84HAYPz6GUgsS4YABVhAPS/gwcPQhAEXLlyJdRD0SQGQPXhfARfuB4lDNdxhQLrggFQETUGwFvvBRxsDIChxQCoPpyP4ArFHTcY7LzHumAAVIQB0P/CNQA6nU588803oR5GwDEAqg/nI3hCcccN3uLNN6wLBkBFtBgAW1paMGPGDBiNRgwZMgQ/+MEP8OWXX0qWeffdd5GZmQmDwYBhw4bh8ccfFx/bunUrMjMzYTKZ8J3vfAezZs3CpUuXxMflBMCOjg784he/QGJiIoYMGYLs7GwcO3ZMfLywsBDjxo3Dli1bkJycDLPZjB/96Ee4evWquIzT6URxcTFGjx6N6OhojB07Fjt37nQbx/79+5GZmQmdToePP/4YALBy5UokJibCZDLhqaeewq9//WuMGzcOAFBVVYWoqChcvHhRMubFixdj6tSpfW5TuGAAVB/OR3CE4o4bvMWb71gXDICKeB0AnU6g+3rwm9Mpe5v6C4BOpxMTJkzAlClT8Mknn6Curg4WiwVWq1Vc5v3330dkZCRWrFgBu92OY8eOYfXq1eLj5eXl2LdvH5qamnD48GFMmjQJjzzyiPj4QAHQ6XTi3nvvxaOPPoqjR4/i1KlTWLJkCYYNG4avv/4awLcB0GQyIScnB59//jmqq6tx++2344UXXhDX88ILLyA9PR379+9HU1MTNm7cCIPBgMrKSsk4xo4diwMHDuDMmTNob29HRUUFoqOj8fbbb+Nf//oXXnzxRZjNZjEAAkBqairWrl0r/v3NN99g+PDhePvtt2XPQ6gwAKoP5yM4gn29Pd7iTRnWBQOgIl4HwO7rQKE5+K37uuxt6i8AHjhwAJGRkWhtbRX7Tpw4AUEQUF9fDwCYPHkycnNzZb9efX09BEHAtWvXAAwcAD/66COYzWZ0dXVJ+u+880688cYbAL4NgLGxsZIjfkuXLsXEiRMBANevX0d0dDRqa2sl63jqqacwa9YsyTjeeecdyTITJ07EM888I+m79957JQGwuLgYGRkZ4t/vvPMOTCYTrl+XPw+hwgCoPpyP4Aj2HTd4gWdlWBeDNACuWrUKkydPRkxMDOLi4tweP3bsGJ588kmMHDkS0dHRSE9Px/r1692Wq6yshMVigcFgwOjRo/HHP/7Rq3FoLQC++uqrSElJceuPj4/H5s2bAQAxMTH9Hun69NNPMWPGDIwaNQomkwmxsbEQBAEnTpwAMHAAXLt2LSIiImA0GiUtIiICy5YtA/BtALz77rslzyspKcHo0aMB/C903roOnU6HrKwsyTjOnTvX57a6LFq0SBIAL126BJ1Oh8OHDwMAZsyYgTlz5vS5T8IJA6D6cD6Cw5dAJufkjb6W4S3elGFdDNIAuGLFCpSUlGDx4sUeA2B5eTmeffZZVFZWoqmpCVu3bkVMTAxee+01cZkvvvgCsbGxyM/Ph91uR1lZGXQ6HXbt2iV7HFr7Cnj9+vViiLpZXFwctmzZAgC47bbb+gyA169fR0JCAmbPno3q6mo0Njbigw8+gCAIsNlsAAYOgEVFRRgxYgROnz7t1i5fvgzgf78BvNkrr7yC5ORkAEBdXR0EQUBlZaXbOlxHN/saR3x8vLitLgUFBW6vl5OTg6effhqXLl1CVFQUDh065HF7wg0DoPpwPoLD2ztuyDl5o79leARQGdbFIA2ALhs3bvQYAD1ZsGABsrOzxb+XLVuG9PR0yTK//OUvMWnSJNmvr7WTQPr7Cvjo0aMAgPvuu6/Pr4A/+eQTCIIgef7WrVu9CoCuMTQ3N/e5DQMFwKtXr8JgMLgFuZv1NY6JEyfiV7/6laRvypQpbq+3b98+mM1mvPTSS0hLS+vzdcINA6D6cD6CR+4dN+ScvDHQMn/5C2/xpgTrQkMBMDc3FzNnzhT/njp1KhYuXChZZs+ePYiKisJ///tfWetUawC87777YLPZJK2lpUU8CWTq1Kn45z//iSNHjiAzM1NyEsjBgwcREREhngTy2Wefobi4GADw1VdfQa/XY+nSpWhqasK7776L1NRUrwKg0+kUA9f+/fvR3NyMmpoaLF++XAyhAwVAAFi+fDmGDRuGTZs24cyZM/j000+xYcMGbNq0qd9xVFRUICYmBps2bcKpU6ewcuVKmM1mjB8/XrJcb28vkpKSoNfrUVRU5P1EhAgDoPpwPoJroDtuyDl5Y+RIeSd47NzJW7z5inWhkQBYW1sLnU6HAwcOiH1jxoyRnJ0KADU1NRAEARcuXPC4nq6uLnR2doqtra1NlQFQEAS3lpeXB0DeZWB2796N8ePHQ6/XIyEhATk5OeJj27dvR0pKCgwGAyZPnoz33nvPqwAIfHsE79lnn8V3v/td6HQ6JCUlITc3VzyyKCcAOp1OvPrqq0hLS4NOp0NiYiIefvhhVFVVDTiOl156CQkJCTCZTJgzZw4WLlzo8cjxb3/7W0RGRvb5fgpHDIDqw/kIvv5+2yf3q1u5X+/yFm++YV2EUQAsLCz0GDxubq4jPC5yAmBDQwMSExOxcuVKSf+YMWOwZs0aSd+hQ4cgCILbNdwGGqOaAiB574EHHsCPf/xjt/65c+fi0UcfDcGIfMcAqD6cj/Ai9+QNOc11ggfvBOI91kUYBcDLly+jsbGx33brP0oDBcATJ05g+PDhkuu/ufjyFbAWjgBS//7zn//g5ZdfRkNDAxobG7FixQoIgoAPP/xQXKajowMffvghYmJiJEedBwMGQPXhfIQXfx8BJN+wLsIoAPqivwDY0NCA4cOHY+nSpR4fX7ZsmeRabQAwb948zZ8EQv1zOBy4//77MXToUMTGxmLChAnYfct3LVarFTExMSgoKAjRKH3HAKg+nI/wIudsYddvAHmCR+CwLgZpAGxpaYHNZsOLL74Ik8kknqjgupiw62vf3NxcXLx4UWxfffWVuA7XZWAWLVoEu92O8vLywF8GhijMMQCqD+cj/Mg5W1juGcXkG9bFIA2AfZ2ocPD/j4f39Vu9m08CAL69EPSECROg1+uRkpIS+AtBE4U5BkD14XyEJzknb/AEj8BhXQzSABgu5ARAh8MRgpER+cbhcDAAqgznI3wpuRMIKcO6YABUpL83UE9PD+x2O9rb20MwMiLftLe3w263o0fBvzL8YA0vnA8id6wLBkBFBnoDXbhwQQyBDocDN27cYGMLy+ZwOMTwp/S6hfxgDS+cDyJ3rAsGQEUGegM5nU4xBLKxDYZ24cIFOL24d7QvdUHBxfkgcse6YABURO4bqKenJ+RHeNjYBmpKvvb1pS4oODgfRO5YFwyAivANROSOdRFeOB9E7lgXDICK8A1E5I514X+lpaXiPbQtFguqq6tlP5fzQeSOdcEAqAjfQETuWBf+tWPHDuh0OpSVlcFutyM/Px9GoxEtLS2yns/5IHLHumAAVIRvICJ3rAv/ysrKwrx58yR96enpeP7552U9n/NB5I51wQCoSEdHBwRBQFtbGzo7O9nY2Do70dbWBkEQ0NHREeoSHfS6u7sRGRmJPXv2SPoXLlyIadOmeXxOV1eXZD5aW1v5OcXGdkvj5xQDoCKuNxAbG5t7a2trC3WJDnrnz5+HIAioqamR9K9evRqpqaken9PXrTDZ2NjcW1NTUzBKOSwxACrQ29uLtrY2dHR0hPx/M+HYXAGZRx60tT87OjrQ1taG3t7eUJfooOcKgLW1tZL+VatWIS0tzeNzbj0CeOXKFTQ1NfX7OTVY3ltqbNz3oWmuI+NXrlwJRimHJQZACpjOTv7Gwp+4P7XHl6+AfcH3Vuhw34cG9zsDIAUQC8y/uD+1KSsrC/Pnz5f0ZWRkyD4JRA6+t0KH+z40uN8ZACmAWGD+xf2pTa7LwJSXl8Nut6OgoABGoxFnz57122vwvRU63Pehwf3OAEgB1NXVhcLCQnR1dYV6KKrA/aldpaWlSE5Ohl6vh8ViQVVVlV/Xz/dW6HDfhwb3OwMgERERkeYwABIRERFpDAMgERERkcYwABIRERFpDAMgERERkcYwAJJXSktLkZKSAoPBAIvFgurq6n6X37VrFzIyMqDX65GRkeF2Qdu8vDy3W/NMnDgxkJsQNrzZlw0NDcjJyUFycjIEQcArr7yieJ2kLf6uXZInEHVO8niz7998801MmTIF8fHxiI+Px/33348jR44EcbTBxwBIsrmuR1ZWVga73Y78/HwYjUa0tLR4XL62thaRkZFYs2YNGhsbsWbNGkRFRaGurk5cJi8vD9OnT8fFixfF9vXXXwdrk0LG231ZX1+P5557Dn/6059w++23e/yHwdt1knYEonZpYIGoc5LH230/e/ZslJaWwmazobGxET//+c8RFxeHc+fOBXnkwcMASLJlZWVh3rx5kr709PQ+70jwwx/+ENOnT5f0Pfzww3jyySfFv/Py8vDYY4/5f7Bhztt9ebPk5GSP/zAoWSepWyBqlwYWiDoneZR+Hvb09GDIkCHYvHlzIIYXFhgASRZf7kmalJSEkpISSV9JSQlGjRol/p2Xl4e4uDgkJiZizJgxmDt3Li5duuT/DQgjSu/v6ukfhmDdM5YGn0DVLvUvEHVO8vjj8/Dq1auIjo7GX//610AMMSwwAJIs58+fhyAIqKmpkfSvXr0aqampHp+j0+mwbds2Sd+2bdug1+vFv3fs2IH3338fn3/+Od577z2MGzcO99xzj6qvzu7LvryZp38YlK6T1CtQtUv9C0Sdkzz++DxcsGAB7rzzTty4cSMQQwwLDIAki6ugamtrJf2rVq1CWlqax+fodDps375d0ldRUQGDwdDn61y4cAE6nQ67d+9WPugw5cu+vFl/AdDXdZJ6Bat2SSoQdU7yKN33xcXFGDp0KI4fPx6oIYYFBkCSJZhfI911110oKipSNuAwxq+AKZj4FXBo8Cvg0FGy79etW4e4uDgcPXo0kEMMCwyAJFtWVhbmz58v6cvIyOj3h+SPPPKIpG/69On9/pC8vb0dBoNB1T+8Bbzflzfr7yQQX9dJ6haM2iV3gahzkseXfb927VqYzWYcPnw40MMLCwyAJJvrtPry8nLY7XYUFBTAaDTi7NmzAICf/OQnkuKqqalBZGQkioqK0NjYiKKiIsmlJK5du4YlS5agtrYWzc3NOHjwICZPnowRI0bg6tWrIdnGYPF2X3Z3d8Nms8Fms+GOO+7Ac889B5vNhtOnT8teJ2mXv2uX5AlEnZM83u774uJi6PV67Nq1S3JZsmvXroVqEwKOAZC8UlpaiuTkZOj1elgsFlRVVYmPWa1W5OXlSZbfuXMn0tLSoNPpkJ6eLvltn8PhwEMPPYTExETodDqMGjUKeXl5aG1tDdbmhJQ3+7K5udntgtmCIMBqtcpeJ2mbP2uX5AtEnZM83ux718W3b22FhYXBH3iQMAASERERaQwDIBEREZHGMAASERERaQwDIBEREZHGMAASERERaQwDIBEREZHGMAASERERaQwDIBEREZHGMAASERERaQwDIBEREZHGMACSKnV3d4d6CESkMWlpaSgrK3Prb29vR2JiIpqbm2Wva+bMmXj55Zf9ODoiKQZAUgWr1YpnnnkGixYtwrBhwzBt2rRQD4mINMThcCAyMhL19fVujy1ZsgRz5syR9JWWliIlJQUGgwEWiwXV1dWSx48fP47bbrsNnZ2dAR03aRcDIKmC1WqFyWTC0qVLcfLkSTQ2NoZ6SESkIfX19YiIiIDD4ZD0OxwOxMfHo7a2VuzbsWMHdDodysrg5dJiAAADK0lEQVTKYLfbkZ+fD6PRiJaWFslzLRYL/vCHPwRl/KQ9DICkClarFePHjw/1MIhIY2w2G7Kzs6HX6yEIAhISElBSUiI+vnv3biQkJEiek5WVhXnz5kn60tPT8fzzz0v6fve732Hq1KmBGzxpGgMgqYLVasXcuXNDPQwi0pAzZ87AbDZj5cqVeOKJJ5CTk4Pf//73EAQBR48eBQDk5+dj+vTp4nO6u7sRGRmJPXv2SNa1cOFCt5+u7Nu3DwaDAV1dXYHfGNIcBkBSBavVivz8/FAPg4g05IEHHsDPfvYzAN8e1Vu3bh16e3sRHx8vHgV87LHHJL//O3/+PARBQE1NjWRdq1evRmpqqqTv+PHjEAQBZ8+eDfCWkBYxAJIqMAASUTBdvHgRERERqKurQ09PD2JiYvD3v/8dAJCQkIANGzYAAB566CEsWLBAfJ4rAN78m0AAWLVqFdLS0iR9p06dgiAIsNvtAd4a0iIGQFIFBkAiCqa9e/dCEAR0dXWhoaEBgiCgvb0dra2tEAQBNpsNADB79mzMmjVLfJ43XwHX1dVBEARcvnw58BtEmsMASKrAAEhEwfTnP/8ZgiCgo6MDFRUVGDlyJABg+fLluPvuu8Xl1q1bh3Hjxkmem5WVhfnz50v6MjIy3E4Ceeutt8T1EvkbAyAREZGXWlpaEBUVhcWLF+Ppp5+G1WpFaWkpYmNjceTIEXG5zz77DFFRUfj3v/8t9rkuA1NeXg673Y6CggIYjUa33/rl5eW5XT+QyF8YAImIiHywZcsW3HHHHRAEAVFRUfj+97+PyspKt+UmTZqE119/XdJXWlqK5ORk6PV6WCwWVFVVSR6/ceMGzGYzDh8+HNBtIO1iACQiIlJg6NCh2Lt3b5+P/+1vf0NGRgZ6e3tlr3PDhg148MEH/TE8Io8YAImIiHzU1tYGQRBw5syZfpdbv349WltbZa/3jTfewMmTJ5UOj6hPDIBEREQ+2rdvH4xGI5xOZ6iHQuQVBkAiIiIijWEAJCIiItIYBkAiIiIijWEAJCIiItIYBkAiIiIijWEAJCIiItIYBkAiIiIijWEAJCIiItKY/wMckPW4M1Wm4gAAAABJRU5ErkJggg==\" width=\"640\">"
      ],
      "text/plain": [
       "<IPython.core.display.HTML object>"
      ]
     },
     "metadata": {},
     "output_type": "display_data"
    }
   ],
   "source": [
    "# See the local energy and ideal local energy change as phi(0) changes\n",
    "\n",
    "fig, ax = plt.subplots(1,2)\n",
    "plt.subplots_adjust(wspace = 0.5)\n",
    "chi2, alpha_vals, EL_curr = compute_one_cycle(he_phi, he_gto, rc_val, he_Z_val, phi_at_zero)\n",
    "chi2 = float(chi2)\n",
    "ax[0].plot(xs, EL_ideal,label=\"Ideal local energy\")\n",
    "ax[0].set_ylabel(\"Energy\")\n",
    "ax[0].set_xlabel(\"r\")\n",
    "line, = ax[0].plot(xs, EL_curr, label=\"Local energy\")\n",
    "ax[0].legend()\n",
    "chis = [chi2]\n",
    "offsets = [0.0]\n",
    "ax[1].set_xlim(-0.01, 20*0.01)\n",
    "ax[1].set_ylim(0.0, chi2)\n",
    "ax[1].set_ylabel(\"$\\chi^2$\")\n",
    "ax[1].set_xlabel(\"$\\phi(0)$\")\n",
    "line_chi, = ax[1].plot(offsets, chis, 'bo')\n",
    "\n",
    "\n",
    "def animate_chi2(ioffset):\n",
    "    offset = ioffset*0.01\n",
    "    chi2, alpha_vals, EL_curr = compute_one_cycle(he_phi, he_gto, rc_val, he_Z_val, phi_at_zero + offset)\n",
    "    print chi2, offset\n",
    "    line.set_ydata(EL_curr)\n",
    "    offsets.append(offset)\n",
    "    chis.append(chi2)\n",
    "    line_chi.set_xdata(offsets)\n",
    "    line_chi.set_ydata(chis)\n",
    "    #line_chi.plot(offsets, chis)\n",
    "    return line,\n",
    "    \n",
    "# Uncomment the following to see the animation    \n",
    "#ani = animation.FuncAnimation(fig, animate_chi2, np.arange(1,20), interval=100, blit=True, repeat=False)\n",
    "#plt.show()"
   ]
  },
  {
   "cell_type": "code",
   "execution_count": 45,
   "metadata": {},
   "outputs": [
    {
     "name": "stdout",
     "output_type": "stream",
     "text": [
      "0.1\n"
     ]
    },
    {
     "data": {
      "image/png": "[encoded data removed]",
      "text/plain": [
       "<Figure size 432x288 with 1 Axes>"
      ]
     },
     "metadata": {},
     "output_type": "display_data"
    }
   ],
   "source": [
    "# Interactive plot with r_c and phi(0) adjustable\n",
    "phi_slider = ipywidgets.FloatSlider(value=phi_at_zero, min=phi_at_zero/2.0, max=phi_at_zero*2.0)\n",
    "rc_slider = ipywidgets.FloatSlider(value=rc_val,min=rc_val/1.5,max=rc_val*1.5)\n",
    "print rc_val\n",
    "#plt.plot(xs, EL_curr, xs, EL_ideal)\n",
    "fig2 = plt.figure()\n",
    "ax2 = fig2.add_subplot(1,1,1)\n",
    "ax2.set_xlabel(\"r\")\n",
    "ax2.set_ylabel(\"Local energy\")\n",
    "line2, = ax2.plot(xs,EL_ideal)\n",
    "line3, = ax2.plot(xs, EL_curr)\n",
    "\n",
    "def update(phi0=1.0, rc_new=0.1):\n",
    "    chi2, alpha_vals, EL_curr = compute_one_cycle(he_phi, he_gto, rc_new, he_Z_val, phi0)\n",
    "    line3.set_ydata(EL_curr)\n",
    "    fig2.canvas.draw()\n",
    "\n",
    "# Uncomment to activate the interactive version\n",
    "#interact(update, phi0 = phi_slider, rc_new=rc_slider)\n",
    "    "
   ]
  },
  {
   "cell_type": "code",
   "execution_count": 46,
   "metadata": {},
   "outputs": [
    {
     "name": "stdout",
     "output_type": "stream",
     "text": [
      "starting phi(0) =  0.999603733514\n"
     ]
    },
    {
     "data": {
      "text/plain": [
       "      fun: 7.740763089368863\n",
       " hess_inv: array([[ 4.37122586e-05, -3.53898845e-05],\n",
       "       [-3.53898845e-05,  2.86520112e-05]])\n",
       "      jac: array([-15512.01509583, -19156.76275462])\n",
       "  message: 'Desired error not necessarily achieved due to precision loss.'\n",
       "     nfev: 1128\n",
       "      nit: 127\n",
       "     njev: 279\n",
       "   status: 2\n",
       "  success: False\n",
       "        x: array([0.66675309, 0.48046938])"
      ]
     },
     "execution_count": 46,
     "metadata": {},
     "output_type": "execute_result"
    }
   ],
   "source": [
    "def chi2_opt(x):\n",
    "    phi_at_zero = x[0]\n",
    "    rc_val = x[1]\n",
    "    chi2, alpha_vals, EL_curr = compute_one_cycle(he_phi, he_gto, rc_val, he_Z_val, phi_at_zero)\n",
    "    return float(chi2)\n",
    "\n",
    "phi_at_zero = float(he_phi(0.0)[0])\n",
    "print 'starting phi(0) = ',phi_at_zero\n",
    "# Optimize phi_0 and rc simultaneously\n",
    "# This optimization to find the minimum chi2 can take a while. \n",
    "scipy.optimize.minimize(chi2_opt,[phi_at_zero, rc_val])"
   ]
  },
  {
   "cell_type": "markdown",
   "metadata": {},
   "source": [
    "### Dividing the wavefunction\n",
    " Into $\\phi$ and $\\eta$ pieces.  This is done in QMCPACK by writing zeros to the coefficient matrix.\n",
    " "
   ]
  },
  {
   "cell_type": "code",
   "execution_count": 47,
   "metadata": {},
   "outputs": [
    {
     "name": "stdout",
     "output_type": "stream",
     "text": [
      "MO coeff size =  14\n",
      "(14, 15)\n"
     ]
    },
    {
     "data": {
      "image/png": "[encoded data removed]",
      "text/latex": [
       "$$\\left [ \\left ( 0, \\quad 5, \\quad \\left [ 3598.9736625, \\quad 541.3207311, \\quad 122.9045006, \\quad 34.216617, \\quad 10.6505841\\right ], \\quad \\left [ -0.005320248925, \\quad -0.039774947676, \\quad -0.178952502677, \\quad -0.468435650621, \\quad -0.44734771358\\right ]\\right ), \\quad \\left ( 0, \\quad 1, \\quad \\left [ 1.3545954\\right ], \\quad \\left [ 1.0\\right ]\\right ), \\quad \\left ( 0, \\quad 1, \\quad \\left [ 0.4191936\\right ], \\quad \\left [ 1.0\\right ]\\right ), \\quad \\left ( 1, \\quad 3, \\quad \\left [ 28.4240538, \\quad 6.2822511, \\quad 1.6978715\\right ], \\quad \\left [ -0.066117782823, \\quad -0.344625036503, \\quad -0.730693799264\\right ]\\right ), \\quad \\left ( 1, \\quad 1, \\quad \\left [ 0.433007\\right ], \\quad \\left [ 1.0\\right ]\\right ), \\quad \\left ( 2, \\quad 1, \\quad \\left [ 1.888\\right ], \\quad \\left [ 1.0\\right ]\\right )\\right ]$$"
      ],
      "text/plain": [
       "[(0, 5, [3598.9736625, 541.3207311, 122.9045006, 34.216617, 10.6505841], [-0.0\n",
       "05320248925, -0.039774947676, -0.178952502677, -0.468435650621, -0.44734771358\n",
       "]), (0, 1, [1.3545954], [1.0]), (0, 1, [0.4191936], [1.0]), (1, 3, [28.4240538\n",
       ", 6.2822511, 1.6978715], [-0.066117782823, -0.344625036503, -0.730693799264]),\n",
       " (1, 1, [0.433007], [1.0]), (2, 1, [1.888], [1.0])]"
      ]
     },
     "execution_count": 47,
     "metadata": {},
     "output_type": "execute_result"
    }
   ],
   "source": [
    "# For Neon with DEF2-SVP\n",
    "ne_basis_set, ne_MO_matrix = read_qmcpack.parse_qmc_wf('ne_def2_svp.wfnoj.xml',['Ne'])\n",
    "#for cg in ne_basis_set:\n",
    "#    print cg\n",
    "    \n",
    "print ne_MO_matrix.shape\n",
    "#ne_MO_matrix\n",
    "ne_basis_set['Ne']"
   ]
  },
  {
   "cell_type": "code",
   "execution_count": 48,
   "metadata": {},
   "outputs": [],
   "source": [
    "c_phi = ne_MO_matrix.copy()\n",
    "c_eta = ne_MO_matrix.copy()\n",
    "basis_by_index = gaussian_orbitals.get_ijk_inverse_index(ne_basis_set['Ne'])\n",
    "# Loop over MO\n",
    "for mo_idx in range(ne_MO_matrix.shape[0]):\n",
    "  \n",
    "    for ao_idx in range(ne_MO_matrix.shape[1]):\n",
    "        # Loop over centers (for Ne atom, there is only one)\n",
    "        # If s-type\n",
    "        basis_set, angular_info = basis_by_index[mo_idx]\n",
    "        if basis_set.orbtype == 0:\n",
    "            # s-type, part of phi but not eta\n",
    "            c_eta[mo_idx, ao_idx] = 0.0\n",
    "        else:\n",
    "            # not s-type, part of eta but not phi\n",
    "            c_phi[mo_idx, ao_idx] = 0.0"
   ]
  },
  {
   "cell_type": "code",
   "execution_count": 49,
   "metadata": {},
   "outputs": [
    {
     "data": {
      "text/plain": [
       "array([[ 0.990133, -0.031233,  0.009072,  0.      ,  0.      ,  0.      ,\n",
       "         0.      ,  0.      ,  0.      ,  0.      ,  0.      ,  0.      ,\n",
       "         0.      ,  0.      ,  0.      ],\n",
       "       [ 0.322026,  0.643777,  0.460567, -0.      , -0.      , -0.      ,\n",
       "        -0.      , -0.      , -0.      , -0.      , -0.      , -0.      ,\n",
       "        -0.      , -0.      , -0.      ],\n",
       "       [-0.      , -0.      , -0.      ,  0.697249, -0.      , -0.      ,\n",
       "        -0.454527, -0.      , -0.      , -0.      , -0.      , -0.      ,\n",
       "        -0.      , -0.      , -0.      ],\n",
       "       [ 0.      ,  0.      ,  0.      ,  0.      ,  0.      ,  0.      ,\n",
       "         0.      ,  0.      ,  0.      ,  0.      ,  0.      ,  0.      ,\n",
       "         0.      ,  0.      ,  0.      ],\n",
       "       [ 0.      ,  0.      ,  0.      ,  0.      ,  0.      ,  0.      ,\n",
       "         0.      ,  0.      ,  0.      ,  0.      ,  0.      ,  0.      ,\n",
       "         0.      ,  0.      ,  0.      ],\n",
       "       [ 0.      ,  0.      ,  0.      ,  0.      ,  0.      ,  0.      ,\n",
       "         0.      ,  0.      ,  0.      ,  0.      ,  0.      ,  0.      ,\n",
       "         0.      ,  0.      ,  0.      ],\n",
       "       [ 0.      ,  0.      ,  0.      ,  0.      ,  0.      ,  0.      ,\n",
       "         0.      ,  0.      ,  0.      ,  0.      ,  0.      ,  0.      ,\n",
       "         0.      ,  0.      ,  0.      ],\n",
       "       [ 0.      ,  0.      ,  0.      ,  0.      ,  0.      ,  0.      ,\n",
       "         0.      ,  0.      ,  0.      ,  0.      ,  0.      ,  0.      ,\n",
       "         0.      ,  0.      ,  0.      ],\n",
       "       [ 0.      ,  0.      ,  0.      ,  0.      ,  0.      ,  0.      ,\n",
       "         0.      ,  0.      ,  0.      ,  0.      ,  0.      ,  0.      ,\n",
       "         0.      ,  0.      ,  0.      ],\n",
       "       [ 0.      ,  0.      ,  0.      ,  0.      ,  0.      ,  0.      ,\n",
       "         0.      ,  0.      ,  0.      ,  0.      ,  0.      ,  0.      ,\n",
       "         0.      ,  0.      ,  0.      ],\n",
       "       [ 0.      ,  0.      ,  0.      ,  0.      ,  0.      ,  0.      ,\n",
       "         0.      ,  0.      ,  0.      ,  0.      ,  0.      ,  0.      ,\n",
       "         0.      ,  0.      ,  0.      ],\n",
       "       [ 0.      ,  0.      ,  0.      ,  0.      ,  0.      ,  0.      ,\n",
       "         0.      ,  0.      ,  0.      ,  0.      ,  0.      ,  0.      ,\n",
       "         0.      ,  0.      ,  0.      ],\n",
       "       [ 0.      ,  0.      ,  0.      ,  0.      ,  0.      ,  0.      ,\n",
       "         0.      ,  0.      ,  0.      ,  0.      ,  0.      ,  0.      ,\n",
       "         0.      ,  0.      ,  0.      ],\n",
       "       [ 0.      ,  0.      ,  0.      ,  0.      ,  0.      ,  0.      ,\n",
       "         0.      ,  0.      ,  0.      ,  0.      ,  0.      ,  0.      ,\n",
       "         0.      ,  0.      ,  0.      ]])"
      ]
     },
     "execution_count": 49,
     "metadata": {},
     "output_type": "execute_result"
    }
   ],
   "source": [
    "c_phi"
   ]
  },
  {
   "cell_type": "code",
   "execution_count": 50,
   "metadata": {},
   "outputs": [
    {
     "data": {
      "text/plain": [
       "array([-16.11819129,  -4.48709323,   0.        ,   0.        ,\n",
       "         0.        ,   0.        ,   0.        ,   0.        ,\n",
       "         0.        ,   0.        ,   0.        ,   0.        ,\n",
       "         0.        ,   0.        ])"
      ]
     },
     "execution_count": 50,
     "metadata": {},
     "output_type": "execute_result"
    }
   ],
   "source": [
    "ne_phi_mo = gaussian_orbitals.MO(gaussian_orbitals.GTO(ne_basis_set['Ne']), c_phi)\n",
    "ne_phi_mo.eval_v(0.0, 0.0, 0.0)"
   ]
  },
  {
   "cell_type": "code",
   "execution_count": 51,
   "metadata": {},
   "outputs": [
    {
     "data": {
      "text/plain": [
       "array([ 0.        ,  0.        ,  0.        ,  0.        ,  0.        ,\n",
       "       -4.47043866,  0.        ,  0.        ,  0.        ,  0.        ,\n",
       "        0.        ,  0.        ,  0.        ,  0.        ])"
      ]
     },
     "execution_count": 51,
     "metadata": {},
     "output_type": "execute_result"
    }
   ],
   "source": [
    "ne_eta_mo = gaussian_orbitals.MO(gaussian_orbitals.GTO(ne_basis_set['Ne']), c_eta)\n",
    "ne_eta_mo.eval_v(0.0, 0.0, 0.0)"
   ]
  },
  {
   "cell_type": "code",
   "execution_count": 52,
   "metadata": {},
   "outputs": [
    {
     "name": "stdout",
     "output_type": "stream",
     "text": [
      "[-16.11819129]\n",
      "[0.]\n"
     ]
    }
   ],
   "source": [
    "mo_idx = 0\n",
    "gto1 = gaussian_orbitals.GTO(ne_basis_set['Ne'][mo_idx:mo_idx+1])\n",
    "ne_phi_mo1 = gaussian_orbitals.MO(gaussian_orbitals.GTO(ne_basis_set['Ne']), c_phi[mo_idx:mo_idx+1,:])\n",
    "print ne_phi_mo1.eval_v(0.0, 0.0, 0.0)\n",
    "\n",
    "ne_eta_mo1 = gaussian_orbitals.MO(gaussian_orbitals.GTO(ne_basis_set['Ne']), c_eta[mo_idx:mo_idx+1,:])\n",
    "print ne_eta_mo1.eval_v(0.0, 0.0, 0.0)"
   ]
  },
  {
   "cell_type": "code",
   "execution_count": 53,
   "metadata": {},
   "outputs": [
    {
     "data": {
      "image/png": "[encoded data removed]",
      "text/latex": [
       "$$\\left [ 1.85577229702128, \\quad -9.590108160433303, \\quad 84.15367544321582, \\quad -10.0, \\quad 2.77994852811539\\right ]$$"
      ],
      "text/plain": [
       "[1.85577229702128, -9.590108160433303, 84.15367544321582, -10.0, 2.77994852811\n",
       "539]"
      ]
     },
     "execution_count": 53,
     "metadata": {},
     "output_type": "execute_result"
    }
   ],
   "source": [
    "Xvals = [0.0]*5\n",
    "C_val = 0.0\n",
    "ne_Z_val = 10.0\n",
    "ne_phi = create_phi_func(ne_phi_mo1)\n",
    "ne_eta_at_zero = ne_eta_mo1.eval_v(0.0,0.0,0.0)[0]\n",
    "evalX(ne_phi, rc_val, C_val, ne_Z_val, ne_phi(0.0)[0], ne_eta_at_zero)"
   ]
  },
  {
   "cell_type": "code",
   "execution_count": null,
   "metadata": {},
   "outputs": [],
   "source": []
  },
  {
   "cell_type": "code",
   "execution_count": null,
   "metadata": {},
   "outputs": [],
   "source": []
  }
 ],
 "metadata": {
  "kernelspec": {
   "display_name": "Python 2",
   "language": "python",
   "name": "python2"
  },
  "language_info": {
   "codemirror_mode": {
    "name": "ipython",
    "version": 2
   },
   "file_extension": ".py",
   "mimetype": "text/x-python",
   "name": "python",
   "nbconvert_exporter": "python",
   "pygments_lexer": "ipython2",
   "version": "2.7.15"
  }
 },
 "nbformat": 4,
 "nbformat_minor": 2
}
