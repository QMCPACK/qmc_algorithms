{
 "cells": [
  {
   "cell_type": "code",
   "execution_count": 2,
   "metadata": {},
   "outputs": [],
   "source": [
    "from sympy import *\n",
    "from IPython.display import display\n",
    "init_printing()"
   ]
  },
  {
   "cell_type": "markdown",
   "metadata": {},
   "source": [
    "# Three-body polynomial Jastrow\n",
    "\n",
    "Three body Jastrow factor from \"Jastrow correlation factor for atoms, molecules, and solids\" N.D.Drummond, M.D.Towler, R.J.Needs, PRB 70 235119(2004)\n",
    "\n",
    "See the 'gen_three_body.py' script for code generation"
   ]
  },
  {
   "cell_type": "code",
   "execution_count": 3,
   "metadata": {},
   "outputs": [
    {
     "data": {
      "image/png": "[encoded data removed]",
      "text/latex": [
       "$\\displaystyle \\left( r_{i}, \\  r_{j}, \\  r_{ij}\\right)$"
      ],
      "text/plain": [
       "(rᵢ, r_j, r_ij)"
      ]
     },
     "execution_count": 3,
     "metadata": {},
     "output_type": "execute_result"
    }
   ],
   "source": [
    "ri = Symbol('r_i')\n",
    "rj = Symbol('r_j')\n",
    "rij = Symbol('r_ij')\n",
    "(ri, rj, rij)"
   ]
  },
  {
   "cell_type": "code",
   "execution_count": 44,
   "metadata": {},
   "outputs": [],
   "source": [
    "C = Symbol('C')  # C is 2 or 3\n",
    "L = Symbol('L')\n",
    "gamma = IndexedBase('gamma')\n",
    "r = IndexedBase('r')\n",
    "l = Symbol('l',integer=True)\n",
    "m = Symbol('m',integer=True)\n",
    "n = Symbol('n',integer=True)\n",
    "N = Symbol('N',integer=True)\n",
    "N_ee = Symbol(\"N_ee\",integer=True)\n",
    "N_en = Symbol(\"N_en\",integer=True)"
   ]
  },
  {
   "cell_type": "code",
   "execution_count": 45,
   "metadata": {},
   "outputs": [
    {
     "data": {
      "text/latex": [
       "$\\displaystyle \\left(- L + r_{i}\\right)^{C} \\left(- L + r_{j}\\right)^{C} \\sum_{\\substack{0 \\leq l \\leq N_{en}\\\\0 \\leq n \\leq N_{en}\\\\0 \\leq m \\leq N_{ee}}} r_{i}^{l} r_{ij}^{n} r_{j}^{m} {\\gamma}_{l,m,n}$"
      ],
      "text/plain": [
       "                        Nₑₑ   Nₑₙ   Nₑₙ                               \n",
       "                        ___   ___   ___                               \n",
       "                        ╲     ╲     ╲                                 \n",
       "         C           C   ╲     ╲     ╲     l     n    m               \n",
       "(-L + rᵢ) ⋅(-L + r_j) ⋅  ╱     ╱     ╱   rᵢ ⋅r_ij ⋅r_j ⋅gamma[l, m, n]\n",
       "                        ╱     ╱     ╱                                 \n",
       "                        ‾‾‾   ‾‾‾   ‾‾‾                               \n",
       "                       m = 0 n = 0 l = 0                              "
      ]
     },
     "execution_count": 45,
     "metadata": {},
     "output_type": "execute_result"
    }
   ],
   "source": [
    "# General form of the 3-body Jastrow\n",
    "f = (ri - L)**C * (rj -L)**C * Sum(Sum(Sum(gamma[l,m,n]*ri**l *rj**m*rij**n,(l,0,N_en)),(n,0,N_en)),(m,0,N_ee))\n",
    "f"
   ]
  },
  {
   "cell_type": "code",
   "execution_count": 6,
   "metadata": {},
   "outputs": [
    {
     "data": {
      "image/png": "[encoded data removed]",
      "text/latex": [
       "$\\displaystyle \\left(- L + r_{i}\\right)^{C} \\left(- L + r_{j}\\right)^{C} \\left(r_{i} {\\gamma}_{1,0,0} + r_{ij} \\left(r_{i} {\\gamma}_{1,0,1} + {\\gamma}_{0,0,1}\\right) + r_{j} \\left(r_{i} {\\gamma}_{1,1,0} + r_{ij} \\left(r_{i} {\\gamma}_{1,1,1} + {\\gamma}_{0,1,1}\\right) + {\\gamma}_{0,1,0}\\right) + {\\gamma}_{0,0,0}\\right)$"
      ],
      "text/plain": [
       "         C           C                                                        \n",
       "(-L + rᵢ) ⋅(-L + r_j) ⋅(rᵢ⋅gamma[1, 0, 0] + r_ij⋅(rᵢ⋅gamma[1, 0, 1] + gamma[0,\n",
       "\n",
       "                                                                              \n",
       " 0, 1]) + r_j⋅(rᵢ⋅gamma[1, 1, 0] + r_ij⋅(rᵢ⋅gamma[1, 1, 1] + gamma[0, 1, 1]) +\n",
       "\n",
       "                                  \n",
       " gamma[0, 1, 0]) + gamma[0, 0, 0])"
      ]
     },
     "execution_count": 6,
     "metadata": {},
     "output_type": "execute_result"
    }
   ],
   "source": [
    "# Concrete example for N_en = 1 and N_ee = 1\n",
    "f1 = f.subs(N_en,1).subs(N_ee,1).doit()\n",
    "f1"
   ]
  },
  {
   "cell_type": "code",
   "execution_count": 7,
   "metadata": {},
   "outputs": [
    {
     "data": {
      "image/png": "[encoded data removed]",
      "text/latex": [
       "$\\displaystyle \\left(- L + r_{i}\\right)^{C} \\left(- L + r_{j}\\right)^{C} \\left(r_{i} {\\gamma}_{1,0,0} + r_{ij} \\left(r_{i} {\\gamma}_{1,0,1} + {\\gamma}_{0,0,1}\\right) + r_{j}^{2} \\left(r_{i} {\\gamma}_{1,2,0} + r_{ij} \\left(r_{i} {\\gamma}_{1,2,1} + {\\gamma}_{0,2,1}\\right) + {\\gamma}_{0,2,0}\\right) + r_{j} \\left(r_{i} {\\gamma}_{1,1,0} + r_{ij} \\left(r_{i} {\\gamma}_{1,1,1} + {\\gamma}_{0,1,1}\\right) + {\\gamma}_{0,1,0}\\right) + {\\gamma}_{0,0,0}\\right)$"
      ],
      "text/plain": [
       "         C           C ⎛                                                      \n",
       "(-L + rᵢ) ⋅(-L + r_j) ⋅⎝rᵢ⋅gamma[1, 0, 0] + r_ij⋅(rᵢ⋅gamma[1, 0, 1] + gamma[0,\n",
       "\n",
       "             2                                                                \n",
       " 0, 1]) + r_j ⋅(rᵢ⋅gamma[1, 2, 0] + r_ij⋅(rᵢ⋅gamma[1, 2, 1] + gamma[0, 2, 1]) \n",
       "\n",
       "                                                                              \n",
       "+ gamma[0, 2, 0]) + r_j⋅(rᵢ⋅gamma[1, 1, 0] + r_ij⋅(rᵢ⋅gamma[1, 1, 1] + gamma[0\n",
       "\n",
       "                                           ⎞\n",
       ", 1, 1]) + gamma[0, 1, 0]) + gamma[0, 0, 0]⎠"
      ]
     },
     "execution_count": 7,
     "metadata": {},
     "output_type": "execute_result"
    }
   ],
   "source": [
    "# Concrete example for N_en = 1 and N_ee = 2\n",
    "f12 = f.subs(N_en,1).subs(N_ee,2).doit()\n",
    "f12"
   ]
  },
  {
   "cell_type": "markdown",
   "metadata": {},
   "source": [
    "## Constraints\n",
    "\n",
    "$l$ is index for electron_1 - nuclei distance variable\n",
    "\n",
    "$m$ is index for electron_2 - nuclei distance variable\n",
    "\n",
    "$n$ is index for electron_1 - electron_2 distance variable\n",
    "\n",
    "The Jastrow factor should be symmetric under electron exchange (swap $l$ and $m$) \n"
   ]
  },
  {
   "cell_type": "code",
   "execution_count": 124,
   "metadata": {},
   "outputs": [
    {
     "data": {
      "image/png": "[encoded data removed]",
      "text/latex": [
       "$\\displaystyle {\\gamma}_{2,1,2} = {\\gamma}_{1,2,2}$"
      ],
      "text/plain": [
       "gamma[2, 1, 2] = gamma[1, 2, 2]"
      ]
     },
     "execution_count": 124,
     "metadata": {},
     "output_type": "execute_result"
    }
   ],
   "source": [
    "# How do we use this to simplify the expressions above?\n",
    "Eq(gamma[l,m,n], gamma[m,l,n])\n",
    "\n",
    "# Brute force - loop over m and l<m and create the substitutions (next cell)"
   ]
  },
  {
   "cell_type": "code",
   "execution_count": 125,
   "metadata": {
    "scrolled": true
   },
   "outputs": [
    {
     "data": {
      "image/png": "[encoded data removed]",
      "text/latex": [
       "$\\displaystyle \\left(- L + r_{i}\\right)^{C} \\left(- L + r_{j}\\right)^{C} \\left(r_{i} {\\gamma}_{1,0,0} + r_{ij} \\left(r_{i} {\\gamma}_{1,0,1} + {\\gamma}_{0,0,1}\\right) + r_{j} \\left(r_{i} {\\gamma}_{1,1,0} + r_{ij} \\left(r_{i} {\\gamma}_{1,1,1} + {\\gamma}_{0,1,1}\\right) + {\\gamma}_{0,1,0}\\right) + {\\gamma}_{0,0,0}\\right)$"
      ],
      "text/plain": [
       "         C           C                                                        \n",
       "(-L + rᵢ) ⋅(-L + r_j) ⋅(rᵢ⋅gamma[1, 0, 0] + r_ij⋅(rᵢ⋅gamma[1, 0, 1] + gamma[0,\n",
       "\n",
       "                                                                              \n",
       " 0, 1]) + r_j⋅(rᵢ⋅gamma[1, 1, 0] + r_ij⋅(rᵢ⋅gamma[1, 1, 1] + gamma[0, 1, 1]) +\n",
       "\n",
       "                                  \n",
       " gamma[0, 1, 0]) + gamma[0, 0, 0])"
      ]
     },
     "metadata": {},
     "output_type": "display_data"
    },
    {
     "name": "stdout",
     "output_type": "stream",
     "text": [
      "1 0 0\n"
     ]
    },
    {
     "data": {
      "image/png": "[encoded data removed]",
      "text/latex": [
       "$\\displaystyle {\\gamma}_{0,1,0}$"
      ],
      "text/plain": [
       "gamma[0, 1, 0]"
      ]
     },
     "metadata": {},
     "output_type": "display_data"
    },
    {
     "data": {
      "image/png": "[encoded data removed]",
      "text/latex": [
       "$\\displaystyle {\\gamma}_{1,0,0}$"
      ],
      "text/plain": [
       "gamma[1, 0, 0]"
      ]
     },
     "metadata": {},
     "output_type": "display_data"
    },
    {
     "name": "stdout",
     "output_type": "stream",
     "text": [
      "1 0 1\n"
     ]
    },
    {
     "data": {
      "image/png": "[encoded data removed]",
      "text/latex": [
       "$\\displaystyle {\\gamma}_{0,1,1}$"
      ],
      "text/plain": [
       "gamma[0, 1, 1]"
      ]
     },
     "metadata": {},
     "output_type": "display_data"
    },
    {
     "data": {
      "image/png": "[encoded data removed]",
      "text/latex": [
       "$\\displaystyle {\\gamma}_{1,0,1}$"
      ],
      "text/plain": [
       "gamma[1, 0, 1]"
      ]
     },
     "metadata": {},
     "output_type": "display_data"
    },
    {
     "name": "stdout",
     "output_type": "stream",
     "text": [
      "1 0 2\n"
     ]
    },
    {
     "data": {
      "image/png": "[encoded data removed]",
      "text/latex": [
       "$\\displaystyle {\\gamma}_{0,1,2}$"
      ],
      "text/plain": [
       "gamma[0, 1, 2]"
      ]
     },
     "metadata": {},
     "output_type": "display_data"
    },
    {
     "data": {
      "image/png": "[encoded data removed]",
      "text/latex": [
       "$\\displaystyle {\\gamma}_{1,0,2}$"
      ],
      "text/plain": [
       "gamma[1, 0, 2]"
      ]
     },
     "metadata": {},
     "output_type": "display_data"
    },
    {
     "name": "stdout",
     "output_type": "stream",
     "text": [
      "2 0 0\n"
     ]
    },
    {
     "data": {
      "image/png": "[encoded data removed]",
      "text/latex": [
       "$\\displaystyle {\\gamma}_{0,2,0}$"
      ],
      "text/plain": [
       "gamma[0, 2, 0]"
      ]
     },
     "metadata": {},
     "output_type": "display_data"
    },
    {
     "data": {
      "image/png": "[encoded data removed]",
      "text/latex": [
       "$\\displaystyle {\\gamma}_{2,0,0}$"
      ],
      "text/plain": [
       "gamma[2, 0, 0]"
      ]
     },
     "metadata": {},
     "output_type": "display_data"
    },
    {
     "name": "stdout",
     "output_type": "stream",
     "text": [
      "2 0 1\n"
     ]
    },
    {
     "data": {
      "image/png": "[encoded data removed]",
      "text/latex": [
       "$\\displaystyle {\\gamma}_{0,2,1}$"
      ],
      "text/plain": [
       "gamma[0, 2, 1]"
      ]
     },
     "metadata": {},
     "output_type": "display_data"
    },
    {
     "data": {
      "image/png": "[encoded data removed]",
      "text/latex": [
       "$\\displaystyle {\\gamma}_{2,0,1}$"
      ],
      "text/plain": [
       "gamma[2, 0, 1]"
      ]
     },
     "metadata": {},
     "output_type": "display_data"
    },
    {
     "name": "stdout",
     "output_type": "stream",
     "text": [
      "2 0 2\n"
     ]
    },
    {
     "data": {
      "image/png": "[encoded data removed]",
      "text/latex": [
       "$\\displaystyle {\\gamma}_{0,2,2}$"
      ],
      "text/plain": [
       "gamma[0, 2, 2]"
      ]
     },
     "metadata": {},
     "output_type": "display_data"
    },
    {
     "data": {
      "image/png": "[encoded data removed]",
      "text/latex": [
       "$\\displaystyle {\\gamma}_{2,0,2}$"
      ],
      "text/plain": [
       "gamma[2, 0, 2]"
      ]
     },
     "metadata": {},
     "output_type": "display_data"
    },
    {
     "name": "stdout",
     "output_type": "stream",
     "text": [
      "2 1 0\n"
     ]
    },
    {
     "data": {
      "image/png": "[encoded data removed]",
      "text/latex": [
       "$\\displaystyle {\\gamma}_{1,2,0}$"
      ],
      "text/plain": [
       "gamma[1, 2, 0]"
      ]
     },
     "metadata": {},
     "output_type": "display_data"
    },
    {
     "data": {
      "image/png": "[encoded data removed]",
      "text/latex": [
       "$\\displaystyle {\\gamma}_{2,1,0}$"
      ],
      "text/plain": [
       "gamma[2, 1, 0]"
      ]
     },
     "metadata": {},
     "output_type": "display_data"
    },
    {
     "name": "stdout",
     "output_type": "stream",
     "text": [
      "2 1 1\n"
     ]
    },
    {
     "data": {
      "image/png": "[encoded data removed]",
      "text/latex": [
       "$\\displaystyle {\\gamma}_{1,2,1}$"
      ],
      "text/plain": [
       "gamma[1, 2, 1]"
      ]
     },
     "metadata": {},
     "output_type": "display_data"
    },
    {
     "data": {
      "image/png": "[encoded data removed]",
      "text/latex": [
       "$\\displaystyle {\\gamma}_{2,1,1}$"
      ],
      "text/plain": [
       "gamma[2, 1, 1]"
      ]
     },
     "metadata": {},
     "output_type": "display_data"
    },
    {
     "name": "stdout",
     "output_type": "stream",
     "text": [
      "2 1 2\n"
     ]
    },
    {
     "data": {
      "image/png": "[encoded data removed]",
      "text/latex": [
       "$\\displaystyle {\\gamma}_{1,2,2}$"
      ],
      "text/plain": [
       "gamma[1, 2, 2]"
      ]
     },
     "metadata": {},
     "output_type": "display_data"
    },
    {
     "data": {
      "image/png": "[encoded data removed]",
      "text/latex": [
       "$\\displaystyle {\\gamma}_{2,1,2}$"
      ],
      "text/plain": [
       "gamma[2, 1, 2]"
      ]
     },
     "metadata": {},
     "output_type": "display_data"
    },
    {
     "data": {
      "image/png": "[encoded data removed]",
      "text/latex": [
       "$\\displaystyle \\left\\{ {\\gamma}_{0,1,0} : {\\gamma}_{1,0,0}, \\  {\\gamma}_{0,1,1} : {\\gamma}_{1,0,1}, \\  {\\gamma}_{0,1,2} : {\\gamma}_{1,0,2}, \\  {\\gamma}_{0,2,0} : {\\gamma}_{2,0,0}, \\  {\\gamma}_{0,2,1} : {\\gamma}_{2,0,1}, \\  {\\gamma}_{0,2,2} : {\\gamma}_{2,0,2}, \\  {\\gamma}_{1,2,0} : {\\gamma}_{2,1,0}, \\  {\\gamma}_{1,2,1} : {\\gamma}_{2,1,1}, \\  {\\gamma}_{1,2,2} : {\\gamma}_{2,1,2}\\right\\}$"
      ],
      "text/plain": [
       "{gamma[0, 1, 0]: gamma[1, 0, 0], gamma[0, 1, 1]: gamma[1, 0, 1], gamma[0, 1, 2\n",
       "]: gamma[1, 0, 2], gamma[0, 2, 0]: gamma[2, 0, 0], gamma[0, 2, 1]: gamma[2, 0,\n",
       " 1], gamma[0, 2, 2]: gamma[2, 0, 2], gamma[1, 2, 0]: gamma[2, 1, 0], gamma[1, \n",
       "2, 1]: gamma[2, 1, 1], gamma[1, 2, 2]: gamma[2, 1, 2]}"
      ]
     },
     "execution_count": 125,
     "metadata": {},
     "output_type": "execute_result"
    }
   ],
   "source": [
    "# Concrete values of N_ee and N_en for all the following\n",
    "NN_ee = 2\n",
    "NN_en = 2\n",
    "ftmp = f1\n",
    "sym_subs = {}\n",
    "display(ftmp)\n",
    "for i1 in range(NN_en+1):\n",
    "    for i2 in range(i1):\n",
    "        for i3 in range(NN_ee+1):\n",
    "            print(i1,i2,i3)\n",
    "            display (gamma[i2,i1,i3], gamma[i1,i2,i3])\n",
    "            #ftmp = ftmp.subs(gamma[i2,i1,i3], gamma[i1,i2,i3])\n",
    "            sym_subs[gamma[i2,i1,i3]] = gamma[i1,i2,i3]\n",
    "ftmp = f.subs(N_en,NN_en).subs(N_ee,NN_ee).doit().subs(sym_subs)\n",
    "sym_subs"
   ]
  },
  {
   "cell_type": "code",
   "execution_count": 126,
   "metadata": {},
   "outputs": [
    {
     "data": {
      "image/png": "[encoded data removed]",
      "text/latex": [
       "$\\displaystyle \\left(- L + r_{i}\\right)^{C} \\left(- L + r_{j}\\right)^{C} \\left(r_{i}^{2} r_{ij}^{2} r_{j}^{2} {\\gamma}_{2,2,2} + r_{i}^{2} r_{ij}^{2} r_{j} {\\gamma}_{2,1,2} + r_{i}^{2} r_{ij}^{2} {\\gamma}_{2,0,2} + r_{i}^{2} r_{ij} r_{j}^{2} {\\gamma}_{2,2,1} + r_{i}^{2} r_{ij} r_{j} {\\gamma}_{2,1,1} + r_{i}^{2} r_{ij} {\\gamma}_{2,0,1} + r_{i}^{2} r_{j}^{2} {\\gamma}_{2,2,0} + r_{i}^{2} r_{j} {\\gamma}_{2,1,0} + r_{i}^{2} {\\gamma}_{2,0,0} + r_{i} r_{ij}^{2} r_{j}^{2} {\\gamma}_{2,1,2} + r_{i} r_{ij}^{2} r_{j} {\\gamma}_{1,1,2} + r_{i} r_{ij}^{2} {\\gamma}_{1,0,2} + r_{i} r_{ij} r_{j}^{2} {\\gamma}_{2,1,1} + r_{i} r_{ij} r_{j} {\\gamma}_{1,1,1} + r_{i} r_{ij} {\\gamma}_{1,0,1} + r_{i} r_{j}^{2} {\\gamma}_{2,1,0} + r_{i} r_{j} {\\gamma}_{1,1,0} + r_{i} {\\gamma}_{1,0,0} + r_{ij}^{2} r_{j}^{2} {\\gamma}_{2,0,2} + r_{ij}^{2} r_{j} {\\gamma}_{1,0,2} + r_{ij}^{2} {\\gamma}_{0,0,2} + r_{ij} r_{j}^{2} {\\gamma}_{2,0,1} + r_{ij} r_{j} {\\gamma}_{1,0,1} + r_{ij} {\\gamma}_{0,0,1} + r_{j}^{2} {\\gamma}_{2,0,0} + r_{j} {\\gamma}_{1,0,0} + {\\gamma}_{0,0,0}\\right)$"
      ],
      "text/plain": [
       "         C           C ⎛  2     2    2                    2     2             \n",
       "(-L + rᵢ) ⋅(-L + r_j) ⋅⎝rᵢ ⋅r_ij ⋅r_j ⋅gamma[2, 2, 2] + rᵢ ⋅r_ij ⋅r_j⋅gamma[2,\n",
       "\n",
       "           2     2                    2         2                    2        \n",
       " 1, 2] + rᵢ ⋅r_ij ⋅gamma[2, 0, 2] + rᵢ ⋅r_ij⋅r_j ⋅gamma[2, 2, 1] + rᵢ ⋅r_ij⋅r_\n",
       "\n",
       "                     2                         2    2                    2    \n",
       "j⋅gamma[2, 1, 1] + rᵢ ⋅r_ij⋅gamma[2, 0, 1] + rᵢ ⋅r_j ⋅gamma[2, 2, 0] + rᵢ ⋅r_j\n",
       "\n",
       "                    2                         2    2                         2\n",
       "⋅gamma[2, 1, 0] + rᵢ ⋅gamma[2, 0, 0] + rᵢ⋅r_ij ⋅r_j ⋅gamma[2, 1, 2] + rᵢ⋅r_ij \n",
       "\n",
       "                             2                             2                  \n",
       "⋅r_j⋅gamma[1, 1, 2] + rᵢ⋅r_ij ⋅gamma[1, 0, 2] + rᵢ⋅r_ij⋅r_j ⋅gamma[2, 1, 1] + \n",
       "\n",
       "                                                            2                 \n",
       "rᵢ⋅r_ij⋅r_j⋅gamma[1, 1, 1] + rᵢ⋅r_ij⋅gamma[1, 0, 1] + rᵢ⋅r_j ⋅gamma[2, 1, 0] +\n",
       "\n",
       "                                                 2    2                      2\n",
       " rᵢ⋅r_j⋅gamma[1, 1, 0] + rᵢ⋅gamma[1, 0, 0] + r_ij ⋅r_j ⋅gamma[2, 0, 2] + r_ij \n",
       "\n",
       "                          2                          2                        \n",
       "⋅r_j⋅gamma[1, 0, 2] + r_ij ⋅gamma[0, 0, 2] + r_ij⋅r_j ⋅gamma[2, 0, 1] + r_ij⋅r\n",
       "\n",
       "                                             2                                \n",
       "_j⋅gamma[1, 0, 1] + r_ij⋅gamma[0, 0, 1] + r_j ⋅gamma[2, 0, 0] + r_j⋅gamma[1, 0\n",
       "\n",
       "                     ⎞\n",
       ", 0] + gamma[0, 0, 0]⎠"
      ]
     },
     "execution_count": 126,
     "metadata": {},
     "output_type": "execute_result"
    }
   ],
   "source": [
    "# Three body Jastrow with symmetry constraints\n",
    "ftmp_sym = simplify(expand(ftmp))\n",
    "ftmp_sym"
   ]
  },
  {
   "cell_type": "code",
   "execution_count": 127,
   "metadata": {},
   "outputs": [
    {
     "data": {
      "image/png": "[encoded data removed]",
      "text/latex": [
       "$\\displaystyle \\left\\{{\\gamma}_{0,0,0}, {\\gamma}_{0,0,1}, {\\gamma}_{0,0,2}, {\\gamma}_{1,0,0}, {\\gamma}_{1,0,1}, {\\gamma}_{1,0,2}, {\\gamma}_{1,1,0}, {\\gamma}_{1,1,1}, {\\gamma}_{1,1,2}, {\\gamma}_{2,0,0}, {\\gamma}_{2,0,1}, {\\gamma}_{2,0,2}, {\\gamma}_{2,1,0}, {\\gamma}_{2,1,1}, {\\gamma}_{2,1,2}, {\\gamma}_{2,2,0}, {\\gamma}_{2,2,1}, {\\gamma}_{2,2,2}\\right\\}$"
      ],
      "text/plain": [
       "{gamma[0, 0, 0], gamma[0, 0, 1], gamma[0, 0, 2], gamma[1, 0, 0], gamma[1, 0, 1\n",
       "], gamma[1, 0, 2], gamma[1, 1, 0], gamma[1, 1, 1], gamma[1, 1, 2], gamma[2, 0,\n",
       " 0], gamma[2, 0, 1], gamma[2, 0, 2], gamma[2, 1, 0], gamma[2, 1, 1], gamma[2, \n",
       "1, 2], gamma[2, 2, 0], gamma[2, 2, 1], gamma[2, 2, 2]}"
      ]
     },
     "execution_count": 127,
     "metadata": {},
     "output_type": "execute_result"
    }
   ],
   "source": [
    "# Find the free gamma values\n",
    "{a for a in ftmp_sym.free_symbols if type(a) is Indexed}"
   ]
  },
  {
   "cell_type": "markdown",
   "metadata": {},
   "source": [
    "### No electron-electron cusp"
   ]
  },
  {
   "cell_type": "code",
   "execution_count": 128,
   "metadata": {},
   "outputs": [
    {
     "data": {
      "image/png": "[encoded data removed]",
      "text/latex": [
       "$\\displaystyle \\left(- L + r_{i}\\right)^{2 C} \\left(r_{i}^{2} \\left(r_{i}^{2} {\\gamma}_{2,2,1} + r_{i} {\\gamma}_{2,1,1} + {\\gamma}_{2,0,1}\\right) + r_{i}^{2} {\\gamma}_{2,0,1} + r_{i} \\left(r_{i}^{2} {\\gamma}_{2,1,1} + r_{i} {\\gamma}_{1,1,1} + {\\gamma}_{1,0,1}\\right) + r_{i} {\\gamma}_{1,0,1} + {\\gamma}_{0,0,1}\\right)$"
      ],
      "text/plain": [
       "         2⋅C ⎛  2 ⎛  2                                                    ⎞   \n",
       "(-L + rᵢ)   ⋅⎝rᵢ ⋅⎝rᵢ ⋅gamma[2, 2, 1] + rᵢ⋅gamma[2, 1, 1] + gamma[2, 0, 1]⎠ + \n",
       "\n",
       "  2                     ⎛  2                                                  \n",
       "rᵢ ⋅gamma[2, 0, 1] + rᵢ⋅⎝rᵢ ⋅gamma[2, 1, 1] + rᵢ⋅gamma[1, 1, 1] + gamma[1, 0, \n",
       "\n",
       "  ⎞                                     ⎞\n",
       "1]⎠ + rᵢ⋅gamma[1, 0, 1] + gamma[0, 0, 1]⎠"
      ]
     },
     "execution_count": 128,
     "metadata": {},
     "output_type": "execute_result"
    }
   ],
   "source": [
    "# First derivative of electron-electron distance should be zero at r_ij = 0\n",
    "ftmp_ee = diff(ftmp, rij).subs(rij,0).subs(rj,ri)\n",
    "ftmp_ee"
   ]
  },
  {
   "cell_type": "code",
   "execution_count": 129,
   "metadata": {},
   "outputs": [
    {
     "data": {
      "image/png": "[encoded data removed]",
      "text/latex": [
       "$\\displaystyle r_{i}^{4} {\\gamma}_{2,2,1} + 2 r_{i}^{3} {\\gamma}_{2,1,1} + r_{i}^{2} {\\gamma}_{1,1,1} + 2 r_{i}^{2} {\\gamma}_{2,0,1} + 2 r_{i} {\\gamma}_{1,0,1} + {\\gamma}_{0,0,1}$"
      ],
      "text/plain": [
       "  4                      3                    2                      2        \n",
       "rᵢ ⋅gamma[2, 2, 1] + 2⋅rᵢ ⋅gamma[2, 1, 1] + rᵢ ⋅gamma[1, 1, 1] + 2⋅rᵢ ⋅gamma[2\n",
       "\n",
       "                                              \n",
       ", 0, 1] + 2⋅rᵢ⋅gamma[1, 0, 1] + gamma[0, 0, 1]"
      ]
     },
     "execution_count": 129,
     "metadata": {},
     "output_type": "execute_result"
    }
   ],
   "source": [
    "# Remove the (r_i-L)**C part\n",
    "ftmp2_ee = simplify(expand(ftmp_ee)).args[1]\n",
    "ftmp2_ee"
   ]
  },
  {
   "cell_type": "code",
   "execution_count": 130,
   "metadata": {},
   "outputs": [
    {
     "data": {
      "image/png": "[encoded data removed]",
      "text/latex": [
       "$\\displaystyle r_{i}^{4} {\\gamma}_{2,2,1} + 2 r_{i}^{3} {\\gamma}_{2,1,1} + r_{i}^{2} \\left({\\gamma}_{1,1,1} + 2 {\\gamma}_{2,0,1}\\right) + 2 r_{i} {\\gamma}_{1,0,1} + {\\gamma}_{0,0,1}$"
      ],
      "text/plain": [
       "  4                      3                    2                               \n",
       "rᵢ ⋅gamma[2, 2, 1] + 2⋅rᵢ ⋅gamma[2, 1, 1] + rᵢ ⋅(gamma[1, 1, 1] + 2⋅gamma[2, 0\n",
       "\n",
       "                                            \n",
       ", 1]) + 2⋅rᵢ⋅gamma[1, 0, 1] + gamma[0, 0, 1]"
      ]
     },
     "execution_count": 130,
     "metadata": {},
     "output_type": "execute_result"
    }
   ],
   "source": [
    "# Collect powers of r_i\n",
    "ft3 = collect(ftmp2_ee,ri)\n",
    "ft3"
   ]
  },
  {
   "cell_type": "code",
   "execution_count": 131,
   "metadata": {},
   "outputs": [
    {
     "data": {
      "image/png": "[encoded data removed]",
      "text/latex": [
       "$\\displaystyle \\operatorname{Poly}{\\left( {\\gamma}_{2,2,1} r_{i}^{4} + 2 {\\gamma}_{2,1,1} r_{i}^{3} + \\left({\\gamma}_{1,1,1} + 2 {\\gamma}_{2,0,1}\\right) r_{i}^{2} + 2 {\\gamma}_{1,0,1} r_{i} + {\\gamma}_{0,0,1}, r_{i}, domain=EX \\right)}$"
      ],
      "text/plain": [
       "Poly(gamma[2, 2, 1]*r_i**4 + 2*gamma[2, 1, 1]*r_i**3 + (gamma[1, 1, 1] + 2*gam\n",
       "ma[2, 0, 1])*r_i**2 + 2*gamma[1, 0, 1]*r_i + gamma[0, 0, 1], r_i, domain='EX')"
      ]
     },
     "execution_count": 131,
     "metadata": {},
     "output_type": "execute_result"
    }
   ],
   "source": [
    "# Convert to polynomial to extract coefficients of r_i\n",
    "pt3 = poly(ft3,ri)\n",
    "pt3"
   ]
  },
  {
   "cell_type": "code",
   "execution_count": 132,
   "metadata": {},
   "outputs": [
    {
     "data": {
      "image/png": "[encoded data removed]",
      "text/latex": [
       "$\\displaystyle \\left[ {\\gamma}_{2,2,1}, \\  2 {\\gamma}_{2,1,1}, \\  {\\gamma}_{1,1,1} + 2 {\\gamma}_{2,0,1}, \\  2 {\\gamma}_{1,0,1}, \\  {\\gamma}_{0,0,1}\\right]$"
      ],
      "text/plain": [
       "[gamma[2, 2, 1], 2⋅gamma[2, 1, 1], gamma[1, 1, 1] + 2⋅gamma[2, 0, 1], 2⋅gamma[\n",
       "1, 0, 1], gamma[0, 0, 1]]"
      ]
     },
     "execution_count": 132,
     "metadata": {},
     "output_type": "execute_result"
    }
   ],
   "source": [
    "pt4 = pt3.all_coeffs()\n",
    "pt4"
   ]
  },
  {
   "cell_type": "code",
   "execution_count": 133,
   "metadata": {},
   "outputs": [
    {
     "data": {
      "image/png": "[encoded data removed]",
      "text/latex": [
       "$\\displaystyle \\left\\{ {\\gamma}_{0,0,1} : 0, \\  {\\gamma}_{1,0,1} : 0, \\  {\\gamma}_{1,1,1} : - 2 {\\gamma}_{2,0,1}, \\  {\\gamma}_{2,1,1} : 0, \\  {\\gamma}_{2,2,1} : 0\\right\\}$"
      ],
      "text/plain": [
       "{gamma[0, 0, 1]: 0, gamma[1, 0, 1]: 0, gamma[1, 1, 1]: -2⋅gamma[2, 0, 1], gamm\n",
       "a[2, 1, 1]: 0, gamma[2, 2, 1]: 0}"
      ]
     },
     "execution_count": 133,
     "metadata": {},
     "output_type": "execute_result"
    }
   ],
   "source": [
    "# To enforce results are zero for all distance, the coefficients must be zero\n",
    "ee_soln = solve(pt4)\n",
    "ee_soln"
   ]
  },
  {
   "cell_type": "markdown",
   "metadata": {},
   "source": [
    "### No electron-nuclei cusp"
   ]
  },
  {
   "cell_type": "code",
   "execution_count": 134,
   "metadata": {},
   "outputs": [
    {
     "data": {
      "image/png": "[encoded data removed]",
      "text/latex": [
       "$\\displaystyle - \\frac{C \\left(- L\\right)^{C} \\left(- L + r_{j}\\right)^{C} \\left(r_{j}^{2} \\left(r_{j}^{2} {\\gamma}_{2,0,2} + r_{j} {\\gamma}_{2,0,1} + {\\gamma}_{2,0,0}\\right) + r_{j}^{2} {\\gamma}_{0,0,2} + r_{j} \\left(r_{j}^{2} {\\gamma}_{1,0,2} + r_{j} {\\gamma}_{1,0,1} + {\\gamma}_{1,0,0}\\right) + r_{j} {\\gamma}_{0,0,1} + {\\gamma}_{0,0,0}\\right)}{L} + \\left(- L\\right)^{C} \\left(- L + r_{j}\\right)^{C} \\left(r_{j}^{2} \\left(r_{j}^{2} {\\gamma}_{2,1,2} + r_{j} {\\gamma}_{2,1,1} + {\\gamma}_{2,1,0}\\right) + r_{j}^{2} {\\gamma}_{1,0,2} + r_{j} \\left(r_{j}^{2} {\\gamma}_{1,1,2} + r_{j} {\\gamma}_{1,1,1} + {\\gamma}_{1,1,0}\\right) + r_{j} {\\gamma}_{1,0,1} + {\\gamma}_{1,0,0}\\right)$"
      ],
      "text/plain": [
       "        C           C ⎛   2 ⎛   2                                             \n",
       "  C⋅(-L) ⋅(-L + r_j) ⋅⎝r_j ⋅⎝r_j ⋅gamma[2, 0, 2] + r_j⋅gamma[2, 0, 1] + gamma[\n",
       "- ────────────────────────────────────────────────────────────────────────────\n",
       "                                                                              \n",
       "\n",
       "        ⎞      2                      ⎛   2                                   \n",
       "2, 0, 0]⎠ + r_j ⋅gamma[0, 0, 2] + r_j⋅⎝r_j ⋅gamma[1, 0, 2] + r_j⋅gamma[1, 0, 1\n",
       "──────────────────────────────────────────────────────────────────────────────\n",
       "                             L                                                \n",
       "\n",
       "                  ⎞                                      ⎞                    \n",
       "] + gamma[1, 0, 0]⎠ + r_j⋅gamma[0, 0, 1] + gamma[0, 0, 0]⎠       C           C\n",
       "────────────────────────────────────────────────────────── + (-L) ⋅(-L + r_j) \n",
       "                                                                              \n",
       "\n",
       "                                                                              \n",
       " ⎛   2 ⎛   2                                                     ⎞      2     \n",
       "⋅⎝r_j ⋅⎝r_j ⋅gamma[2, 1, 2] + r_j⋅gamma[2, 1, 1] + gamma[2, 1, 0]⎠ + r_j ⋅gamm\n",
       "                                                                              \n",
       "\n",
       "                                                                              \n",
       "                 ⎛   2                                                     ⎞  \n",
       "a[1, 0, 2] + r_j⋅⎝r_j ⋅gamma[1, 1, 2] + r_j⋅gamma[1, 1, 1] + gamma[1, 1, 0]⎠ +\n",
       "                                                                              \n",
       "\n",
       "                                     \n",
       "                                    ⎞\n",
       " r_j⋅gamma[1, 0, 1] + gamma[1, 0, 0]⎠\n",
       "                                     "
      ]
     },
     "execution_count": 134,
     "metadata": {},
     "output_type": "execute_result"
    }
   ],
   "source": [
    "# First derivative of electron-nuclei distance should be zero at r_i = 0\n",
    "ftmp_en = diff(ftmp, ri).subs(ri,0).subs(rij,rj)\n",
    "ftmp_en"
   ]
  },
  {
   "cell_type": "code",
   "execution_count": 135,
   "metadata": {},
   "outputs": [
    {
     "data": {
      "image/png": "[encoded data removed]",
      "text/latex": [
       "$\\displaystyle \\left(- L\\right)^{C - 1} \\left(- L + r_{j}\\right)^{C} \\left(C r_{j}^{4} {\\gamma}_{2,0,2} + C r_{j}^{3} {\\gamma}_{1,0,2} + C r_{j}^{3} {\\gamma}_{2,0,1} + C r_{j}^{2} {\\gamma}_{0,0,2} + C r_{j}^{2} {\\gamma}_{1,0,1} + C r_{j}^{2} {\\gamma}_{2,0,0} + C r_{j} {\\gamma}_{0,0,1} + C r_{j} {\\gamma}_{1,0,0} + C {\\gamma}_{0,0,0} - L \\left(r_{j}^{4} {\\gamma}_{2,1,2} + r_{j}^{3} {\\gamma}_{1,1,2} + r_{j}^{3} {\\gamma}_{2,1,1} + r_{j}^{2} {\\gamma}_{1,0,2} + r_{j}^{2} {\\gamma}_{1,1,1} + r_{j}^{2} {\\gamma}_{2,1,0} + r_{j} {\\gamma}_{1,0,1} + r_{j} {\\gamma}_{1,1,0} + {\\gamma}_{1,0,0}\\right)\\right)$"
      ],
      "text/plain": [
       "    C - 1           C ⎛     4                       3                       3 \n",
       "(-L)     ⋅(-L + r_j) ⋅⎝C⋅r_j ⋅gamma[2, 0, 2] + C⋅r_j ⋅gamma[1, 0, 2] + C⋅r_j ⋅\n",
       "\n",
       "                      2                       2                       2       \n",
       "gamma[2, 0, 1] + C⋅r_j ⋅gamma[0, 0, 2] + C⋅r_j ⋅gamma[1, 0, 1] + C⋅r_j ⋅gamma[\n",
       "\n",
       "                                                                              \n",
       "2, 0, 0] + C⋅r_j⋅gamma[0, 0, 1] + C⋅r_j⋅gamma[1, 0, 0] + C⋅gamma[0, 0, 0] - L⋅\n",
       "\n",
       "⎛   4                     3                     3                     2       \n",
       "⎝r_j ⋅gamma[2, 1, 2] + r_j ⋅gamma[1, 1, 2] + r_j ⋅gamma[2, 1, 1] + r_j ⋅gamma[\n",
       "\n",
       "              2                     2                                         \n",
       "1, 0, 2] + r_j ⋅gamma[1, 1, 1] + r_j ⋅gamma[2, 1, 0] + r_j⋅gamma[1, 0, 1] + r_\n",
       "\n",
       "                                 ⎞⎞\n",
       "j⋅gamma[1, 1, 0] + gamma[1, 0, 0]⎠⎠"
      ]
     },
     "execution_count": 135,
     "metadata": {},
     "output_type": "execute_result"
    }
   ],
   "source": [
    "simplify(expand(ftmp_en))"
   ]
  },
  {
   "cell_type": "code",
   "execution_count": 136,
   "metadata": {},
   "outputs": [
    {
     "data": {
      "image/png": "[encoded data removed]",
      "text/latex": [
       "$\\displaystyle C r_{j}^{4} {\\gamma}_{2,0,2} + C r_{j}^{3} {\\gamma}_{1,0,2} + C r_{j}^{3} {\\gamma}_{2,0,1} + C r_{j}^{2} {\\gamma}_{0,0,2} + C r_{j}^{2} {\\gamma}_{1,0,1} + C r_{j}^{2} {\\gamma}_{2,0,0} + C r_{j} {\\gamma}_{0,0,1} + C r_{j} {\\gamma}_{1,0,0} + C {\\gamma}_{0,0,0} - L \\left(r_{j}^{4} {\\gamma}_{2,1,2} + r_{j}^{3} {\\gamma}_{1,1,2} + r_{j}^{3} {\\gamma}_{2,1,1} + r_{j}^{2} {\\gamma}_{1,0,2} + r_{j}^{2} {\\gamma}_{1,1,1} + r_{j}^{2} {\\gamma}_{2,1,0} + r_{j} {\\gamma}_{1,0,1} + r_{j} {\\gamma}_{1,1,0} + {\\gamma}_{1,0,0}\\right)$"
      ],
      "text/plain": [
       "     4                       3                       3                       2\n",
       "C⋅r_j ⋅gamma[2, 0, 2] + C⋅r_j ⋅gamma[1, 0, 2] + C⋅r_j ⋅gamma[2, 0, 1] + C⋅r_j \n",
       "\n",
       "                       2                       2                              \n",
       "⋅gamma[0, 0, 2] + C⋅r_j ⋅gamma[1, 0, 1] + C⋅r_j ⋅gamma[2, 0, 0] + C⋅r_j⋅gamma[\n",
       "\n",
       "                                                       ⎛   4                  \n",
       "0, 0, 1] + C⋅r_j⋅gamma[1, 0, 0] + C⋅gamma[0, 0, 0] - L⋅⎝r_j ⋅gamma[2, 1, 2] + \n",
       "\n",
       "   3                     3                     2                     2        \n",
       "r_j ⋅gamma[1, 1, 2] + r_j ⋅gamma[2, 1, 1] + r_j ⋅gamma[1, 0, 2] + r_j ⋅gamma[1\n",
       "\n",
       "             2                                                                \n",
       ", 1, 1] + r_j ⋅gamma[2, 1, 0] + r_j⋅gamma[1, 0, 1] + r_j⋅gamma[1, 1, 0] + gamm\n",
       "\n",
       "          ⎞\n",
       "a[1, 0, 0]⎠"
      ]
     },
     "execution_count": 136,
     "metadata": {},
     "output_type": "execute_result"
    }
   ],
   "source": [
    "# Remove the (-L)**(C-1) * (r_j -L)**C part\n",
    "simplify(expand(ftmp_en)).args[2]"
   ]
  },
  {
   "cell_type": "code",
   "execution_count": 137,
   "metadata": {},
   "outputs": [
    {
     "data": {
      "image/png": "[encoded data removed]",
      "text/latex": [
       "$\\displaystyle - \\frac{C \\left(- L\\right)^{C} \\left(- L + r_{j}\\right)^{C} \\left(r_{j}^{2} \\left(r_{j}^{2} {\\gamma}_{2,0,2} + r_{j} {\\gamma}_{2,0,1} + {\\gamma}_{2,0,0}\\right) + r_{j}^{2} {\\gamma}_{0,0,2} + r_{j} \\left(r_{j}^{2} {\\gamma}_{1,0,2} + {\\gamma}_{1,0,0}\\right) + {\\gamma}_{0,0,0}\\right)}{L} + \\left(- L\\right)^{C} \\left(- L + r_{j}\\right)^{C} \\left(r_{j}^{2} \\left(r_{j}^{2} {\\gamma}_{2,1,2} + {\\gamma}_{2,1,0}\\right) + r_{j}^{2} {\\gamma}_{1,0,2} + r_{j} \\left(r_{j}^{2} {\\gamma}_{1,1,2} - 2 r_{j} {\\gamma}_{2,0,1} + {\\gamma}_{1,1,0}\\right) + {\\gamma}_{1,0,0}\\right)$"
      ],
      "text/plain": [
       "        C           C ⎛   2 ⎛   2                                             \n",
       "  C⋅(-L) ⋅(-L + r_j) ⋅⎝r_j ⋅⎝r_j ⋅gamma[2, 0, 2] + r_j⋅gamma[2, 0, 1] + gamma[\n",
       "- ────────────────────────────────────────────────────────────────────────────\n",
       "                                                                              \n",
       "\n",
       "        ⎞      2                      ⎛   2                                ⎞  \n",
       "2, 0, 0]⎠ + r_j ⋅gamma[0, 0, 2] + r_j⋅⎝r_j ⋅gamma[1, 0, 2] + gamma[1, 0, 0]⎠ +\n",
       "──────────────────────────────────────────────────────────────────────────────\n",
       "        L                                                                     \n",
       "\n",
       "               ⎞                                                              \n",
       " gamma[0, 0, 0]⎠       C           C ⎛   2 ⎛   2                              \n",
       "──────────────── + (-L) ⋅(-L + r_j) ⋅⎝r_j ⋅⎝r_j ⋅gamma[2, 1, 2] + gamma[2, 1, \n",
       "                                                                              \n",
       "\n",
       "                                                                              \n",
       "  ⎞      2                      ⎛   2                                         \n",
       "0]⎠ + r_j ⋅gamma[1, 0, 2] + r_j⋅⎝r_j ⋅gamma[1, 1, 2] - 2⋅r_j⋅gamma[2, 0, 1] + \n",
       "                                                                              \n",
       "\n",
       "                                 \n",
       "              ⎞                 ⎞\n",
       "gamma[1, 1, 0]⎠ + gamma[1, 0, 0]⎠\n",
       "                                 "
      ]
     },
     "execution_count": 137,
     "metadata": {},
     "output_type": "execute_result"
    }
   ],
   "source": [
    "# Put in constraints from e-e cusp\n",
    "ftmp_en2 = ftmp_en.subs(ee_soln)\n",
    "ftmp_en2"
   ]
  },
  {
   "cell_type": "code",
   "execution_count": 138,
   "metadata": {},
   "outputs": [
    {
     "data": {
      "image/png": "[encoded data removed]",
      "text/latex": [
       "$\\displaystyle - \\frac{\\left(- L + r_{j}\\right)^{C} \\left(C \\left(- L\\right)^{C} \\left(r_{j}^{2} \\left(r_{j}^{2} {\\gamma}_{2,0,2} + r_{j} {\\gamma}_{2,0,1} + {\\gamma}_{2,0,0}\\right) + r_{j}^{2} {\\gamma}_{0,0,2} + r_{j} \\left(r_{j}^{2} {\\gamma}_{1,0,2} + {\\gamma}_{1,0,0}\\right) + {\\gamma}_{0,0,0}\\right) + \\left(- L\\right)^{C + 1} \\left(- r_{j}^{2} \\left(- r_{j}^{2} {\\gamma}_{2,1,2} - {\\gamma}_{2,1,0}\\right) + r_{j}^{2} {\\gamma}_{1,0,2} + r_{j} \\left(r_{j}^{2} {\\gamma}_{1,1,2} - 2 r_{j} {\\gamma}_{2,0,1} + {\\gamma}_{1,1,0}\\right) + {\\gamma}_{1,0,0}\\right)\\right)}{L}$"
      ],
      "text/plain": [
       "           C ⎛      C ⎛   2 ⎛   2                                             \n",
       "-(-L + r_j) ⋅⎝C⋅(-L) ⋅⎝r_j ⋅⎝r_j ⋅gamma[2, 0, 2] + r_j⋅gamma[2, 0, 1] + gamma[\n",
       "──────────────────────────────────────────────────────────────────────────────\n",
       "                                                                              \n",
       "\n",
       "        ⎞      2                      ⎛   2                                ⎞  \n",
       "2, 0, 0]⎠ + r_j ⋅gamma[0, 0, 2] + r_j⋅⎝r_j ⋅gamma[1, 0, 2] + gamma[1, 0, 0]⎠ +\n",
       "──────────────────────────────────────────────────────────────────────────────\n",
       "                                                                              \n",
       "\n",
       "               ⎞       C + 1 ⎛     2 ⎛     2                                ⎞ \n",
       " gamma[0, 0, 0]⎠ + (-L)     ⋅⎝- r_j ⋅⎝- r_j ⋅gamma[2, 1, 2] - gamma[2, 1, 0]⎠ \n",
       "──────────────────────────────────────────────────────────────────────────────\n",
       "               L                                                              \n",
       "\n",
       "     2                      ⎛   2                                             \n",
       "+ r_j ⋅gamma[1, 0, 2] + r_j⋅⎝r_j ⋅gamma[1, 1, 2] - 2⋅r_j⋅gamma[2, 0, 1] + gamm\n",
       "──────────────────────────────────────────────────────────────────────────────\n",
       "                                                                              \n",
       "\n",
       "          ⎞                 ⎞⎞ \n",
       "a[1, 1, 0]⎠ + gamma[1, 0, 0]⎠⎠ \n",
       "───────────────────────────────\n",
       "                               "
      ]
     },
     "execution_count": 138,
     "metadata": {},
     "output_type": "execute_result"
    }
   ],
   "source": [
    "simplify(ftmp_en2)"
   ]
  },
  {
   "cell_type": "code",
   "execution_count": 143,
   "metadata": {},
   "outputs": [
    {
     "data": {
      "image/png": "[encoded data removed]",
      "text/latex": [
       "$\\displaystyle \\left(- L\\right)^{C - 1} \\left(- L + r_{j}\\right)^{C} \\left(C r_{j}^{4} {\\gamma}_{2,0,2} + C r_{j}^{3} {\\gamma}_{1,0,2} + C r_{j}^{3} {\\gamma}_{2,0,1} + C r_{j}^{2} {\\gamma}_{0,0,2} + C r_{j}^{2} {\\gamma}_{2,0,0} + C r_{j} {\\gamma}_{1,0,0} + C {\\gamma}_{0,0,0} - L \\left(r_{j}^{4} {\\gamma}_{2,1,2} + r_{j}^{3} {\\gamma}_{1,1,2} + r_{j}^{2} {\\gamma}_{1,0,2} - 2 r_{j}^{2} {\\gamma}_{2,0,1} + r_{j}^{2} {\\gamma}_{2,1,0} + r_{j} {\\gamma}_{1,1,0} + {\\gamma}_{1,0,0}\\right)\\right)$"
      ],
      "text/plain": [
       "    C - 1           C ⎛     4                       3                       3 \n",
       "(-L)     ⋅(-L + r_j) ⋅⎝C⋅r_j ⋅gamma[2, 0, 2] + C⋅r_j ⋅gamma[1, 0, 2] + C⋅r_j ⋅\n",
       "\n",
       "                      2                       2                               \n",
       "gamma[2, 0, 1] + C⋅r_j ⋅gamma[0, 0, 2] + C⋅r_j ⋅gamma[2, 0, 0] + C⋅r_j⋅gamma[1\n",
       "\n",
       "                               ⎛   4                     3                    \n",
       ", 0, 0] + C⋅gamma[0, 0, 0] - L⋅⎝r_j ⋅gamma[2, 1, 2] + r_j ⋅gamma[1, 1, 2] + r_\n",
       "\n",
       " 2                       2                     2                              \n",
       "j ⋅gamma[1, 0, 2] - 2⋅r_j ⋅gamma[2, 0, 1] + r_j ⋅gamma[2, 1, 0] + r_j⋅gamma[1,\n",
       "\n",
       "                       ⎞⎞\n",
       " 1, 0] + gamma[1, 0, 0]⎠⎠"
      ]
     },
     "execution_count": 143,
     "metadata": {},
     "output_type": "execute_result"
    }
   ],
   "source": [
    "ftmp_en3 = simplify(expand(ftmp_en2))\n",
    "ftmp_en3"
   ]
  },
  {
   "cell_type": "code",
   "execution_count": 144,
   "metadata": {},
   "outputs": [
    {
     "data": {
      "image/png": "[encoded data removed]",
      "text/latex": [
       "$\\displaystyle C r_{j}^{4} {\\gamma}_{2,0,2} + C r_{j}^{3} {\\gamma}_{1,0,2} + C r_{j}^{3} {\\gamma}_{2,0,1} + C r_{j}^{2} {\\gamma}_{0,0,2} + C r_{j}^{2} {\\gamma}_{2,0,0} + C r_{j} {\\gamma}_{1,0,0} + C {\\gamma}_{0,0,0} - L \\left(r_{j}^{4} {\\gamma}_{2,1,2} + r_{j}^{3} {\\gamma}_{1,1,2} + r_{j}^{2} {\\gamma}_{1,0,2} - 2 r_{j}^{2} {\\gamma}_{2,0,1} + r_{j}^{2} {\\gamma}_{2,1,0} + r_{j} {\\gamma}_{1,1,0} + {\\gamma}_{1,0,0}\\right)$"
      ],
      "text/plain": [
       "     4                       3                       3                       2\n",
       "C⋅r_j ⋅gamma[2, 0, 2] + C⋅r_j ⋅gamma[1, 0, 2] + C⋅r_j ⋅gamma[2, 0, 1] + C⋅r_j \n",
       "\n",
       "                       2                                                      \n",
       "⋅gamma[0, 0, 2] + C⋅r_j ⋅gamma[2, 0, 0] + C⋅r_j⋅gamma[1, 0, 0] + C⋅gamma[0, 0,\n",
       "\n",
       "        ⎛   4                     3                     2                     \n",
       " 0] - L⋅⎝r_j ⋅gamma[2, 1, 2] + r_j ⋅gamma[1, 1, 2] + r_j ⋅gamma[1, 0, 2] - 2⋅r\n",
       "\n",
       "  2                     2                                                     \n",
       "_j ⋅gamma[2, 0, 1] + r_j ⋅gamma[2, 1, 0] + r_j⋅gamma[1, 1, 0] + gamma[1, 0, 0]\n",
       "\n",
       "⎞\n",
       "⎠"
      ]
     },
     "execution_count": 144,
     "metadata": {},
     "output_type": "execute_result"
    }
   ],
   "source": [
    "# Remove the (-L)**(C-1) * (r_j -L)**C part\n",
    "ftmp_en3 = ftmp_en3.subs(sym_subs).args[2]\n",
    "ftmp_en3"
   ]
  },
  {
   "cell_type": "code",
   "execution_count": null,
   "metadata": {},
   "outputs": [],
   "source": []
  },
  {
   "cell_type": "code",
   "execution_count": 145,
   "metadata": {},
   "outputs": [
    {
     "data": {
      "image/png": "[encoded data removed]",
      "text/latex": [
       "$\\displaystyle C {\\gamma}_{0,0,0} - L {\\gamma}_{1,0,0} + r_{j}^{4} \\left(C {\\gamma}_{2,0,2} - L {\\gamma}_{2,1,2}\\right) + r_{j}^{3} \\left(C {\\gamma}_{1,0,2} + C {\\gamma}_{2,0,1} - L {\\gamma}_{1,1,2}\\right) + r_{j}^{2} \\left(C {\\gamma}_{0,0,2} + C {\\gamma}_{2,0,0} - L {\\gamma}_{1,0,2} + 2 L {\\gamma}_{2,0,1} - L {\\gamma}_{2,1,0}\\right) + r_{j} \\left(C {\\gamma}_{1,0,0} - L {\\gamma}_{1,1,0}\\right)$"
      ],
      "text/plain": [
       "                                         4                                    \n",
       "C⋅gamma[0, 0, 0] - L⋅gamma[1, 0, 0] + r_j ⋅(C⋅gamma[2, 0, 2] - L⋅gamma[2, 1, 2\n",
       "\n",
       "        3                                                               2     \n",
       "]) + r_j ⋅(C⋅gamma[1, 0, 2] + C⋅gamma[2, 0, 1] - L⋅gamma[1, 1, 2]) + r_j ⋅(C⋅g\n",
       "\n",
       "                                                                              \n",
       "amma[0, 0, 2] + C⋅gamma[2, 0, 0] - L⋅gamma[1, 0, 2] + 2⋅L⋅gamma[2, 0, 1] - L⋅g\n",
       "\n",
       "                                                          \n",
       "amma[2, 1, 0]) + r_j⋅(C⋅gamma[1, 0, 0] - L⋅gamma[1, 1, 0])"
      ]
     },
     "execution_count": 145,
     "metadata": {},
     "output_type": "execute_result"
    }
   ],
   "source": [
    "# Powers of r_j\n",
    "collect(expand(ftmp_en3),rj)"
   ]
  },
  {
   "cell_type": "code",
   "execution_count": 146,
   "metadata": {},
   "outputs": [
    {
     "data": {
      "image/png": "[encoded data removed]",
      "text/latex": [
       "$\\displaystyle \\operatorname{Poly}{\\left( \\left(C {\\gamma}_{2,0,2} - L {\\gamma}_{2,1,2}\\right) r_{j}^{4} + \\left(C {\\gamma}_{1,0,2} + C {\\gamma}_{2,0,1} - L {\\gamma}_{1,1,2}\\right) r_{j}^{3} + \\left(C {\\gamma}_{0,0,2} + C {\\gamma}_{2,0,0} - L {\\gamma}_{1,0,2} + 2 L {\\gamma}_{2,0,1} - L {\\gamma}_{2,1,0}\\right) r_{j}^{2} + \\left(C {\\gamma}_{1,0,0} - L {\\gamma}_{1,1,0}\\right) r_{j} + C {\\gamma}_{0,0,0} - L {\\gamma}_{1,0,0}, r_{j}, domain=EX \\right)}$"
      ],
      "text/plain": [
       "Poly((C*gamma[2, 0, 2] - L*gamma[2, 1, 2])*r_j**4 + (C*gamma[1, 0, 2] + C*gamm\n",
       "a[2, 0, 1] - L*gamma[1, 1, 2])*r_j**3 + (C*gamma[0, 0, 2] + C*gamma[2, 0, 0] -\n",
       " L*gamma[1, 0, 2] + 2*L*gamma[2, 0, 1] - L*gamma[2, 1, 0])*r_j**2 + (C*gamma[1\n",
       ", 0, 0] - L*gamma[1, 1, 0])*r_j + C*gamma[0, 0, 0] - L*gamma[1, 0, 0], r_j, do\n",
       "main='EX')"
      ]
     },
     "execution_count": 146,
     "metadata": {},
     "output_type": "execute_result"
    }
   ],
   "source": [
    "# Convert to polynomial to extract coefficients\n",
    "pe3 = poly(ftmp_en3,rj)\n",
    "pe3"
   ]
  },
  {
   "cell_type": "code",
   "execution_count": 114,
   "metadata": {},
   "outputs": [
    {
     "name": "stdout",
     "output_type": "stream",
     "text": [
      "5\n"
     ]
    },
    {
     "data": {
      "image/png": "[encoded data removed]",
      "text/latex": [
       "$\\displaystyle \\left[ C {\\gamma}_{2,0,2} - L {\\gamma}_{2,1,2}, \\  C {\\gamma}_{1,0,2} + C {\\gamma}_{2,0,1} - L {\\gamma}_{1,1,2}, \\  C {\\gamma}_{0,0,2} + C {\\gamma}_{2,0,0} - L {\\gamma}_{1,0,2} + 2 L {\\gamma}_{2,0,1} - L {\\gamma}_{2,1,0}, \\  C {\\gamma}_{1,0,0} - L {\\gamma}_{1,1,0}, \\  C {\\gamma}_{0,0,0} - L {\\gamma}_{1,0,0}\\right]$"
      ],
      "text/plain": [
       "[C⋅gamma[2, 0, 2] - L⋅gamma[2, 1, 2], C⋅gamma[1, 0, 2] + C⋅gamma[2, 0, 1] - L⋅\n",
       "gamma[1, 1, 2], C⋅gamma[0, 0, 2] + C⋅gamma[2, 0, 0] - L⋅gamma[1, 0, 2] + 2⋅L⋅g\n",
       "amma[2, 0, 1] - L⋅gamma[2, 1, 0], C⋅gamma[1, 0, 0] - L⋅gamma[1, 1, 0], C⋅gamma\n",
       "[0, 0, 0] - L⋅gamma[1, 0, 0]]"
      ]
     },
     "execution_count": 114,
     "metadata": {},
     "output_type": "execute_result"
    }
   ],
   "source": [
    "pe4 = pe3.all_coeffs()\n",
    "print(len(pe4))\n",
    "pe4"
   ]
  },
  {
   "cell_type": "code",
   "execution_count": 147,
   "metadata": {
    "scrolled": true
   },
   "outputs": [
    {
     "data": {
      "image/png": "[encoded data removed]",
      "text/latex": [
       "$\\displaystyle \\left\\{\\left( \\frac{C {\\gamma}_{1,0,2}}{L}, \\  {\\gamma}_{2,0,2}, \\  \\frac{L {\\gamma}_{1,0,0}}{C}, \\  \\frac{- C {\\gamma}_{2,0,0} - C {\\gamma}_{2,0,2} + L \\left({\\gamma}_{0,0,2} + {\\gamma}_{2,1,0}\\right)}{2 L}, \\  \\frac{C \\left(- C \\left({\\gamma}_{2,0,0} + {\\gamma}_{2,0,2}\\right) + L \\left(3 {\\gamma}_{0,0,2} + {\\gamma}_{2,1,0}\\right)\\right)}{2 L^{2}}, \\  {\\gamma}_{1,0,2}, \\  {\\gamma}_{0,0,2}, \\  {\\gamma}_{2,0,0}, \\  \\frac{C {\\gamma}_{1,0,0}}{L}, \\  {\\gamma}_{2,1,0}, \\  {\\gamma}_{1,0,0}\\right)\\right\\}$"
      ],
      "text/plain": [
       "⎧⎛C⋅gamma[1, 0, 2]                  L⋅gamma[1, 0, 0]  -C⋅gamma[2, 0, 0] - C⋅ga\n",
       "⎪⎜────────────────, gamma[2, 0, 2], ────────────────, ────────────────────────\n",
       "⎨⎜       L                                 C                                  \n",
       "⎪⎝                                                                            \n",
       "⎩                                                                             \n",
       "\n",
       "mma[2, 0, 2] + L⋅(gamma[0, 0, 2] + gamma[2, 1, 0])  C⋅(-C⋅(gamma[2, 0, 0] + ga\n",
       "──────────────────────────────────────────────────, ──────────────────────────\n",
       "           2⋅L                                                                \n",
       "                                                                              \n",
       "                                                                              \n",
       "\n",
       "mma[2, 0, 2]) + L⋅(3⋅gamma[0, 0, 2] + gamma[2, 1, 0]))                        \n",
       "──────────────────────────────────────────────────────, gamma[1, 0, 2], gamma[\n",
       "               2                                                              \n",
       "            2⋅L                                                               \n",
       "                                                                              \n",
       "\n",
       "                          C⋅gamma[1, 0, 0]                                ⎞⎫\n",
       "0, 0, 2], gamma[2, 0, 0], ────────────────, gamma[2, 1, 0], gamma[1, 0, 0]⎟⎪\n",
       "                                 L                                        ⎟⎬\n",
       "                                                                          ⎠⎪\n",
       "                                                                           ⎭"
      ]
     },
     "execution_count": 147,
     "metadata": {},
     "output_type": "execute_result"
    }
   ],
   "source": [
    "# Solve can be very slow as the expansion size increases\n",
    "#en_soln = solve(pe4)\n",
    "# Using linsolve is faster\n",
    "soln_var = {a for a in ftmp_en3.free_symbols if type(a) is Indexed}\n",
    "en_soln = linsolve(pe4, soln_var)\n",
    "\n",
    "en_soln"
   ]
  },
  {
   "cell_type": "code",
   "execution_count": 148,
   "metadata": {},
   "outputs": [
    {
     "data": {
      "image/png": "[encoded data removed]",
      "text/latex": [
       "$\\displaystyle \\left\\{ {\\gamma}_{0,0,0} : \\frac{L {\\gamma}_{1,0,0}}{C}, \\  {\\gamma}_{0,0,2} : {\\gamma}_{0,0,2}, \\  {\\gamma}_{1,0,0} : {\\gamma}_{1,0,0}, \\  {\\gamma}_{1,0,2} : {\\gamma}_{1,0,2}, \\  {\\gamma}_{1,1,0} : \\frac{C {\\gamma}_{1,0,0}}{L}, \\  {\\gamma}_{1,1,2} : \\frac{C \\left(- C \\left({\\gamma}_{2,0,0} + {\\gamma}_{2,0,2}\\right) + L \\left(3 {\\gamma}_{0,0,2} + {\\gamma}_{2,1,0}\\right)\\right)}{2 L^{2}}, \\  {\\gamma}_{2,0,0} : {\\gamma}_{2,0,0}, \\  {\\gamma}_{2,0,1} : \\frac{- C {\\gamma}_{2,0,0} - C {\\gamma}_{2,0,2} + L \\left({\\gamma}_{0,0,2} + {\\gamma}_{2,1,0}\\right)}{2 L}, \\  {\\gamma}_{2,0,2} : {\\gamma}_{2,0,2}, \\  {\\gamma}_{2,1,0} : {\\gamma}_{2,1,0}, \\  {\\gamma}_{2,1,2} : \\frac{C {\\gamma}_{1,0,2}}{L}\\right\\}$"
      ],
      "text/plain": [
       "⎧                L⋅gamma[1, 0, 0]                                             \n",
       "⎪gamma[0, 0, 0]: ────────────────, gamma[0, 0, 2]: gamma[0, 0, 2], gamma[1, 0,\n",
       "⎨                       C                                                     \n",
       "⎪                                                                             \n",
       "⎩                                                                             \n",
       "\n",
       "                                                                     C⋅gamma[1\n",
       " 0]: gamma[1, 0, 0], gamma[1, 0, 2]: gamma[1, 0, 2], gamma[1, 1, 0]: ─────────\n",
       "                                                                            L \n",
       "                                                                              \n",
       "                                                                              \n",
       "\n",
       ", 0, 0]                  C⋅(-C⋅(gamma[2, 0, 0] + gamma[2, 0, 2]) + L⋅(3⋅gamma[\n",
       "───────, gamma[1, 1, 2]: ─────────────────────────────────────────────────────\n",
       "                                                                  2           \n",
       "                                                               2⋅L            \n",
       "                                                                              \n",
       "\n",
       "0, 0, 2] + gamma[2, 1, 0]))                                                  -\n",
       "───────────────────────────, gamma[2, 0, 0]: gamma[2, 0, 0], gamma[2, 0, 1]: ─\n",
       "                                                                              \n",
       "                                                                              \n",
       "                                                                              \n",
       "\n",
       "C⋅gamma[2, 0, 0] - C⋅gamma[2, 0, 2] + L⋅(gamma[0, 0, 2] + gamma[2, 1, 0])     \n",
       "─────────────────────────────────────────────────────────────────────────, gam\n",
       "                                  2⋅L                                         \n",
       "                                                                              \n",
       "                                                                              \n",
       "\n",
       "                                                                             C\n",
       "ma[2, 0, 2]: gamma[2, 0, 2], gamma[2, 1, 0]: gamma[2, 1, 0], gamma[2, 1, 2]: ─\n",
       "                                                                              \n",
       "                                                                              \n",
       "                                                                              \n",
       "\n",
       "⋅gamma[1, 0, 2]⎫\n",
       "───────────────⎪\n",
       "      L        ⎬\n",
       "               ⎪\n",
       "               ⎭"
      ]
     },
     "execution_count": 148,
     "metadata": {},
     "output_type": "execute_result"
    }
   ],
   "source": [
    "# Don't want the C=0,L=0 solution when using solve\n",
    "#en_soln2 = en_soln[1]\n",
    "#en_soln2\n",
    "# If using linsolve\n",
    "for tmp_soln in en_soln:\n",
    "    en_soln2 = {g:v for g,v in zip(soln_var, tmp_soln)}\n",
    "en_soln2"
   ]
  },
  {
   "cell_type": "code",
   "execution_count": 149,
   "metadata": {},
   "outputs": [
    {
     "data": {
      "image/png": "[encoded data removed]",
      "text/latex": [
       "$\\displaystyle \\frac{\\left(- L + r_{i}\\right)^{C} \\left(- L + r_{j}\\right)^{C} \\left(- C^{3} r_{i} r_{ij}^{2} r_{j} \\left({\\gamma}_{2,0,0} + {\\gamma}_{2,0,2}\\right) + C^{2} L \\left(2 r_{i}^{2} r_{ij}^{2} r_{j} {\\gamma}_{1,0,2} - r_{i}^{2} r_{ij} {\\gamma}_{2,0,0} - r_{i}^{2} r_{ij} {\\gamma}_{2,0,2} + 2 r_{i} r_{ij}^{2} r_{j}^{2} {\\gamma}_{1,0,2} + 3 r_{i} r_{ij}^{2} r_{j} {\\gamma}_{0,0,2} + r_{i} r_{ij}^{2} r_{j} {\\gamma}_{2,1,0} + 2 r_{i} r_{ij} r_{j} {\\gamma}_{2,0,0} + 2 r_{i} r_{ij} r_{j} {\\gamma}_{2,0,2} + 2 r_{i} r_{j} {\\gamma}_{1,0,0} - r_{ij} r_{j}^{2} {\\gamma}_{2,0,0} - r_{ij} r_{j}^{2} {\\gamma}_{2,0,2}\\right) + C L^{2} \\left(2 r_{i}^{2} r_{ij}^{2} r_{j}^{2} {\\gamma}_{2,2,2} + 2 r_{i}^{2} r_{ij}^{2} {\\gamma}_{2,0,2} + r_{i}^{2} r_{ij} {\\gamma}_{0,0,2} + r_{i}^{2} r_{ij} {\\gamma}_{2,1,0} + 2 r_{i}^{2} r_{j}^{2} {\\gamma}_{2,2,0} + 2 r_{i}^{2} r_{j} {\\gamma}_{2,1,0} + 2 r_{i}^{2} {\\gamma}_{2,0,0} + 2 r_{i} r_{ij}^{2} {\\gamma}_{1,0,2} - 2 r_{i} r_{ij} r_{j} {\\gamma}_{0,0,2} - 2 r_{i} r_{ij} r_{j} {\\gamma}_{2,1,0} + 2 r_{i} r_{j}^{2} {\\gamma}_{2,1,0} + 2 r_{i} {\\gamma}_{1,0,0} + 2 r_{ij}^{2} r_{j}^{2} {\\gamma}_{2,0,2} + 2 r_{ij}^{2} r_{j} {\\gamma}_{1,0,2} + 2 r_{ij}^{2} {\\gamma}_{0,0,2} + r_{ij} r_{j}^{2} {\\gamma}_{0,0,2} + r_{ij} r_{j}^{2} {\\gamma}_{2,1,0} + 2 r_{j}^{2} {\\gamma}_{2,0,0} + 2 r_{j} {\\gamma}_{1,0,0}\\right) + 2 L^{3} {\\gamma}_{1,0,0}\\right)}{2 C L^{2}}$"
      ],
      "text/plain": [
       "         C           C ⎛   3        2                                         \n",
       "(-L + rᵢ) ⋅(-L + r_j) ⋅⎝- C ⋅rᵢ⋅r_ij ⋅r_j⋅(gamma[2, 0, 0] + gamma[2, 0, 2]) + \n",
       "──────────────────────────────────────────────────────────────────────────────\n",
       "                                                                              \n",
       "                                                                              \n",
       "\n",
       " 2   ⎛    2     2                        2                         2          \n",
       "C ⋅L⋅⎝2⋅rᵢ ⋅r_ij ⋅r_j⋅gamma[1, 0, 2] - rᵢ ⋅r_ij⋅gamma[2, 0, 0] - rᵢ ⋅r_ij⋅gamm\n",
       "──────────────────────────────────────────────────────────────────────────────\n",
       "                                                                              \n",
       "                                                                              \n",
       "\n",
       "                      2    2                           2                      \n",
       "a[2, 0, 2] + 2⋅rᵢ⋅r_ij ⋅r_j ⋅gamma[1, 0, 2] + 3⋅rᵢ⋅r_ij ⋅r_j⋅gamma[0, 0, 2] + \n",
       "──────────────────────────────────────────────────────────────────────────────\n",
       "                                                                              \n",
       "                                                                              \n",
       "\n",
       "       2                                                                      \n",
       "rᵢ⋅r_ij ⋅r_j⋅gamma[2, 1, 0] + 2⋅rᵢ⋅r_ij⋅r_j⋅gamma[2, 0, 0] + 2⋅rᵢ⋅r_ij⋅r_j⋅gam\n",
       "──────────────────────────────────────────────────────────────────────────────\n",
       "                                                                              \n",
       "                                                                              \n",
       "\n",
       "                                                2                          2  \n",
       "ma[2, 0, 2] + 2⋅rᵢ⋅r_j⋅gamma[1, 0, 0] - r_ij⋅r_j ⋅gamma[2, 0, 0] - r_ij⋅r_j ⋅g\n",
       "──────────────────────────────────────────────────────────────────────────────\n",
       "                                                                              \n",
       "                                                                              \n",
       "\n",
       "             ⎞      2 ⎛    2     2    2                      2     2          \n",
       "amma[2, 0, 2]⎠ + C⋅L ⋅⎝2⋅rᵢ ⋅r_ij ⋅r_j ⋅gamma[2, 2, 2] + 2⋅rᵢ ⋅r_ij ⋅gamma[2, \n",
       "──────────────────────────────────────────────────────────────────────────────\n",
       "                                                                              \n",
       "                                                                              \n",
       "\n",
       "          2                         2                           2    2        \n",
       "0, 2] + rᵢ ⋅r_ij⋅gamma[0, 0, 2] + rᵢ ⋅r_ij⋅gamma[2, 1, 0] + 2⋅rᵢ ⋅r_j ⋅gamma[2\n",
       "──────────────────────────────────────────────────────────────────────────────\n",
       "          2                                                                   \n",
       "     2⋅C⋅L                                                                    \n",
       "\n",
       "              2                          2                           2        \n",
       ", 2, 0] + 2⋅rᵢ ⋅r_j⋅gamma[2, 1, 0] + 2⋅rᵢ ⋅gamma[2, 0, 0] + 2⋅rᵢ⋅r_ij ⋅gamma[1\n",
       "──────────────────────────────────────────────────────────────────────────────\n",
       "                                                                              \n",
       "                                                                              \n",
       "\n",
       "                                                                              \n",
       ", 0, 2] - 2⋅rᵢ⋅r_ij⋅r_j⋅gamma[0, 0, 2] - 2⋅rᵢ⋅r_ij⋅r_j⋅gamma[2, 1, 0] + 2⋅rᵢ⋅r\n",
       "──────────────────────────────────────────────────────────────────────────────\n",
       "                                                                              \n",
       "                                                                              \n",
       "\n",
       "  2                                              2    2                       \n",
       "_j ⋅gamma[2, 1, 0] + 2⋅rᵢ⋅gamma[1, 0, 0] + 2⋅r_ij ⋅r_j ⋅gamma[2, 0, 2] + 2⋅r_i\n",
       "──────────────────────────────────────────────────────────────────────────────\n",
       "                                                                              \n",
       "                                                                              \n",
       "\n",
       " 2                            2                          2                    \n",
       "j ⋅r_j⋅gamma[1, 0, 2] + 2⋅r_ij ⋅gamma[0, 0, 2] + r_ij⋅r_j ⋅gamma[0, 0, 2] + r_\n",
       "──────────────────────────────────────────────────────────────────────────────\n",
       "                                                                              \n",
       "                                                                              \n",
       "\n",
       "      2                       2                                      ⎞      3 \n",
       "ij⋅r_j ⋅gamma[2, 1, 0] + 2⋅r_j ⋅gamma[2, 0, 0] + 2⋅r_j⋅gamma[1, 0, 0]⎠ + 2⋅L ⋅\n",
       "──────────────────────────────────────────────────────────────────────────────\n",
       "                                                                              \n",
       "                                                                              \n",
       "\n",
       "              ⎞\n",
       "gamma[1, 0, 0]⎠\n",
       "───────────────\n",
       "               \n",
       "               "
      ]
     },
     "execution_count": 149,
     "metadata": {},
     "output_type": "execute_result"
    }
   ],
   "source": [
    "# Final expression with all the constraints inserted\n",
    "ftmp_out = ftmp.subs(sym_subs).subs(ee_soln).subs(en_soln2)\n",
    "ftmp_out2 = simplify(expand(ftmp_out))\n",
    "ftmp_out2"
   ]
  },
  {
   "cell_type": "code",
   "execution_count": 150,
   "metadata": {},
   "outputs": [
    {
     "data": {
      "image/png": "[encoded data removed]",
      "text/latex": [
       "$\\displaystyle \\left\\{{\\gamma}_{0,0,2}, {\\gamma}_{1,0,0}, {\\gamma}_{1,0,2}, {\\gamma}_{2,0,0}, {\\gamma}_{2,0,2}, {\\gamma}_{2,1,0}, {\\gamma}_{2,2,0}, {\\gamma}_{2,2,2}\\right\\}$"
      ],
      "text/plain": [
       "{gamma[0, 0, 2], gamma[1, 0, 0], gamma[1, 0, 2], gamma[2, 0, 0], gamma[2, 0, 2\n",
       "], gamma[2, 1, 0], gamma[2, 2, 0], gamma[2, 2, 2]}"
      ]
     },
     "execution_count": 150,
     "metadata": {},
     "output_type": "execute_result"
    }
   ],
   "source": [
    "# Find the free gamma values\n",
    "{a for a in ftmp_out2.free_symbols if type(a) is Indexed}"
   ]
  },
  {
   "cell_type": "code",
   "execution_count": null,
   "metadata": {},
   "outputs": [],
   "source": []
  },
  {
   "cell_type": "markdown",
   "metadata": {},
   "source": [
    "## Formula from Appendix of the paper"
   ]
  },
  {
   "cell_type": "code",
   "execution_count": 123,
   "metadata": {},
   "outputs": [
    {
     "name": "stdout",
     "output_type": "stream",
     "text": [
      "Number of gamma values (after symmetry) :  18\n",
      "Number of e-e constraints :  5\n",
      "Number of e-n constraints :  5\n",
      "Number of free param =  8\n"
     ]
    }
   ],
   "source": [
    "NN_en = 2\n",
    "NN_ee = 2\n",
    "Nc_en = 2*NN_en + 1\n",
    "Nc_ee = NN_en + NN_ee + 1\n",
    "N_gamma = (NN_en + 1)*(NN_en+2)//2 * (NN_ee + 1)\n",
    "print('Number of gamma values (after symmetry) : ',N_gamma)\n",
    "print('Number of e-e constraints : ',Nc_ee)\n",
    "print('Number of e-n constraints : ',Nc_en)\n",
    "print('Number of free param = ',N_gamma - Nc_ee - Nc_en)\n",
    "\n",
    "# Note, for N_en=1 and N_en=1, this formula doesn't match the above derivation. \n",
    "# For all higher values it does match."
   ]
  },
  {
   "cell_type": "code",
   "execution_count": 120,
   "metadata": {},
   "outputs": [
    {
     "name": "stdout",
     "output_type": "stream",
     "text": [
      "0\n",
      "k:  0  terms:  2*gamma[0, 0, 1]\n",
      "1\n",
      "k:  1  terms:  2*gamma[1, 0, 1]\n",
      "2\n",
      "k:  2  terms:  2*gamma[1, 1, 1] + 2*gamma[2, 0, 1]\n",
      "3\n",
      "k:  3  terms:  2*gamma[2, 1, 1]\n",
      "4\n",
      "k:  4  terms:  0\n"
     ]
    }
   ],
   "source": [
    "# For the electron-electron cusp\n",
    "for k in range(0,2*NN_en+1):\n",
    "    terms = 0\n",
    "    print(k)\n",
    "    for l in range(0,NN_en+1):\n",
    "        for m in range(0,l):\n",
    "            if l+m == k:\n",
    "                #print(' ',l,m,'2*gamma[%d,%d,1]'%(l,m))\n",
    "                terms += 2*gamma[l,m,1]\n",
    "    # sum over l,m such that l+m == k and l>m\n",
    "    # plus\n",
    "    # sum over l such that 2l == k\n",
    "    for l in range(0,NN_en):\n",
    "        if 2*l == k:\n",
    "            #print(' ',l,'gamma[%d,%d,1]'%(l,l))\n",
    "            terms += 2*gamma[l,l,1]\n",
    "    print('k: ',k,' terms: ',terms)"
   ]
  },
  {
   "cell_type": "code",
   "execution_count": 121,
   "metadata": {},
   "outputs": [
    {
     "name": "stdout",
     "output_type": "stream",
     "text": [
      "kp:  0  terms:  C*gamma[0, 0, 0] - L*gamma[1, 0, 0]\n",
      "kp:  1  terms:  C*gamma[0, 0, 1] + C*gamma[1, 0, 0] - L*gamma[1, 0, 1] - L*gamma[1, 1, 0]\n",
      "kp:  2  terms:  C*gamma[0, 0, 2] + C*gamma[1, 0, 1] + C*gamma[2, 0, 0] - L*gamma[1, 0, 2] - L*gamma[1, 1, 1] - L*gamma[2, 1, 0]\n",
      "kp:  3  terms:  C*gamma[1, 0, 2] + C*gamma[2, 0, 1] - L*gamma[1, 1, 2] - L*gamma[2, 1, 1]\n",
      "kp:  4  terms:  C*gamma[2, 0, 2] - L*gamma[2, 1, 2]\n"
     ]
    }
   ],
   "source": [
    "# For the electron-nuclear cusp\n",
    "for kp in range(0,NN_en + NN_ee+1):\n",
    "    terms = 0\n",
    "    if kp <= NN_ee:\n",
    "        terms = C*gamma[0,0,kp] - L*gamma[1,0,kp]\n",
    "    # sum of l,n such that l + n == kp and l>=1\n",
    "    for l in range(1,NN_en+1):\n",
    "        for n in range(NN_ee+1):\n",
    "            if l + n == kp:\n",
    "                terms += C*gamma[l,0,n] - L*gamma[l,1,n]\n",
    "    print('kp: ',kp,' terms: ',terms)\n",
    "            \n",
    "    "
   ]
  },
  {
   "cell_type": "code",
   "execution_count": null,
   "metadata": {},
   "outputs": [],
   "source": []
  }
 ],
 "metadata": {
  "kernelspec": {
   "display_name": "Python 3",
   "language": "python",
   "name": "python3"
  },
  "language_info": {
   "codemirror_mode": {
    "name": "ipython",
    "version": 3
   },
   "file_extension": ".py",
   "mimetype": "text/x-python",
   "name": "python",
   "nbconvert_exporter": "python",
   "pygments_lexer": "ipython3",
   "version": "3.7.3"
  }
 },
 "nbformat": 4,
 "nbformat_minor": 1
}
